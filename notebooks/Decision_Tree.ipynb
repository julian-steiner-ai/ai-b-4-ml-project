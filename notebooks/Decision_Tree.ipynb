{
 "cells": [
  {
   "cell_type": "markdown",
   "metadata": {},
   "source": [
    "# Decision Tree"
   ]
  },
  {
   "cell_type": "markdown",
   "metadata": {},
   "source": [
    "## Read and prepare data"
   ]
  },
  {
   "cell_type": "markdown",
   "metadata": {},
   "source": [
    "Define selected features for model:"
   ]
  },
  {
   "cell_type": "code",
   "execution_count": 3,
   "metadata": {
    "vscode": {
     "languageId": "r"
    }
   },
   "outputs": [],
   "source": [
    "selected_features <- c('smoking',\n",
    "                       'gender',\n",
    "                       'age',\n",
    "                       'height.cm.',\n",
    "                       'weight.kg.',\n",
    "                       'systolic',\n",
    "                       'relaxation',\n",
    "                       'fasting.blood.sugar',\n",
    "                       'triglyceride',\n",
    "                       'HDL',\n",
    "                       'hemoglobin',\n",
    "                       'serum.creatinine',\n",
    "                       'ALT',\n",
    "                       'Gtp')"
   ]
  },
  {
   "cell_type": "markdown",
   "metadata": {},
   "source": [
    "Set working directory and read data:"
   ]
  },
  {
   "cell_type": "code",
   "execution_count": 4,
   "metadata": {
    "vscode": {
     "languageId": "r"
    }
   },
   "outputs": [],
   "source": [
    "setwd('/home/steinerj/Documents/ai-b/semester-4/machine-learning/ai-b-4-ml-project/data')"
   ]
  },
  {
   "cell_type": "code",
   "execution_count": 5,
   "metadata": {
    "vscode": {
     "languageId": "r"
    }
   },
   "outputs": [],
   "source": [
    "data <- read.csv(\"smoking.csv\",header=TRUE,sep=\",\",fill=TRUE,stringsAsFactors=TRUE)\n",
    "model.data <- data[,selected_features]"
   ]
  },
  {
   "cell_type": "code",
   "execution_count": 6,
   "metadata": {
    "vscode": {
     "languageId": "r"
    }
   },
   "outputs": [],
   "source": [
    "model.data[,\"smoking\"] <- as.factor(model.data[,\"smoking\"])"
   ]
  },
  {
   "cell_type": "code",
   "execution_count": 7,
   "metadata": {
    "vscode": {
     "languageId": "r"
    }
   },
   "outputs": [
    {
     "data": {
      "text/plain": [
       " smoking   gender         age          height.cm.      weight.kg.    \n",
       " 0:35237   F:20291   Min.   :20.00   Min.   :130.0   Min.   : 30.00  \n",
       " 1:20455   M:35401   1st Qu.:40.00   1st Qu.:160.0   1st Qu.: 55.00  \n",
       "                     Median :40.00   Median :165.0   Median : 65.00  \n",
       "                     Mean   :44.18   Mean   :164.6   Mean   : 65.86  \n",
       "                     3rd Qu.:55.00   3rd Qu.:170.0   3rd Qu.: 75.00  \n",
       "                     Max.   :85.00   Max.   :190.0   Max.   :135.00  \n",
       "    systolic       relaxation  fasting.blood.sugar  triglyceride  \n",
       " Min.   : 71.0   Min.   : 40   Min.   : 46.00      Min.   :  8.0  \n",
       " 1st Qu.:112.0   1st Qu.: 70   1st Qu.: 89.00      1st Qu.: 74.0  \n",
       " Median :120.0   Median : 76   Median : 96.00      Median :108.0  \n",
       " Mean   :121.5   Mean   : 76   Mean   : 99.31      Mean   :126.7  \n",
       " 3rd Qu.:130.0   3rd Qu.: 82   3rd Qu.:104.00      3rd Qu.:160.0  \n",
       " Max.   :240.0   Max.   :146   Max.   :505.00      Max.   :999.0  \n",
       "      HDL           hemoglobin    serum.creatinine       ALT         \n",
       " Min.   :  4.00   Min.   : 4.90   Min.   : 0.1000   Min.   :   1.00  \n",
       " 1st Qu.: 47.00   1st Qu.:13.60   1st Qu.: 0.8000   1st Qu.:  15.00  \n",
       " Median : 55.00   Median :14.80   Median : 0.9000   Median :  21.00  \n",
       " Mean   : 57.29   Mean   :14.62   Mean   : 0.8857   Mean   :  27.04  \n",
       " 3rd Qu.: 66.00   3rd Qu.:15.80   3rd Qu.: 1.0000   3rd Qu.:  31.00  \n",
       " Max.   :618.00   Max.   :21.10   Max.   :11.6000   Max.   :2914.00  \n",
       "      Gtp        \n",
       " Min.   :  1.00  \n",
       " 1st Qu.: 17.00  \n",
       " Median : 25.00  \n",
       " Mean   : 39.95  \n",
       " 3rd Qu.: 43.00  \n",
       " Max.   :999.00  "
      ]
     },
     "metadata": {},
     "output_type": "display_data"
    }
   ],
   "source": [
    "summary(model.data)"
   ]
  },
  {
   "cell_type": "markdown",
   "metadata": {},
   "source": [
    "### Split dataset into training and test set"
   ]
  },
  {
   "cell_type": "code",
   "execution_count": 8,
   "metadata": {
    "vscode": {
     "languageId": "r"
    }
   },
   "outputs": [],
   "source": [
    "n <- length(model.data[,1])\n",
    "index <- sample(1:n,n,replace=FALSE)\n",
    "model.data <- model.data[index,]\n",
    "seventyPercentLimit <- round(length(model.data[,1]) * 0.7,0)\n",
    "model.data.train <- model.data[1:seventyPercentLimit,]\n",
    "model.data.test <- model.data[(seventyPercentLimit+1):n,]"
   ]
  },
  {
   "cell_type": "markdown",
   "metadata": {},
   "source": [
    "## Decision Tree"
   ]
  },
  {
   "cell_type": "markdown",
   "metadata": {},
   "source": [
    "Loading R-Package 'tree':"
   ]
  },
  {
   "cell_type": "code",
   "execution_count": 9,
   "metadata": {
    "vscode": {
     "languageId": "r"
    }
   },
   "outputs": [],
   "source": [
    "library(tree)"
   ]
  },
  {
   "cell_type": "markdown",
   "metadata": {},
   "source": [
    "Compute tree:"
   ]
  },
  {
   "cell_type": "code",
   "execution_count": 21,
   "metadata": {
    "vscode": {
     "languageId": "r"
    }
   },
   "outputs": [],
   "source": [
    "tree <- tree(smoking ~ ., data=model.data.train)\n",
    "tuning <- cv.tree(tree, K=10)\n",
    "t <- which.min(tuning$dev)\n",
    "EndNotes <- tuning$size[t]"
   ]
  },
  {
   "cell_type": "code",
   "execution_count": 22,
   "metadata": {
    "vscode": {
     "languageId": "r"
    }
   },
   "outputs": [],
   "source": [
    "tree_model <- prune.tree(tree,best=EndNotes)"
   ]
  },
  {
   "cell_type": "code",
   "execution_count": 23,
   "metadata": {
    "vscode": {
     "languageId": "r"
    }
   },
   "outputs": [
    {
     "data": {
      "image/png": "[encoded data removed]",
      "text/plain": [
       "plot without title"
      ]
     },
     "metadata": {
      "image/png": {
       "height": 420,
       "width": 420
      }
     },
     "output_type": "display_data"
    }
   ],
   "source": [
    "plot(tree_model)\n",
    "text(tree_model)"
   ]
  },
  {
   "cell_type": "markdown",
   "metadata": {},
   "source": [
    "Calculate the prediction result on the test data:"
   ]
  },
  {
   "cell_type": "code",
   "execution_count": 24,
   "metadata": {
    "vscode": {
     "languageId": "r"
    }
   },
   "outputs": [],
   "source": [
    "X.test <- model.data.test[,selected_features]\n",
    "X.test <- subset(X.test,select=-smoking)"
   ]
  },
  {
   "cell_type": "code",
   "execution_count": 25,
   "metadata": {
    "vscode": {
     "languageId": "r"
    }
   },
   "outputs": [],
   "source": [
    "y.test <- model.data.test[,\"smoking\"]"
   ]
  },
  {
   "cell_type": "code",
   "execution_count": 26,
   "metadata": {
    "vscode": {
     "languageId": "r"
    }
   },
   "outputs": [],
   "source": [
    "predictions <- predict(tree_model,X.test)\n",
    "predictions <- round(predictions[,2])"
   ]
  },
  {
   "cell_type": "markdown",
   "metadata": {},
   "source": [
    "Calculate confusion matrix:"
   ]
  },
  {
   "cell_type": "code",
   "execution_count": 27,
   "metadata": {
    "vscode": {
     "languageId": "r"
    }
   },
   "outputs": [],
   "source": [
    "A <- matrix(0,ncol=2,nrow=2)\n",
    "\n",
    "colnames(A) <- c(\"Real: No smoker\", \" Real: Smoker\")\n",
    "rownames(A) <- c(\"Prognose: No smoker\", \"Prognose: Smoker\") \n",
    "\n",
    "A[1,1] <- sum(ifelse(y.test == 0 & predictions == 0, 1,0))\n",
    "A[1,2] <- sum(ifelse(y.test == 1 & predictions == 0, 1,0))\n",
    "A[2,1] <- sum(ifelse(y.test == 0 & predictions == 1, 1,0))\n",
    "A[2,2] <- sum(ifelse(y.test == 1 & predictions == 1, 1,0))"
   ]
  },
  {
   "cell_type": "code",
   "execution_count": 28,
   "metadata": {
    "vscode": {
     "languageId": "r"
    }
   },
   "outputs": [
    {
     "data": {
      "text/html": [
       "<table class=\"dataframe\">\n",
       "<caption>A matrix: 2 × 2 of type dbl</caption>\n",
       "<thead>\n",
       "\t<tr><th></th><th scope=col>Real: No smoker</th><th scope=col> Real: Smoker</th></tr>\n",
       "</thead>\n",
       "<tbody>\n",
       "\t<tr><th scope=row>Prognose: No smoker</th><td>9376</td><td>3673</td></tr>\n",
       "\t<tr><th scope=row>Prognose: Smoker</th><td>1190</td><td>2469</td></tr>\n",
       "</tbody>\n",
       "</table>\n"
      ],
      "text/latex": [
       "A matrix: 2 × 2 of type dbl\n",
       "\\begin{tabular}{r|ll}\n",
       "  & Real: No smoker &  Real: Smoker\\\\\n",
       "\\hline\n",
       "\tPrognose: No smoker & 9376 & 3673\\\\\n",
       "\tPrognose: Smoker & 1190 & 2469\\\\\n",
       "\\end{tabular}\n"
      ],
      "text/markdown": [
       "\n",
       "A matrix: 2 × 2 of type dbl\n",
       "\n",
       "| <!--/--> | Real: No smoker |  Real: Smoker |\n",
       "|---|---|---|\n",
       "| Prognose: No smoker | 9376 | 3673 |\n",
       "| Prognose: Smoker | 1190 | 2469 |\n",
       "\n"
      ],
      "text/plain": [
       "                    Real: No smoker  Real: Smoker\n",
       "Prognose: No smoker 9376            3673         \n",
       "Prognose: Smoker    1190            2469         "
      ]
     },
     "metadata": {},
     "output_type": "display_data"
    }
   ],
   "source": [
    "A"
   ]
  },
  {
   "cell_type": "markdown",
   "metadata": {},
   "source": [
    "True-Positive-Rate und True-Negative-Rate"
   ]
  },
  {
   "cell_type": "code",
   "execution_count": 29,
   "metadata": {
    "vscode": {
     "languageId": "r"
    }
   },
   "outputs": [
    {
     "data": {
      "text/html": [
       "0.401986323673071"
      ],
      "text/latex": [
       "0.401986323673071"
      ],
      "text/markdown": [
       "0.401986323673071"
      ],
      "text/plain": [
       "[1] 0.4019863"
      ]
     },
     "metadata": {},
     "output_type": "display_data"
    },
    {
     "data": {
      "text/html": [
       "0.887374597766421"
      ],
      "text/latex": [
       "0.887374597766421"
      ],
      "text/markdown": [
       "0.887374597766421"
      ],
      "text/plain": [
       "[1] 0.8873746"
      ]
     },
     "metadata": {},
     "output_type": "display_data"
    }
   ],
   "source": [
    "A[2,2]/(A[1,2]+A[2,2])   # True-Positive-Rate\n",
    "A[1,1]/(A[1,1]+A[2,1])   # True-Negative-Rate"
   ]
  }
 ],
 "metadata": {
  "kernelspec": {
   "display_name": "R",
   "language": "R",
   "name": "ir"
  },
  "language_info": {
   "codemirror_mode": "r",
   "file_extension": ".r",
   "mimetype": "text/x-r-source",
   "name": "R",
   "pygments_lexer": "r",
   "version": "4.1.3"
  },
  "orig_nbformat": 4
 },
 "nbformat": 4,
 "nbformat_minor": 2
}
