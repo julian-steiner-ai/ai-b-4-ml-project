{
 "cells": [
  {
   "cell_type": "markdown",
   "metadata": {},
   "source": [
    "# Machine Learning with SVMs"
   ]
  },
  {
   "cell_type": "markdown",
   "metadata": {},
   "source": [
    "Load package with SVM implementation:"
   ]
  },
  {
   "cell_type": "code",
   "execution_count": 2,
   "metadata": {
    "vscode": {
     "languageId": "r"
    }
   },
   "outputs": [],
   "source": [
    "library(e1071)"
   ]
  },
  {
   "cell_type": "markdown",
   "metadata": {},
   "source": [
    "## Classification with SVR (Suppert-Vector Regression)"
   ]
  },
  {
   "cell_type": "markdown",
   "metadata": {},
   "source": [
    "### Read and prepare data"
   ]
  },
  {
   "cell_type": "markdown",
   "metadata": {},
   "source": [
    "Set working directory and read data:"
   ]
  },
  {
   "cell_type": "code",
   "execution_count": 3,
   "metadata": {
    "vscode": {
     "languageId": "r"
    }
   },
   "outputs": [],
   "source": [
    "selected_features <- c('smoking',\n",
    "                       'gender',\n",
    "                       'age',\n",
    "                       'height.cm.',\n",
    "                       'weight.kg.',\n",
    "                       'systolic',\n",
    "                       'relaxation',\n",
    "                       'fasting.blood.sugar',\n",
    "                       'triglyceride',\n",
    "                       'HDL',\n",
    "                       'hemoglobin',\n",
    "                       'serum.creatinine',\n",
    "                       'ALT',\n",
    "                       'Gtp')"
   ]
  },
  {
   "cell_type": "code",
   "execution_count": 4,
   "metadata": {
    "vscode": {
     "languageId": "r"
    }
   },
   "outputs": [],
   "source": [
    "setwd('/home/steinerj/Documents/ai-b/semester-4/machine-learning/ai-b-4-ml-project/data')"
   ]
  },
  {
   "cell_type": "code",
   "execution_count": 5,
   "metadata": {
    "vscode": {
     "languageId": "r"
    }
   },
   "outputs": [],
   "source": [
    "data <- read.csv(\"smoking.csv\",header=TRUE,sep=\",\",fill=TRUE,stringsAsFactors=TRUE)\n",
    "model.data <- data[,selected_features]"
   ]
  },
  {
   "cell_type": "code",
   "execution_count": 6,
   "metadata": {
    "vscode": {
     "languageId": "r"
    }
   },
   "outputs": [],
   "source": [
    "model.data[,\"smoking\"] <- as.factor(model.data[,\"smoking\"])"
   ]
  },
  {
   "cell_type": "code",
   "execution_count": 7,
   "metadata": {
    "vscode": {
     "languageId": "r"
    }
   },
   "outputs": [
    {
     "data": {
      "text/plain": [
       " smoking   gender         age          height.cm.      weight.kg.    \n",
       " 0:35237   F:20291   Min.   :20.00   Min.   :130.0   Min.   : 30.00  \n",
       " 1:20455   M:35401   1st Qu.:40.00   1st Qu.:160.0   1st Qu.: 55.00  \n",
       "                     Median :40.00   Median :165.0   Median : 65.00  \n",
       "                     Mean   :44.18   Mean   :164.6   Mean   : 65.86  \n",
       "                     3rd Qu.:55.00   3rd Qu.:170.0   3rd Qu.: 75.00  \n",
       "                     Max.   :85.00   Max.   :190.0   Max.   :135.00  \n",
       "    systolic       relaxation  fasting.blood.sugar  triglyceride  \n",
       " Min.   : 71.0   Min.   : 40   Min.   : 46.00      Min.   :  8.0  \n",
       " 1st Qu.:112.0   1st Qu.: 70   1st Qu.: 89.00      1st Qu.: 74.0  \n",
       " Median :120.0   Median : 76   Median : 96.00      Median :108.0  \n",
       " Mean   :121.5   Mean   : 76   Mean   : 99.31      Mean   :126.7  \n",
       " 3rd Qu.:130.0   3rd Qu.: 82   3rd Qu.:104.00      3rd Qu.:160.0  \n",
       " Max.   :240.0   Max.   :146   Max.   :505.00      Max.   :999.0  \n",
       "      HDL           hemoglobin    serum.creatinine       ALT         \n",
       " Min.   :  4.00   Min.   : 4.90   Min.   : 0.1000   Min.   :   1.00  \n",
       " 1st Qu.: 47.00   1st Qu.:13.60   1st Qu.: 0.8000   1st Qu.:  15.00  \n",
       " Median : 55.00   Median :14.80   Median : 0.9000   Median :  21.00  \n",
       " Mean   : 57.29   Mean   :14.62   Mean   : 0.8857   Mean   :  27.04  \n",
       " 3rd Qu.: 66.00   3rd Qu.:15.80   3rd Qu.: 1.0000   3rd Qu.:  31.00  \n",
       " Max.   :618.00   Max.   :21.10   Max.   :11.6000   Max.   :2914.00  \n",
       "      Gtp        \n",
       " Min.   :  1.00  \n",
       " 1st Qu.: 17.00  \n",
       " Median : 25.00  \n",
       " Mean   : 39.95  \n",
       " 3rd Qu.: 43.00  \n",
       " Max.   :999.00  "
      ]
     },
     "metadata": {},
     "output_type": "display_data"
    }
   ],
   "source": [
    "summary(model.data)"
   ]
  },
  {
   "cell_type": "markdown",
   "metadata": {},
   "source": [
    "### Split dataset into training and test set"
   ]
  },
  {
   "cell_type": "code",
   "execution_count": 8,
   "metadata": {
    "vscode": {
     "languageId": "r"
    }
   },
   "outputs": [],
   "source": [
    "n <- length(model.data[,1])\n",
    "index <- sample(1:n,n,replace=FALSE)\n",
    "model.data <- model.data[index,]\n",
    "seventyPercentLimit <- round(length(model.data[,1]) * 0.7,0)\n",
    "model.data.train <- model.data[1:seventyPercentLimit,]\n",
    "model.data.test <- model.data[(seventyPercentLimit+1):n,]"
   ]
  },
  {
   "cell_type": "markdown",
   "metadata": {},
   "source": [
    "### Classification"
   ]
  },
  {
   "cell_type": "markdown",
   "metadata": {},
   "source": [
    "Definition of the Tuning-Parameter:"
   ]
  },
  {
   "cell_type": "code",
   "execution_count": 9,
   "metadata": {
    "vscode": {
     "languageId": "r"
    }
   },
   "outputs": [],
   "source": [
    "cc <- seq(-5,10,1)\n",
    "cg <- seq(-5,1,0.5) "
   ]
  },
  {
   "cell_type": "markdown",
   "metadata": {},
   "source": [
    "Compute the model:"
   ]
  },
  {
   "cell_type": "code",
   "execution_count": 10,
   "metadata": {
    "vscode": {
     "languageId": "r"
    }
   },
   "outputs": [],
   "source": [
    "tuning <- tune.svm(\n",
    "    smoking ~ ., \n",
    "    data=model.data.train,\n",
    "    scale = TRUE,\n",
    "    type = \"C-classification\",\n",
    "    kernel = \"radial\",\n",
    "    gamma = 10^cg,\n",
    "    cost = 2^cc,\n",
    "    epsilon = 0.1,\n",
    "    tunecontrol = tune.control(sampling = \"cross\",cross=5))"
   ]
  },
  {
   "cell_type": "code",
   "execution_count": null,
   "metadata": {
    "vscode": {
     "languageId": "r"
    }
   },
   "outputs": [],
   "source": [
    "print(tuning)"
   ]
  },
  {
   "cell_type": "code",
   "execution_count": null,
   "metadata": {
    "vscode": {
     "languageId": "r"
    }
   },
   "outputs": [],
   "source": [
    "model <- tuning$best.model"
   ]
  },
  {
   "cell_type": "markdown",
   "metadata": {},
   "source": [
    "Calculate the predictions:"
   ]
  },
  {
   "cell_type": "code",
   "execution_count": null,
   "metadata": {
    "vscode": {
     "languageId": "r"
    }
   },
   "outputs": [],
   "source": [
    "X <- data[,selected_features]"
   ]
  },
  {
   "cell_type": "markdown",
   "metadata": {},
   "source": []
  },
  {
   "cell_type": "markdown",
   "metadata": {},
   "source": [
    "Calculate confusion matrix:"
   ]
  },
  {
   "cell_type": "code",
   "execution_count": null,
   "metadata": {
    "vscode": {
     "languageId": "r"
    }
   },
   "outputs": [],
   "source": [
    "predictions <- predict(model,X)\n",
    "y <- data[,\"smoking\"]"
   ]
  },
  {
   "cell_type": "code",
   "execution_count": null,
   "metadata": {
    "vscode": {
     "languageId": "r"
    }
   },
   "outputs": [],
   "source": [
    "A <- matrix(0,ncol=2,nrow=2)\n",
    "\n",
    "colnames(A) <- c(\"Real: No smoker\", \" Real: Smoker\")\n",
    "rownames(A) <- c(\"Prognose: No smoker\", \"Prognose: Smoker\") \n",
    "\n",
    "A[1,1] <- sum(ifelse(y == 0 & predictions ==0, 1,0))\n",
    "A[1,2] <- sum(ifelse(y == 1 & predictions ==0, 1,0))\n",
    "A[2,1] <- sum(ifelse(y == 0 & predictions ==1, 1,0))\n",
    "A[2,2] <- sum(ifelse(y == 1 & predictions ==1, 1,0))"
   ]
  },
  {
   "cell_type": "code",
   "execution_count": null,
   "metadata": {
    "vscode": {
     "languageId": "r"
    }
   },
   "outputs": [],
   "source": [
    "A"
   ]
  }
 ],
 "metadata": {
  "kernelspec": {
   "display_name": "R",
   "language": "R",
   "name": "ir"
  },
  "language_info": {
   "codemirror_mode": "r",
   "file_extension": ".r",
   "mimetype": "text/x-r-source",
   "name": "R",
   "pygments_lexer": "r",
   "version": "4.1.3"
  },
  "orig_nbformat": 4,
  "vscode": {
   "interpreter": {
    "hash": "9250d8cccb63539bed497ffa16c8c2e5c71b6013786893bfb44f8edf4ebeb915"
   }
  }
 },
 "nbformat": 4,
 "nbformat_minor": 2
}
