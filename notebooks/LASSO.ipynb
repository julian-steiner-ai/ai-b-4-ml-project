{
 "cells": [
  {
   "cell_type": "markdown",
   "metadata": {},
   "source": [
    "# Feataure selection with LASSO"
   ]
  },
  {
   "cell_type": "markdown",
   "metadata": {},
   "source": [
    "Select features of the dataset with the LASSO algorithm."
   ]
  },
  {
   "cell_type": "markdown",
   "metadata": {},
   "source": [
    "Load package with LASSO algorithm:"
   ]
  },
  {
   "cell_type": "code",
   "execution_count": 1,
   "metadata": {
    "vscode": {
     "languageId": "r"
    }
   },
   "outputs": [
    {
     "name": "stderr",
     "output_type": "stream",
     "text": [
      "Loading required package: Matrix\n",
      "\n",
      "Loaded glmnet 4.1-4\n",
      "\n"
     ]
    }
   ],
   "source": [
    "library(glmnet)"
   ]
  },
  {
   "cell_type": "markdown",
   "metadata": {},
   "source": [
    "## Read data"
   ]
  },
  {
   "cell_type": "code",
   "execution_count": 2,
   "metadata": {
    "vscode": {
     "languageId": "r"
    }
   },
   "outputs": [
    {
     "data": {
      "text/plain": [
       "       ID        gender         age          height.cm.      weight.kg.    \n",
       " Min.   :    0   F:20291   Min.   :20.00   Min.   :130.0   Min.   : 30.00  \n",
       " 1st Qu.:13923   M:35401   1st Qu.:40.00   1st Qu.:160.0   1st Qu.: 55.00  \n",
       " Median :27846             Median :40.00   Median :165.0   Median : 65.00  \n",
       " Mean   :27846             Mean   :44.18   Mean   :164.6   Mean   : 65.86  \n",
       " 3rd Qu.:41768             3rd Qu.:55.00   3rd Qu.:170.0   3rd Qu.: 75.00  \n",
       " Max.   :55691             Max.   :85.00   Max.   :190.0   Max.   :135.00  \n",
       "   waist.cm.      eyesight.left.  eyesight.right. hearing.left.  \n",
       " Min.   : 51.00   Min.   :0.100   Min.   :0.100   Min.   :1.000  \n",
       " 1st Qu.: 76.00   1st Qu.:0.800   1st Qu.:0.800   1st Qu.:1.000  \n",
       " Median : 82.00   Median :1.000   Median :1.000   Median :1.000  \n",
       " Mean   : 82.05   Mean   :1.013   Mean   :1.007   Mean   :1.026  \n",
       " 3rd Qu.: 88.00   3rd Qu.:1.200   3rd Qu.:1.200   3rd Qu.:1.000  \n",
       " Max.   :129.00   Max.   :9.900   Max.   :9.900   Max.   :2.000  \n",
       " hearing.right.     systolic       relaxation  fasting.blood.sugar\n",
       " Min.   :1.000   Min.   : 71.0   Min.   : 40   Min.   : 46.00     \n",
       " 1st Qu.:1.000   1st Qu.:112.0   1st Qu.: 70   1st Qu.: 89.00     \n",
       " Median :1.000   Median :120.0   Median : 76   Median : 96.00     \n",
       " Mean   :1.026   Mean   :121.5   Mean   : 76   Mean   : 99.31     \n",
       " 3rd Qu.:1.000   3rd Qu.:130.0   3rd Qu.: 82   3rd Qu.:104.00     \n",
       " Max.   :2.000   Max.   :240.0   Max.   :146   Max.   :505.00     \n",
       "  Cholesterol     triglyceride        HDL              LDL      \n",
       " Min.   : 55.0   Min.   :  8.0   Min.   :  4.00   Min.   :   1  \n",
       " 1st Qu.:172.0   1st Qu.: 74.0   1st Qu.: 47.00   1st Qu.:  92  \n",
       " Median :195.0   Median :108.0   Median : 55.00   Median : 113  \n",
       " Mean   :196.9   Mean   :126.7   Mean   : 57.29   Mean   : 115  \n",
       " 3rd Qu.:220.0   3rd Qu.:160.0   3rd Qu.: 66.00   3rd Qu.: 136  \n",
       " Max.   :445.0   Max.   :999.0   Max.   :618.00   Max.   :1860  \n",
       "   hemoglobin    Urine.protein   serum.creatinine       AST         \n",
       " Min.   : 4.90   Min.   :1.000   Min.   : 0.1000   Min.   :   6.00  \n",
       " 1st Qu.:13.60   1st Qu.:1.000   1st Qu.: 0.8000   1st Qu.:  19.00  \n",
       " Median :14.80   Median :1.000   Median : 0.9000   Median :  23.00  \n",
       " Mean   :14.62   Mean   :1.087   Mean   : 0.8857   Mean   :  26.18  \n",
       " 3rd Qu.:15.80   3rd Qu.:1.000   3rd Qu.: 1.0000   3rd Qu.:  28.00  \n",
       " Max.   :21.10   Max.   :6.000   Max.   :11.6000   Max.   :1311.00  \n",
       "      ALT               Gtp         oral      dental.caries    tartar   \n",
       " Min.   :   1.00   Min.   :  1.00   Y:55692   Min.   :0.0000   N:24752  \n",
       " 1st Qu.:  15.00   1st Qu.: 17.00             1st Qu.:0.0000   Y:30940  \n",
       " Median :  21.00   Median : 25.00             Median :0.0000            \n",
       " Mean   :  27.04   Mean   : 39.95             Mean   :0.2133            \n",
       " 3rd Qu.:  31.00   3rd Qu.: 43.00             3rd Qu.:0.0000            \n",
       " Max.   :2914.00   Max.   :999.00             Max.   :1.0000            \n",
       "    smoking      \n",
       " Min.   :0.0000  \n",
       " 1st Qu.:0.0000  \n",
       " Median :0.0000  \n",
       " Mean   :0.3673  \n",
       " 3rd Qu.:1.0000  \n",
       " Max.   :1.0000  "
      ]
     },
     "metadata": {},
     "output_type": "display_data"
    }
   ],
   "source": [
    "setwd('/home/steinerj/Documents/ai-b/semester-4/machine-learning/ai-b-4-ml-project/data')\n",
    "data <- read.csv(\"smoking.csv\",header=TRUE,sep=\",\",fill=TRUE,stringsAsFactors=TRUE)\n",
    "summary(data)"
   ]
  },
  {
   "cell_type": "markdown",
   "metadata": {},
   "source": [
    "## Sort data randomly"
   ]
  },
  {
   "cell_type": "code",
   "execution_count": 3,
   "metadata": {
    "vscode": {
     "languageId": "r"
    }
   },
   "outputs": [],
   "source": [
    "n <- length(data[,1])\n",
    "Index <- sample(seq(1,n,1), replace=FALSE)\n",
    "data <- data[Index,]\n",
    "rownames(data) <- 1:n"
   ]
  },
  {
   "cell_type": "markdown",
   "metadata": {},
   "source": [
    "## Feature selection"
   ]
  },
  {
   "cell_type": "code",
   "execution_count": 3,
   "metadata": {
    "vscode": {
     "languageId": "r"
    }
   },
   "outputs": [],
   "source": [
    "data <- subset(data, select=-ID)\n",
    "data <- subset(data, select=-oral)"
   ]
  },
  {
   "cell_type": "code",
   "execution_count": 5,
   "metadata": {
    "vscode": {
     "languageId": "r"
    }
   },
   "outputs": [
    {
     "data": {
      "text/html": [
       "<table class=\"dataframe\">\n",
       "<caption>A data.frame: 10 × 25</caption>\n",
       "<thead>\n",
       "\t<tr><th></th><th scope=col>gender</th><th scope=col>age</th><th scope=col>height.cm.</th><th scope=col>weight.kg.</th><th scope=col>waist.cm.</th><th scope=col>eyesight.left.</th><th scope=col>eyesight.right.</th><th scope=col>hearing.left.</th><th scope=col>hearing.right.</th><th scope=col>systolic</th><th scope=col>⋯</th><th scope=col>LDL</th><th scope=col>hemoglobin</th><th scope=col>Urine.protein</th><th scope=col>serum.creatinine</th><th scope=col>AST</th><th scope=col>ALT</th><th scope=col>Gtp</th><th scope=col>dental.caries</th><th scope=col>tartar</th><th scope=col>smoking</th></tr>\n",
       "\t<tr><th></th><th scope=col>&lt;fct&gt;</th><th scope=col>&lt;int&gt;</th><th scope=col>&lt;int&gt;</th><th scope=col>&lt;int&gt;</th><th scope=col>&lt;dbl&gt;</th><th scope=col>&lt;dbl&gt;</th><th scope=col>&lt;dbl&gt;</th><th scope=col>&lt;dbl&gt;</th><th scope=col>&lt;dbl&gt;</th><th scope=col>&lt;dbl&gt;</th><th scope=col>⋯</th><th scope=col>&lt;dbl&gt;</th><th scope=col>&lt;dbl&gt;</th><th scope=col>&lt;dbl&gt;</th><th scope=col>&lt;dbl&gt;</th><th scope=col>&lt;dbl&gt;</th><th scope=col>&lt;dbl&gt;</th><th scope=col>&lt;dbl&gt;</th><th scope=col>&lt;int&gt;</th><th scope=col>&lt;fct&gt;</th><th scope=col>&lt;int&gt;</th></tr>\n",
       "</thead>\n",
       "<tbody>\n",
       "\t<tr><th scope=row>1</th><td>M</td><td>35</td><td>175</td><td>90</td><td>96.0</td><td>1.0</td><td>1.2</td><td>1</td><td>1</td><td>120</td><td>⋯</td><td>166</td><td>16.5</td><td>1</td><td>1.1</td><td>40</td><td>73</td><td>51</td><td>0</td><td>N</td><td>0</td></tr>\n",
       "\t<tr><th scope=row>2</th><td>F</td><td>55</td><td>150</td><td>60</td><td>84.6</td><td>0.6</td><td>0.7</td><td>1</td><td>1</td><td>137</td><td>⋯</td><td> 86</td><td>14.3</td><td>1</td><td>0.8</td><td>37</td><td>47</td><td>20</td><td>1</td><td>Y</td><td>0</td></tr>\n",
       "\t<tr><th scope=row>3</th><td>M</td><td>30</td><td>170</td><td>75</td><td>81.0</td><td>1.2</td><td>1.0</td><td>1</td><td>1</td><td>139</td><td>⋯</td><td>141</td><td>14.5</td><td>1</td><td>1.0</td><td>28</td><td>25</td><td>32</td><td>0</td><td>Y</td><td>1</td></tr>\n",
       "\t<tr><th scope=row>4</th><td>M</td><td>35</td><td>165</td><td>45</td><td>69.9</td><td>0.7</td><td>1.0</td><td>1</td><td>1</td><td>120</td><td>⋯</td><td> 86</td><td>17.1</td><td>1</td><td>0.7</td><td>16</td><td>13</td><td>25</td><td>1</td><td>N</td><td>1</td></tr>\n",
       "\t<tr><th scope=row>5</th><td>M</td><td>55</td><td>165</td><td>65</td><td>74.0</td><td>1.0</td><td>1.0</td><td>1</td><td>1</td><td>121</td><td>⋯</td><td> 96</td><td>15.1</td><td>1</td><td>0.7</td><td>24</td><td>12</td><td>61</td><td>0</td><td>N</td><td>1</td></tr>\n",
       "\t<tr><th scope=row>6</th><td>M</td><td>40</td><td>180</td><td>80</td><td>84.0</td><td>0.7</td><td>0.7</td><td>1</td><td>1</td><td>130</td><td>⋯</td><td>131</td><td>16.0</td><td>1</td><td>1.0</td><td>11</td><td>15</td><td>18</td><td>1</td><td>Y</td><td>1</td></tr>\n",
       "\t<tr><th scope=row>7</th><td>M</td><td>50</td><td>160</td><td>70</td><td>87.0</td><td>1.2</td><td>1.0</td><td>1</td><td>1</td><td>110</td><td>⋯</td><td>155</td><td>16.1</td><td>1</td><td>1.0</td><td>18</td><td>34</td><td>22</td><td>0</td><td>Y</td><td>1</td></tr>\n",
       "\t<tr><th scope=row>8</th><td>F</td><td>40</td><td>150</td><td>60</td><td>73.0</td><td>1.0</td><td>1.0</td><td>1</td><td>1</td><td> 90</td><td>⋯</td><td>134</td><td>11.8</td><td>1</td><td>0.7</td><td>16</td><td>10</td><td>33</td><td>0</td><td>N</td><td>0</td></tr>\n",
       "\t<tr><th scope=row>9</th><td>F</td><td>70</td><td>145</td><td>45</td><td>76.2</td><td>0.7</td><td>0.8</td><td>1</td><td>1</td><td>168</td><td>⋯</td><td>140</td><td>13.4</td><td>1</td><td>0.8</td><td>29</td><td>16</td><td>12</td><td>0</td><td>N</td><td>0</td></tr>\n",
       "\t<tr><th scope=row>10</th><td>F</td><td>45</td><td>160</td><td>50</td><td>68.8</td><td>1.2</td><td>0.9</td><td>1</td><td>1</td><td>106</td><td>⋯</td><td>138</td><td>12.3</td><td>1</td><td>0.8</td><td>26</td><td>12</td><td> 9</td><td>0</td><td>N</td><td>0</td></tr>\n",
       "</tbody>\n",
       "</table>\n"
      ],
      "text/latex": [
       "A data.frame: 10 × 25\n",
       "\\begin{tabular}{r|lllllllllllllllllllll}\n",
       "  & gender & age & height.cm. & weight.kg. & waist.cm. & eyesight.left. & eyesight.right. & hearing.left. & hearing.right. & systolic & ⋯ & LDL & hemoglobin & Urine.protein & serum.creatinine & AST & ALT & Gtp & dental.caries & tartar & smoking\\\\\n",
       "  & <fct> & <int> & <int> & <int> & <dbl> & <dbl> & <dbl> & <dbl> & <dbl> & <dbl> & ⋯ & <dbl> & <dbl> & <dbl> & <dbl> & <dbl> & <dbl> & <dbl> & <int> & <fct> & <int>\\\\\n",
       "\\hline\n",
       "\t1 & M & 35 & 175 & 90 & 96.0 & 1.0 & 1.2 & 1 & 1 & 120 & ⋯ & 166 & 16.5 & 1 & 1.1 & 40 & 73 & 51 & 0 & N & 0\\\\\n",
       "\t2 & F & 55 & 150 & 60 & 84.6 & 0.6 & 0.7 & 1 & 1 & 137 & ⋯ &  86 & 14.3 & 1 & 0.8 & 37 & 47 & 20 & 1 & Y & 0\\\\\n",
       "\t3 & M & 30 & 170 & 75 & 81.0 & 1.2 & 1.0 & 1 & 1 & 139 & ⋯ & 141 & 14.5 & 1 & 1.0 & 28 & 25 & 32 & 0 & Y & 1\\\\\n",
       "\t4 & M & 35 & 165 & 45 & 69.9 & 0.7 & 1.0 & 1 & 1 & 120 & ⋯ &  86 & 17.1 & 1 & 0.7 & 16 & 13 & 25 & 1 & N & 1\\\\\n",
       "\t5 & M & 55 & 165 & 65 & 74.0 & 1.0 & 1.0 & 1 & 1 & 121 & ⋯ &  96 & 15.1 & 1 & 0.7 & 24 & 12 & 61 & 0 & N & 1\\\\\n",
       "\t6 & M & 40 & 180 & 80 & 84.0 & 0.7 & 0.7 & 1 & 1 & 130 & ⋯ & 131 & 16.0 & 1 & 1.0 & 11 & 15 & 18 & 1 & Y & 1\\\\\n",
       "\t7 & M & 50 & 160 & 70 & 87.0 & 1.2 & 1.0 & 1 & 1 & 110 & ⋯ & 155 & 16.1 & 1 & 1.0 & 18 & 34 & 22 & 0 & Y & 1\\\\\n",
       "\t8 & F & 40 & 150 & 60 & 73.0 & 1.0 & 1.0 & 1 & 1 &  90 & ⋯ & 134 & 11.8 & 1 & 0.7 & 16 & 10 & 33 & 0 & N & 0\\\\\n",
       "\t9 & F & 70 & 145 & 45 & 76.2 & 0.7 & 0.8 & 1 & 1 & 168 & ⋯ & 140 & 13.4 & 1 & 0.8 & 29 & 16 & 12 & 0 & N & 0\\\\\n",
       "\t10 & F & 45 & 160 & 50 & 68.8 & 1.2 & 0.9 & 1 & 1 & 106 & ⋯ & 138 & 12.3 & 1 & 0.8 & 26 & 12 &  9 & 0 & N & 0\\\\\n",
       "\\end{tabular}\n"
      ],
      "text/markdown": [
       "\n",
       "A data.frame: 10 × 25\n",
       "\n",
       "| <!--/--> | gender &lt;fct&gt; | age &lt;int&gt; | height.cm. &lt;int&gt; | weight.kg. &lt;int&gt; | waist.cm. &lt;dbl&gt; | eyesight.left. &lt;dbl&gt; | eyesight.right. &lt;dbl&gt; | hearing.left. &lt;dbl&gt; | hearing.right. &lt;dbl&gt; | systolic &lt;dbl&gt; | ⋯ ⋯ | LDL &lt;dbl&gt; | hemoglobin &lt;dbl&gt; | Urine.protein &lt;dbl&gt; | serum.creatinine &lt;dbl&gt; | AST &lt;dbl&gt; | ALT &lt;dbl&gt; | Gtp &lt;dbl&gt; | dental.caries &lt;int&gt; | tartar &lt;fct&gt; | smoking &lt;int&gt; |\n",
       "|---|---|---|---|---|---|---|---|---|---|---|---|---|---|---|---|---|---|---|---|---|---|\n",
       "| 1 | M | 35 | 175 | 90 | 96.0 | 1.0 | 1.2 | 1 | 1 | 120 | ⋯ | 166 | 16.5 | 1 | 1.1 | 40 | 73 | 51 | 0 | N | 0 |\n",
       "| 2 | F | 55 | 150 | 60 | 84.6 | 0.6 | 0.7 | 1 | 1 | 137 | ⋯ |  86 | 14.3 | 1 | 0.8 | 37 | 47 | 20 | 1 | Y | 0 |\n",
       "| 3 | M | 30 | 170 | 75 | 81.0 | 1.2 | 1.0 | 1 | 1 | 139 | ⋯ | 141 | 14.5 | 1 | 1.0 | 28 | 25 | 32 | 0 | Y | 1 |\n",
       "| 4 | M | 35 | 165 | 45 | 69.9 | 0.7 | 1.0 | 1 | 1 | 120 | ⋯ |  86 | 17.1 | 1 | 0.7 | 16 | 13 | 25 | 1 | N | 1 |\n",
       "| 5 | M | 55 | 165 | 65 | 74.0 | 1.0 | 1.0 | 1 | 1 | 121 | ⋯ |  96 | 15.1 | 1 | 0.7 | 24 | 12 | 61 | 0 | N | 1 |\n",
       "| 6 | M | 40 | 180 | 80 | 84.0 | 0.7 | 0.7 | 1 | 1 | 130 | ⋯ | 131 | 16.0 | 1 | 1.0 | 11 | 15 | 18 | 1 | Y | 1 |\n",
       "| 7 | M | 50 | 160 | 70 | 87.0 | 1.2 | 1.0 | 1 | 1 | 110 | ⋯ | 155 | 16.1 | 1 | 1.0 | 18 | 34 | 22 | 0 | Y | 1 |\n",
       "| 8 | F | 40 | 150 | 60 | 73.0 | 1.0 | 1.0 | 1 | 1 |  90 | ⋯ | 134 | 11.8 | 1 | 0.7 | 16 | 10 | 33 | 0 | N | 0 |\n",
       "| 9 | F | 70 | 145 | 45 | 76.2 | 0.7 | 0.8 | 1 | 1 | 168 | ⋯ | 140 | 13.4 | 1 | 0.8 | 29 | 16 | 12 | 0 | N | 0 |\n",
       "| 10 | F | 45 | 160 | 50 | 68.8 | 1.2 | 0.9 | 1 | 1 | 106 | ⋯ | 138 | 12.3 | 1 | 0.8 | 26 | 12 |  9 | 0 | N | 0 |\n",
       "\n"
      ],
      "text/plain": [
       "   gender age height.cm. weight.kg. waist.cm. eyesight.left. eyesight.right.\n",
       "1  M      35  175        90         96.0      1.0            1.2            \n",
       "2  F      55  150        60         84.6      0.6            0.7            \n",
       "3  M      30  170        75         81.0      1.2            1.0            \n",
       "4  M      35  165        45         69.9      0.7            1.0            \n",
       "5  M      55  165        65         74.0      1.0            1.0            \n",
       "6  M      40  180        80         84.0      0.7            0.7            \n",
       "7  M      50  160        70         87.0      1.2            1.0            \n",
       "8  F      40  150        60         73.0      1.0            1.0            \n",
       "9  F      70  145        45         76.2      0.7            0.8            \n",
       "10 F      45  160        50         68.8      1.2            0.9            \n",
       "   hearing.left. hearing.right. systolic ⋯ LDL hemoglobin Urine.protein\n",
       "1  1             1              120      ⋯ 166 16.5       1            \n",
       "2  1             1              137      ⋯  86 14.3       1            \n",
       "3  1             1              139      ⋯ 141 14.5       1            \n",
       "4  1             1              120      ⋯  86 17.1       1            \n",
       "5  1             1              121      ⋯  96 15.1       1            \n",
       "6  1             1              130      ⋯ 131 16.0       1            \n",
       "7  1             1              110      ⋯ 155 16.1       1            \n",
       "8  1             1               90      ⋯ 134 11.8       1            \n",
       "9  1             1              168      ⋯ 140 13.4       1            \n",
       "10 1             1              106      ⋯ 138 12.3       1            \n",
       "   serum.creatinine AST ALT Gtp dental.caries tartar smoking\n",
       "1  1.1              40  73  51  0             N      0      \n",
       "2  0.8              37  47  20  1             Y      0      \n",
       "3  1.0              28  25  32  0             Y      1      \n",
       "4  0.7              16  13  25  1             N      1      \n",
       "5  0.7              24  12  61  0             N      1      \n",
       "6  1.0              11  15  18  1             Y      1      \n",
       "7  1.0              18  34  22  0             Y      1      \n",
       "8  0.7              16  10  33  0             N      0      \n",
       "9  0.8              29  16  12  0             N      0      \n",
       "10 0.8              26  12   9  0             N      0      "
      ]
     },
     "metadata": {},
     "output_type": "display_data"
    }
   ],
   "source": [
    "data[1:10,]"
   ]
  },
  {
   "cell_type": "code",
   "execution_count": 4,
   "metadata": {
    "vscode": {
     "languageId": "r"
    }
   },
   "outputs": [],
   "source": [
    "X <- model.matrix(smoking ~ ., data)\n",
    "X <- X[,-1]"
   ]
  },
  {
   "cell_type": "code",
   "execution_count": 5,
   "metadata": {
    "vscode": {
     "languageId": "r"
    }
   },
   "outputs": [],
   "source": [
    "y <- data[,\"smoking\"]"
   ]
  },
  {
   "cell_type": "markdown",
   "metadata": {},
   "source": [
    "### Compute LASSO"
   ]
  },
  {
   "cell_type": "markdown",
   "metadata": {},
   "source": [
    "Compute LASSO with standard setting s=\"lambda.min\""
   ]
  },
  {
   "cell_type": "code",
   "execution_count": 8,
   "metadata": {
    "vscode": {
     "languageId": "r"
    }
   },
   "outputs": [],
   "source": [
    "model.lasso <- cv.glmnet(X,y)"
   ]
  },
  {
   "cell_type": "code",
   "execution_count": 9,
   "metadata": {
    "vscode": {
     "languageId": "r"
    }
   },
   "outputs": [
    {
     "data": {
      "text/plain": [
       "25 x 1 sparse Matrix of class \"dgCMatrix\"\n",
       "                               s1\n",
       "(Intercept)         -5.427369e-01\n",
       "genderM              4.151389e-01\n",
       "age                 -4.477934e-05\n",
       "height.cm.           3.634390e-03\n",
       "weight.kg.          -1.757540e-03\n",
       "waist.cm.           -1.649990e-04\n",
       "eyesight.left.      -2.676656e-03\n",
       "eyesight.right.     -1.984662e-03\n",
       "hearing.left.       -3.303536e-02\n",
       "hearing.right.       .           \n",
       "systolic            -2.180956e-03\n",
       "relaxation           1.594123e-03\n",
       "fasting.blood.sugar  5.229649e-04\n",
       "Cholesterol         -3.815707e-04\n",
       "triglyceride         8.711002e-04\n",
       "HDL                  4.806765e-04\n",
       "LDL                 -4.474364e-05\n",
       "hemoglobin           1.948740e-02\n",
       "Urine.protein        2.669118e-03\n",
       "serum.creatinine    -1.102896e-01\n",
       "AST                 -4.366626e-04\n",
       "ALT                 -3.141516e-04\n",
       "Gtp                  9.970904e-04\n",
       "dental.caries        5.596843e-02\n",
       "tartarY              5.374938e-02"
      ]
     },
     "metadata": {},
     "output_type": "display_data"
    }
   ],
   "source": [
    "coef(model.lasso,s=\"lambda.min\")"
   ]
  },
  {
   "cell_type": "markdown",
   "metadata": {},
   "source": [
    "Recalculate LASSO with the restrictive setting s=\"lambda.1se\""
   ]
  },
  {
   "cell_type": "code",
   "execution_count": 10,
   "metadata": {
    "vscode": {
     "languageId": "r"
    }
   },
   "outputs": [
    {
     "data": {
      "text/plain": [
       "25 x 1 sparse Matrix of class \"dgCMatrix\"\n",
       "                               s1\n",
       "(Intercept)         -3.971029e-01\n",
       "genderM              4.052442e-01\n",
       "age                  .           \n",
       "height.cm.           2.186650e-03\n",
       "weight.kg.          -1.063987e-05\n",
       "waist.cm.           -7.365797e-04\n",
       "eyesight.left.       .           \n",
       "eyesight.right.      .           \n",
       "hearing.left.       -4.729207e-03\n",
       "hearing.right.       .           \n",
       "systolic            -9.710589e-04\n",
       "relaxation           .           \n",
       "fasting.blood.sugar  2.766031e-04\n",
       "Cholesterol         -4.722180e-05\n",
       "triglyceride         7.191339e-04\n",
       "HDL                  .           \n",
       "LDL                 -1.692773e-04\n",
       "hemoglobin           1.650085e-02\n",
       "Urine.protein        .           \n",
       "serum.creatinine    -6.855292e-02\n",
       "AST                 -1.752936e-04\n",
       "ALT                 -2.223667e-04\n",
       "Gtp                  8.916818e-04\n",
       "dental.caries        4.616435e-02\n",
       "tartarY              4.588080e-02"
      ]
     },
     "metadata": {},
     "output_type": "display_data"
    }
   ],
   "source": [
    "coef(model.lasso,s=\"lambda.1se\")"
   ]
  },
  {
   "cell_type": "markdown",
   "metadata": {},
   "source": [
    "Calculate the LASSO 100 times and take the variables, which not randomly selected a couple of times:"
   ]
  },
  {
   "cell_type": "code",
   "execution_count": 6,
   "metadata": {
    "vscode": {
     "languageId": "r"
    }
   },
   "outputs": [],
   "source": [
    "m <- length(X[1,])\n",
    "total.numbers <- rep(0,m)\n",
    "RUNS <- 100\n",
    "\n",
    "for (run in 1:RUNS) {\n",
    "    model.lasso <- cv.glmnet(X,y)\n",
    "    beta <- coef(model.lasso,s=\"lambda.1se\")[-1,1]\n",
    "    total.numbers <- total.numbers + ifelse(beta != 0, 1, 0)\n",
    "}"
   ]
  },
  {
   "cell_type": "code",
   "execution_count": 12,
   "metadata": {
    "vscode": {
     "languageId": "r"
    }
   },
   "outputs": [
    {
     "data": {
      "text/html": [
       "<table class=\"dataframe\">\n",
       "<caption>A matrix: 24 × 1 of type dbl</caption>\n",
       "<tbody>\n",
       "\t<tr><th scope=row>genderM</th><td>100</td></tr>\n",
       "\t<tr><th scope=row>age</th><td>  0</td></tr>\n",
       "\t<tr><th scope=row>height.cm.</th><td>100</td></tr>\n",
       "\t<tr><th scope=row>weight.kg.</th><td> 78</td></tr>\n",
       "\t<tr><th scope=row>waist.cm.</th><td>100</td></tr>\n",
       "\t<tr><th scope=row>eyesight.left.</th><td>  0</td></tr>\n",
       "\t<tr><th scope=row>eyesight.right.</th><td>  0</td></tr>\n",
       "\t<tr><th scope=row>hearing.left.</th><td> 95</td></tr>\n",
       "\t<tr><th scope=row>hearing.right.</th><td>  0</td></tr>\n",
       "\t<tr><th scope=row>systolic</th><td>100</td></tr>\n",
       "\t<tr><th scope=row>relaxation</th><td> 10</td></tr>\n",
       "\t<tr><th scope=row>fasting.blood.sugar</th><td>100</td></tr>\n",
       "\t<tr><th scope=row>Cholesterol</th><td> 97</td></tr>\n",
       "\t<tr><th scope=row>triglyceride</th><td>100</td></tr>\n",
       "\t<tr><th scope=row>HDL</th><td>  1</td></tr>\n",
       "\t<tr><th scope=row>LDL</th><td>100</td></tr>\n",
       "\t<tr><th scope=row>hemoglobin</th><td>100</td></tr>\n",
       "\t<tr><th scope=row>Urine.protein</th><td>  0</td></tr>\n",
       "\t<tr><th scope=row>serum.creatinine</th><td>100</td></tr>\n",
       "\t<tr><th scope=row>AST</th><td>100</td></tr>\n",
       "\t<tr><th scope=row>ALT</th><td>100</td></tr>\n",
       "\t<tr><th scope=row>Gtp</th><td>100</td></tr>\n",
       "\t<tr><th scope=row>dental.caries</th><td>100</td></tr>\n",
       "\t<tr><th scope=row>tartarY</th><td>100</td></tr>\n",
       "</tbody>\n",
       "</table>\n"
      ],
      "text/latex": [
       "A matrix: 24 × 1 of type dbl\n",
       "\\begin{tabular}{r|l}\n",
       "\tgenderM & 100\\\\\n",
       "\tage &   0\\\\\n",
       "\theight.cm. & 100\\\\\n",
       "\tweight.kg. &  78\\\\\n",
       "\twaist.cm. & 100\\\\\n",
       "\teyesight.left. &   0\\\\\n",
       "\teyesight.right. &   0\\\\\n",
       "\thearing.left. &  95\\\\\n",
       "\thearing.right. &   0\\\\\n",
       "\tsystolic & 100\\\\\n",
       "\trelaxation &  10\\\\\n",
       "\tfasting.blood.sugar & 100\\\\\n",
       "\tCholesterol &  97\\\\\n",
       "\ttriglyceride & 100\\\\\n",
       "\tHDL &   1\\\\\n",
       "\tLDL & 100\\\\\n",
       "\themoglobin & 100\\\\\n",
       "\tUrine.protein &   0\\\\\n",
       "\tserum.creatinine & 100\\\\\n",
       "\tAST & 100\\\\\n",
       "\tALT & 100\\\\\n",
       "\tGtp & 100\\\\\n",
       "\tdental.caries & 100\\\\\n",
       "\ttartarY & 100\\\\\n",
       "\\end{tabular}\n"
      ],
      "text/markdown": [
       "\n",
       "A matrix: 24 × 1 of type dbl\n",
       "\n",
       "| genderM | 100 |\n",
       "| age |   0 |\n",
       "| height.cm. | 100 |\n",
       "| weight.kg. |  78 |\n",
       "| waist.cm. | 100 |\n",
       "| eyesight.left. |   0 |\n",
       "| eyesight.right. |   0 |\n",
       "| hearing.left. |  95 |\n",
       "| hearing.right. |   0 |\n",
       "| systolic | 100 |\n",
       "| relaxation |  10 |\n",
       "| fasting.blood.sugar | 100 |\n",
       "| Cholesterol |  97 |\n",
       "| triglyceride | 100 |\n",
       "| HDL |   1 |\n",
       "| LDL | 100 |\n",
       "| hemoglobin | 100 |\n",
       "| Urine.protein |   0 |\n",
       "| serum.creatinine | 100 |\n",
       "| AST | 100 |\n",
       "| ALT | 100 |\n",
       "| Gtp | 100 |\n",
       "| dental.caries | 100 |\n",
       "| tartarY | 100 |\n",
       "\n"
      ],
      "text/plain": [
       "                    [,1]\n",
       "genderM             100 \n",
       "age                   0 \n",
       "height.cm.          100 \n",
       "weight.kg.           78 \n",
       "waist.cm.           100 \n",
       "eyesight.left.        0 \n",
       "eyesight.right.       0 \n",
       "hearing.left.        95 \n",
       "hearing.right.        0 \n",
       "systolic            100 \n",
       "relaxation           10 \n",
       "fasting.blood.sugar 100 \n",
       "Cholesterol          97 \n",
       "triglyceride        100 \n",
       "HDL                   1 \n",
       "LDL                 100 \n",
       "hemoglobin          100 \n",
       "Urine.protein         0 \n",
       "serum.creatinine    100 \n",
       "AST                 100 \n",
       "ALT                 100 \n",
       "Gtp                 100 \n",
       "dental.caries       100 \n",
       "tartarY             100 "
      ]
     },
     "metadata": {},
     "output_type": "display_data"
    }
   ],
   "source": [
    "total.numbers <- as.matrix(total.numbers)\n",
    "total.numbers"
   ]
  },
  {
   "cell_type": "code",
   "execution_count": 16,
   "metadata": {
    "vscode": {
     "languageId": "r"
    }
   },
   "outputs": [],
   "source": [
    "temp <- total.numbers[total.numbers[,1] >= 50, 1]\n",
    "selection <- names(temp)"
   ]
  },
  {
   "cell_type": "code",
   "execution_count": 17,
   "metadata": {
    "vscode": {
     "languageId": "r"
    }
   },
   "outputs": [
    {
     "data": {
      "text/html": [
       "<style>\n",
       ".list-inline {list-style: none; margin:0; padding: 0}\n",
       ".list-inline>li {display: inline-block}\n",
       ".list-inline>li:not(:last-child)::after {content: \"\\00b7\"; padding: 0 .5ex}\n",
       "</style>\n",
       "<ol class=list-inline><li>'genderM'</li><li>'height.cm.'</li><li>'weight.kg.'</li><li>'waist.cm.'</li><li>'hearing.left.'</li><li>'systolic'</li><li>'fasting.blood.sugar'</li><li>'Cholesterol'</li><li>'triglyceride'</li><li>'LDL'</li><li>'hemoglobin'</li><li>'serum.creatinine'</li><li>'AST'</li><li>'ALT'</li><li>'Gtp'</li><li>'dental.caries'</li><li>'tartarY'</li></ol>\n"
      ],
      "text/latex": [
       "\\begin{enumerate*}\n",
       "\\item 'genderM'\n",
       "\\item 'height.cm.'\n",
       "\\item 'weight.kg.'\n",
       "\\item 'waist.cm.'\n",
       "\\item 'hearing.left.'\n",
       "\\item 'systolic'\n",
       "\\item 'fasting.blood.sugar'\n",
       "\\item 'Cholesterol'\n",
       "\\item 'triglyceride'\n",
       "\\item 'LDL'\n",
       "\\item 'hemoglobin'\n",
       "\\item 'serum.creatinine'\n",
       "\\item 'AST'\n",
       "\\item 'ALT'\n",
       "\\item 'Gtp'\n",
       "\\item 'dental.caries'\n",
       "\\item 'tartarY'\n",
       "\\end{enumerate*}\n"
      ],
      "text/markdown": [
       "1. 'genderM'\n",
       "2. 'height.cm.'\n",
       "3. 'weight.kg.'\n",
       "4. 'waist.cm.'\n",
       "5. 'hearing.left.'\n",
       "6. 'systolic'\n",
       "7. 'fasting.blood.sugar'\n",
       "8. 'Cholesterol'\n",
       "9. 'triglyceride'\n",
       "10. 'LDL'\n",
       "11. 'hemoglobin'\n",
       "12. 'serum.creatinine'\n",
       "13. 'AST'\n",
       "14. 'ALT'\n",
       "15. 'Gtp'\n",
       "16. 'dental.caries'\n",
       "17. 'tartarY'\n",
       "\n",
       "\n"
      ],
      "text/plain": [
       " [1] \"genderM\"             \"height.cm.\"          \"weight.kg.\"         \n",
       " [4] \"waist.cm.\"           \"hearing.left.\"       \"systolic\"           \n",
       " [7] \"fasting.blood.sugar\" \"Cholesterol\"         \"triglyceride\"       \n",
       "[10] \"LDL\"                 \"hemoglobin\"          \"serum.creatinine\"   \n",
       "[13] \"AST\"                 \"ALT\"                 \"Gtp\"                \n",
       "[16] \"dental.caries\"       \"tartarY\"            "
      ]
     },
     "metadata": {},
     "output_type": "display_data"
    }
   ],
   "source": [
    "selection"
   ]
  }
 ],
 "metadata": {
  "language_info": {
   "name": "python"
  },
  "orig_nbformat": 4
 },
 "nbformat": 4,
 "nbformat_minor": 2
}
