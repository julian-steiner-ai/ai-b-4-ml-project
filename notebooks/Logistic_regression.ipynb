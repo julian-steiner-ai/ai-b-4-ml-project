{
 "cells": [
  {
   "cell_type": "markdown",
   "metadata": {},
   "source": [
    "# Logistic Regression"
   ]
  },
  {
   "cell_type": "markdown",
   "metadata": {},
   "source": [
    "## With feature selection"
   ]
  },
  {
   "cell_type": "markdown",
   "metadata": {},
   "source": [
    "### Read and preprocess data"
   ]
  },
  {
   "cell_type": "code",
   "execution_count": 17,
   "metadata": {
    "vscode": {
     "languageId": "r"
    }
   },
   "outputs": [],
   "source": [
    "selected_features <- c('smoking',\n",
    "                       'height.cm.',\n",
    "                       'weight.kg.',\n",
    "                       'systolic',\n",
    "                       'relaxation',\n",
    "                       'fasting.blood.sugar',\n",
    "                       'triglyceride',\n",
    "                       'HDL',\n",
    "                       'hemoglobin',\n",
    "                       'serum.creatinine',\n",
    "                       'ALT',\n",
    "                       'Gtp')"
   ]
  },
  {
   "cell_type": "code",
   "execution_count": 18,
   "metadata": {
    "vscode": {
     "languageId": "r"
    }
   },
   "outputs": [],
   "source": [
    "setwd('/home/steinerj/Documents/ai-b/semester-4/machine-learning/ai-b-4-ml-project/data')"
   ]
  },
  {
   "cell_type": "code",
   "execution_count": 19,
   "metadata": {
    "vscode": {
     "languageId": "r"
    }
   },
   "outputs": [],
   "source": [
    "data <- read.csv(\"smoking.csv\",header=TRUE,sep=\",\",fill=TRUE,stringsAsFactors=TRUE)"
   ]
  },
  {
   "cell_type": "code",
   "execution_count": 20,
   "metadata": {
    "vscode": {
     "languageId": "r"
    }
   },
   "outputs": [],
   "source": [
    "model.data <- data[,selected_features]"
   ]
  },
  {
   "cell_type": "code",
   "execution_count": 21,
   "metadata": {
    "vscode": {
     "languageId": "r"
    }
   },
   "outputs": [
    {
     "data": {
      "text/plain": [
       "    smoking         height.cm.      weight.kg.        systolic    \n",
       " Min.   :0.0000   Min.   :130.0   Min.   : 30.00   Min.   : 71.0  \n",
       " 1st Qu.:0.0000   1st Qu.:160.0   1st Qu.: 55.00   1st Qu.:112.0  \n",
       " Median :0.0000   Median :165.0   Median : 65.00   Median :120.0  \n",
       " Mean   :0.3673   Mean   :164.6   Mean   : 65.86   Mean   :121.5  \n",
       " 3rd Qu.:1.0000   3rd Qu.:170.0   3rd Qu.: 75.00   3rd Qu.:130.0  \n",
       " Max.   :1.0000   Max.   :190.0   Max.   :135.00   Max.   :240.0  \n",
       "   relaxation  fasting.blood.sugar  triglyceride        HDL        \n",
       " Min.   : 40   Min.   : 46.00      Min.   :  8.0   Min.   :  4.00  \n",
       " 1st Qu.: 70   1st Qu.: 89.00      1st Qu.: 74.0   1st Qu.: 47.00  \n",
       " Median : 76   Median : 96.00      Median :108.0   Median : 55.00  \n",
       " Mean   : 76   Mean   : 99.31      Mean   :126.7   Mean   : 57.29  \n",
       " 3rd Qu.: 82   3rd Qu.:104.00      3rd Qu.:160.0   3rd Qu.: 66.00  \n",
       " Max.   :146   Max.   :505.00      Max.   :999.0   Max.   :618.00  \n",
       "   hemoglobin    serum.creatinine       ALT               Gtp        \n",
       " Min.   : 4.90   Min.   : 0.1000   Min.   :   1.00   Min.   :  1.00  \n",
       " 1st Qu.:13.60   1st Qu.: 0.8000   1st Qu.:  15.00   1st Qu.: 17.00  \n",
       " Median :14.80   Median : 0.9000   Median :  21.00   Median : 25.00  \n",
       " Mean   :14.62   Mean   : 0.8857   Mean   :  27.04   Mean   : 39.95  \n",
       " 3rd Qu.:15.80   3rd Qu.: 1.0000   3rd Qu.:  31.00   3rd Qu.: 43.00  \n",
       " Max.   :21.10   Max.   :11.6000   Max.   :2914.00   Max.   :999.00  "
      ]
     },
     "metadata": {},
     "output_type": "display_data"
    }
   ],
   "source": [
    "summary(model.data)"
   ]
  },
  {
   "cell_type": "code",
   "execution_count": 22,
   "metadata": {
    "vscode": {
     "languageId": "r"
    }
   },
   "outputs": [],
   "source": [
    "model.data[,\"smoking\"] <- as.factor(model.data[,\"smoking\"])"
   ]
  },
  {
   "cell_type": "code",
   "execution_count": 23,
   "metadata": {
    "vscode": {
     "languageId": "r"
    }
   },
   "outputs": [
    {
     "data": {
      "text/plain": [
       " smoking     height.cm.      weight.kg.        systolic       relaxation \n",
       " 0:35237   Min.   :130.0   Min.   : 30.00   Min.   : 71.0   Min.   : 40  \n",
       " 1:20455   1st Qu.:160.0   1st Qu.: 55.00   1st Qu.:112.0   1st Qu.: 70  \n",
       "           Median :165.0   Median : 65.00   Median :120.0   Median : 76  \n",
       "           Mean   :164.6   Mean   : 65.86   Mean   :121.5   Mean   : 76  \n",
       "           3rd Qu.:170.0   3rd Qu.: 75.00   3rd Qu.:130.0   3rd Qu.: 82  \n",
       "           Max.   :190.0   Max.   :135.00   Max.   :240.0   Max.   :146  \n",
       " fasting.blood.sugar  triglyceride        HDL           hemoglobin   \n",
       " Min.   : 46.00      Min.   :  8.0   Min.   :  4.00   Min.   : 4.90  \n",
       " 1st Qu.: 89.00      1st Qu.: 74.0   1st Qu.: 47.00   1st Qu.:13.60  \n",
       " Median : 96.00      Median :108.0   Median : 55.00   Median :14.80  \n",
       " Mean   : 99.31      Mean   :126.7   Mean   : 57.29   Mean   :14.62  \n",
       " 3rd Qu.:104.00      3rd Qu.:160.0   3rd Qu.: 66.00   3rd Qu.:15.80  \n",
       " Max.   :505.00      Max.   :999.0   Max.   :618.00   Max.   :21.10  \n",
       " serum.creatinine       ALT               Gtp        \n",
       " Min.   : 0.1000   Min.   :   1.00   Min.   :  1.00  \n",
       " 1st Qu.: 0.8000   1st Qu.:  15.00   1st Qu.: 17.00  \n",
       " Median : 0.9000   Median :  21.00   Median : 25.00  \n",
       " Mean   : 0.8857   Mean   :  27.04   Mean   : 39.95  \n",
       " 3rd Qu.: 1.0000   3rd Qu.:  31.00   3rd Qu.: 43.00  \n",
       " Max.   :11.6000   Max.   :2914.00   Max.   :999.00  "
      ]
     },
     "metadata": {},
     "output_type": "display_data"
    }
   ],
   "source": [
    "summary(model.data)"
   ]
  },
  {
   "cell_type": "markdown",
   "metadata": {},
   "source": [
    "### Split dataset into training and test set"
   ]
  },
  {
   "cell_type": "code",
   "execution_count": 24,
   "metadata": {
    "vscode": {
     "languageId": "r"
    }
   },
   "outputs": [],
   "source": [
    "n <- length(model.data[,1])\n",
    "index <- sample(1:n,n,replace=FALSE)\n",
    "model.data <- model.data[index,]\n",
    "seventyPercentLimit <- round(length(model.data[,1]) * 0.7,0)\n",
    "model.data.train <- model.data[1:seventyPercentLimit,]\n",
    "model.data.test <- model.data[(seventyPercentLimit+1):n,]"
   ]
  },
  {
   "cell_type": "markdown",
   "metadata": {},
   "source": [
    "### Compute model"
   ]
  },
  {
   "cell_type": "code",
   "execution_count": 25,
   "metadata": {
    "vscode": {
     "languageId": "r"
    }
   },
   "outputs": [],
   "source": [
    "glm_model <- glm(smoking ~ ., \n",
    "                 data=model.data.train,\n",
    "                 binomial(link = \"logit\"))"
   ]
  },
  {
   "cell_type": "code",
   "execution_count": 26,
   "metadata": {
    "vscode": {
     "languageId": "r"
    }
   },
   "outputs": [
    {
     "data": {
      "text/plain": [
       "\n",
       "Call:  glm(formula = smoking ~ ., family = binomial(link = \"logit\"), \n",
       "    data = model.data.train)\n",
       "\n",
       "Coefficients:\n",
       "        (Intercept)           height.cm.           weight.kg.  \n",
       "         -19.703326             0.081956            -0.017064  \n",
       "           systolic           relaxation  fasting.blood.sugar  \n",
       "          -0.008899             0.005795             0.004312  \n",
       "       triglyceride                  HDL           hemoglobin  \n",
       "           0.003945            -0.007901             0.433745  \n",
       "   serum.creatinine                  ALT                  Gtp  \n",
       "           0.245354            -0.007637             0.009412  \n",
       "\n",
       "Degrees of Freedom: 38983 Total (i.e. Null);  38972 Residual\n",
       "Null Deviance:\t    51240 \n",
       "Residual Deviance: 40050 \tAIC: 40070"
      ]
     },
     "metadata": {},
     "output_type": "display_data"
    }
   ],
   "source": [
    "glm_model"
   ]
  },
  {
   "cell_type": "markdown",
   "metadata": {},
   "source": [
    "#### Calculate prediction error"
   ]
  },
  {
   "cell_type": "code",
   "execution_count": 27,
   "metadata": {
    "vscode": {
     "languageId": "r"
    }
   },
   "outputs": [],
   "source": [
    "X.test <- model.data.test[,selected_features]"
   ]
  },
  {
   "cell_type": "code",
   "execution_count": 28,
   "metadata": {
    "vscode": {
     "languageId": "r"
    }
   },
   "outputs": [],
   "source": [
    "z <- predict(glm_model,X.test)\n",
    "predictions <- round(exp(z)/(1+exp(z)))"
   ]
  },
  {
   "cell_type": "code",
   "execution_count": 29,
   "metadata": {
    "vscode": {
     "languageId": "r"
    }
   },
   "outputs": [],
   "source": [
    "y <- model.data.test[,\"smoking\"]"
   ]
  },
  {
   "cell_type": "markdown",
   "metadata": {},
   "source": [
    "##### Confusion Matrix"
   ]
  },
  {
   "cell_type": "code",
   "execution_count": 30,
   "metadata": {
    "vscode": {
     "languageId": "r"
    }
   },
   "outputs": [],
   "source": [
    "A <- matrix(0,ncol=2,nrow=2)\n",
    "\n",
    "colnames(A) <- c(\"Real: No smoker\", \" Real: Smoker\")\n",
    "rownames(A) <- c(\"Prognose: No smoker\", \"Prognose: Smoker\") \n",
    "\n",
    "A[1,1] <- sum(ifelse(y == 0 & predictions == 0, 1,0))\n",
    "A[1,2] <- sum(ifelse(y == 1 & predictions == 0, 1,0))\n",
    "A[2,1] <- sum(ifelse(y == 0 & predictions == 1, 1,0))\n",
    "A[2,2] <- sum(ifelse(y == 1 & predictions == 1, 1,0))"
   ]
  },
  {
   "cell_type": "code",
   "execution_count": 31,
   "metadata": {
    "vscode": {
     "languageId": "r"
    }
   },
   "outputs": [
    {
     "data": {
      "text/html": [
       "<table class=\"dataframe\">\n",
       "<caption>A matrix: 2 × 2 of type dbl</caption>\n",
       "<thead>\n",
       "\t<tr><th></th><th scope=col>Real: No smoker</th><th scope=col> Real: Smoker</th></tr>\n",
       "</thead>\n",
       "<tbody>\n",
       "\t<tr><th scope=row>Prognose: No smoker</th><td>8526</td><td>2721</td></tr>\n",
       "\t<tr><th scope=row>Prognose: Smoker</th><td>2022</td><td>3439</td></tr>\n",
       "</tbody>\n",
       "</table>\n"
      ],
      "text/latex": [
       "A matrix: 2 × 2 of type dbl\n",
       "\\begin{tabular}{r|ll}\n",
       "  & Real: No smoker &  Real: Smoker\\\\\n",
       "\\hline\n",
       "\tPrognose: No smoker & 8526 & 2721\\\\\n",
       "\tPrognose: Smoker & 2022 & 3439\\\\\n",
       "\\end{tabular}\n"
      ],
      "text/markdown": [
       "\n",
       "A matrix: 2 × 2 of type dbl\n",
       "\n",
       "| <!--/--> | Real: No smoker |  Real: Smoker |\n",
       "|---|---|---|\n",
       "| Prognose: No smoker | 8526 | 2721 |\n",
       "| Prognose: Smoker | 2022 | 3439 |\n",
       "\n"
      ],
      "text/plain": [
       "                    Real: No smoker  Real: Smoker\n",
       "Prognose: No smoker 8526            2721         \n",
       "Prognose: Smoker    2022            3439         "
      ]
     },
     "metadata": {},
     "output_type": "display_data"
    }
   ],
   "source": [
    "A"
   ]
  },
  {
   "cell_type": "markdown",
   "metadata": {},
   "source": [
    "##### True-Positive-Rate & True-Negative-Rate"
   ]
  },
  {
   "cell_type": "code",
   "execution_count": 32,
   "metadata": {
    "vscode": {
     "languageId": "r"
    }
   },
   "outputs": [
    {
     "data": {
      "text/html": [
       "0.558279220779221"
      ],
      "text/latex": [
       "0.558279220779221"
      ],
      "text/markdown": [
       "0.558279220779221"
      ],
      "text/plain": [
       "[1] 0.5582792"
      ]
     },
     "metadata": {},
     "output_type": "display_data"
    },
    {
     "data": {
      "text/html": [
       "0.808304891922639"
      ],
      "text/latex": [
       "0.808304891922639"
      ],
      "text/markdown": [
       "0.808304891922639"
      ],
      "text/plain": [
       "[1] 0.8083049"
      ]
     },
     "metadata": {},
     "output_type": "display_data"
    }
   ],
   "source": [
    "A[2,2]/(A[1,2]+A[2,2])   # True-Positive-Rate\n",
    "A[1,1]/(A[1,1]+A[2,1])   # True-Negative-Rate"
   ]
  },
  {
   "cell_type": "markdown",
   "metadata": {},
   "source": [
    "## Without feature selection"
   ]
  },
  {
   "cell_type": "code",
   "execution_count": 144,
   "metadata": {
    "vscode": {
     "languageId": "r"
    }
   },
   "outputs": [],
   "source": [
    "data <- read.csv(\"smoking.csv\",header=TRUE,sep=\",\",fill=TRUE,stringsAsFactors=TRUE)"
   ]
  },
  {
   "cell_type": "code",
   "execution_count": 145,
   "metadata": {
    "vscode": {
     "languageId": "r"
    }
   },
   "outputs": [],
   "source": [
    "data <- subset(data, select=-ID)\n",
    "data <- subset(data, select=-oral)"
   ]
  },
  {
   "cell_type": "code",
   "execution_count": 146,
   "metadata": {
    "vscode": {
     "languageId": "r"
    }
   },
   "outputs": [],
   "source": [
    "data[,\"smoking\"] <- as.factor(data[,\"smoking\"])"
   ]
  },
  {
   "cell_type": "code",
   "execution_count": 147,
   "metadata": {
    "vscode": {
     "languageId": "r"
    }
   },
   "outputs": [
    {
     "data": {
      "text/plain": [
       " gender         age          height.cm.      weight.kg.       waist.cm.     \n",
       " F:20291   Min.   :20.00   Min.   :130.0   Min.   : 30.00   Min.   : 51.00  \n",
       " M:35401   1st Qu.:40.00   1st Qu.:160.0   1st Qu.: 55.00   1st Qu.: 76.00  \n",
       "           Median :40.00   Median :165.0   Median : 65.00   Median : 82.00  \n",
       "           Mean   :44.18   Mean   :164.6   Mean   : 65.86   Mean   : 82.05  \n",
       "           3rd Qu.:55.00   3rd Qu.:170.0   3rd Qu.: 75.00   3rd Qu.: 88.00  \n",
       "           Max.   :85.00   Max.   :190.0   Max.   :135.00   Max.   :129.00  \n",
       " eyesight.left.  eyesight.right. hearing.left.   hearing.right. \n",
       " Min.   :0.100   Min.   :0.100   Min.   :1.000   Min.   :1.000  \n",
       " 1st Qu.:0.800   1st Qu.:0.800   1st Qu.:1.000   1st Qu.:1.000  \n",
       " Median :1.000   Median :1.000   Median :1.000   Median :1.000  \n",
       " Mean   :1.013   Mean   :1.007   Mean   :1.026   Mean   :1.026  \n",
       " 3rd Qu.:1.200   3rd Qu.:1.200   3rd Qu.:1.000   3rd Qu.:1.000  \n",
       " Max.   :9.900   Max.   :9.900   Max.   :2.000   Max.   :2.000  \n",
       "    systolic       relaxation  fasting.blood.sugar  Cholesterol   \n",
       " Min.   : 71.0   Min.   : 40   Min.   : 46.00      Min.   : 55.0  \n",
       " 1st Qu.:112.0   1st Qu.: 70   1st Qu.: 89.00      1st Qu.:172.0  \n",
       " Median :120.0   Median : 76   Median : 96.00      Median :195.0  \n",
       " Mean   :121.5   Mean   : 76   Mean   : 99.31      Mean   :196.9  \n",
       " 3rd Qu.:130.0   3rd Qu.: 82   3rd Qu.:104.00      3rd Qu.:220.0  \n",
       " Max.   :240.0   Max.   :146   Max.   :505.00      Max.   :445.0  \n",
       "  triglyceride        HDL              LDL         hemoglobin   \n",
       " Min.   :  8.0   Min.   :  4.00   Min.   :   1   Min.   : 4.90  \n",
       " 1st Qu.: 74.0   1st Qu.: 47.00   1st Qu.:  92   1st Qu.:13.60  \n",
       " Median :108.0   Median : 55.00   Median : 113   Median :14.80  \n",
       " Mean   :126.7   Mean   : 57.29   Mean   : 115   Mean   :14.62  \n",
       " 3rd Qu.:160.0   3rd Qu.: 66.00   3rd Qu.: 136   3rd Qu.:15.80  \n",
       " Max.   :999.0   Max.   :618.00   Max.   :1860   Max.   :21.10  \n",
       " Urine.protein   serum.creatinine       AST               ALT         \n",
       " Min.   :1.000   Min.   : 0.1000   Min.   :   6.00   Min.   :   1.00  \n",
       " 1st Qu.:1.000   1st Qu.: 0.8000   1st Qu.:  19.00   1st Qu.:  15.00  \n",
       " Median :1.000   Median : 0.9000   Median :  23.00   Median :  21.00  \n",
       " Mean   :1.087   Mean   : 0.8857   Mean   :  26.18   Mean   :  27.04  \n",
       " 3rd Qu.:1.000   3rd Qu.: 1.0000   3rd Qu.:  28.00   3rd Qu.:  31.00  \n",
       " Max.   :6.000   Max.   :11.6000   Max.   :1311.00   Max.   :2914.00  \n",
       "      Gtp         dental.caries    tartar    smoking  \n",
       " Min.   :  1.00   Min.   :0.0000   N:24752   0:35237  \n",
       " 1st Qu.: 17.00   1st Qu.:0.0000   Y:30940   1:20455  \n",
       " Median : 25.00   Median :0.0000                      \n",
       " Mean   : 39.95   Mean   :0.2133                      \n",
       " 3rd Qu.: 43.00   3rd Qu.:0.0000                      \n",
       " Max.   :999.00   Max.   :1.0000                      "
      ]
     },
     "metadata": {},
     "output_type": "display_data"
    }
   ],
   "source": [
    "summary(data)"
   ]
  },
  {
   "cell_type": "markdown",
   "metadata": {},
   "source": [
    "### Split dataset into training and test set"
   ]
  },
  {
   "cell_type": "code",
   "execution_count": 148,
   "metadata": {
    "vscode": {
     "languageId": "r"
    }
   },
   "outputs": [],
   "source": [
    "n <- length(data[,1])\n",
    "index <- sample(1:n,n,replace=FALSE)\n",
    "data <- data[index,]\n",
    "seventyPercentLimit <- round(length(data[,1]) * 0.7,0)\n",
    "data.train <- data[1:seventyPercentLimit,]\n",
    "data.test <- data[(seventyPercentLimit+1):n,]"
   ]
  },
  {
   "cell_type": "markdown",
   "metadata": {},
   "source": [
    "### Compute model"
   ]
  },
  {
   "cell_type": "code",
   "execution_count": 149,
   "metadata": {
    "vscode": {
     "languageId": "r"
    }
   },
   "outputs": [],
   "source": [
    "glm_model <- glm(smoking ~ ., \n",
    "                 data=data.train,\n",
    "                 binomial(link = \"logit\"))"
   ]
  },
  {
   "cell_type": "code",
   "execution_count": 150,
   "metadata": {
    "vscode": {
     "languageId": "r"
    }
   },
   "outputs": [
    {
     "data": {
      "text/plain": [
       "\n",
       "Call:  glm(formula = smoking ~ ., family = binomial(link = \"logit\"), \n",
       "    data = data.train)\n",
       "\n",
       "Coefficients:\n",
       "        (Intercept)              genderM                  age  \n",
       "         -6.4478823            2.9098498           -0.0001798  \n",
       "         height.cm.           weight.kg.            waist.cm.  \n",
       "          0.0213284           -0.0092073           -0.0025535  \n",
       "     eyesight.left.      eyesight.right.        hearing.left.  \n",
       "         -0.0019103           -0.0251815           -0.2967960  \n",
       "     hearing.right.             systolic           relaxation  \n",
       "          0.0226858           -0.0154884            0.0098499  \n",
       "fasting.blood.sugar          Cholesterol         triglyceride  \n",
       "          0.0036101           -0.0019763            0.0044446  \n",
       "                HDL                  LDL           hemoglobin  \n",
       "          0.0017690           -0.0003066            0.1464957  \n",
       "      Urine.protein     serum.creatinine                  AST  \n",
       "          0.0123172           -0.8665403           -0.0022574  \n",
       "                ALT                  Gtp        dental.caries  \n",
       "         -0.0049422            0.0073369            0.3051844  \n",
       "            tartarY  \n",
       "          0.3282396  \n",
       "\n",
       "Degrees of Freedom: 38983 Total (i.e. Null);  38959 Residual\n",
       "Null Deviance:\t    51250 \n",
       "Residual Deviance: 36870 \tAIC: 36920"
      ]
     },
     "metadata": {},
     "output_type": "display_data"
    }
   ],
   "source": [
    "glm_model"
   ]
  },
  {
   "cell_type": "markdown",
   "metadata": {},
   "source": [
    "#### Calculate prediction error"
   ]
  },
  {
   "cell_type": "code",
   "execution_count": 151,
   "metadata": {
    "vscode": {
     "languageId": "r"
    }
   },
   "outputs": [
    {
     "data": {
      "text/html": [
       "<style>\n",
       ".list-inline {list-style: none; margin:0; padding: 0}\n",
       ".list-inline>li {display: inline-block}\n",
       ".list-inline>li:not(:last-child)::after {content: \"\\00b7\"; padding: 0 .5ex}\n",
       "</style>\n",
       "<ol class=list-inline><li>'gender'</li><li>'age'</li><li>'height.cm.'</li><li>'weight.kg.'</li><li>'waist.cm.'</li><li>'eyesight.left.'</li><li>'eyesight.right.'</li><li>'hearing.left.'</li><li>'hearing.right.'</li><li>'systolic'</li><li>'relaxation'</li><li>'fasting.blood.sugar'</li><li>'Cholesterol'</li><li>'triglyceride'</li><li>'HDL'</li><li>'LDL'</li><li>'hemoglobin'</li><li>'Urine.protein'</li><li>'serum.creatinine'</li><li>'AST'</li><li>'ALT'</li><li>'Gtp'</li><li>'dental.caries'</li><li>'tartar'</li><li>'smoking'</li></ol>\n"
      ],
      "text/latex": [
       "\\begin{enumerate*}\n",
       "\\item 'gender'\n",
       "\\item 'age'\n",
       "\\item 'height.cm.'\n",
       "\\item 'weight.kg.'\n",
       "\\item 'waist.cm.'\n",
       "\\item 'eyesight.left.'\n",
       "\\item 'eyesight.right.'\n",
       "\\item 'hearing.left.'\n",
       "\\item 'hearing.right.'\n",
       "\\item 'systolic'\n",
       "\\item 'relaxation'\n",
       "\\item 'fasting.blood.sugar'\n",
       "\\item 'Cholesterol'\n",
       "\\item 'triglyceride'\n",
       "\\item 'HDL'\n",
       "\\item 'LDL'\n",
       "\\item 'hemoglobin'\n",
       "\\item 'Urine.protein'\n",
       "\\item 'serum.creatinine'\n",
       "\\item 'AST'\n",
       "\\item 'ALT'\n",
       "\\item 'Gtp'\n",
       "\\item 'dental.caries'\n",
       "\\item 'tartar'\n",
       "\\item 'smoking'\n",
       "\\end{enumerate*}\n"
      ],
      "text/markdown": [
       "1. 'gender'\n",
       "2. 'age'\n",
       "3. 'height.cm.'\n",
       "4. 'weight.kg.'\n",
       "5. 'waist.cm.'\n",
       "6. 'eyesight.left.'\n",
       "7. 'eyesight.right.'\n",
       "8. 'hearing.left.'\n",
       "9. 'hearing.right.'\n",
       "10. 'systolic'\n",
       "11. 'relaxation'\n",
       "12. 'fasting.blood.sugar'\n",
       "13. 'Cholesterol'\n",
       "14. 'triglyceride'\n",
       "15. 'HDL'\n",
       "16. 'LDL'\n",
       "17. 'hemoglobin'\n",
       "18. 'Urine.protein'\n",
       "19. 'serum.creatinine'\n",
       "20. 'AST'\n",
       "21. 'ALT'\n",
       "22. 'Gtp'\n",
       "23. 'dental.caries'\n",
       "24. 'tartar'\n",
       "25. 'smoking'\n",
       "\n",
       "\n"
      ],
      "text/plain": [
       " [1] \"gender\"              \"age\"                 \"height.cm.\"         \n",
       " [4] \"weight.kg.\"          \"waist.cm.\"           \"eyesight.left.\"     \n",
       " [7] \"eyesight.right.\"     \"hearing.left.\"       \"hearing.right.\"     \n",
       "[10] \"systolic\"            \"relaxation\"          \"fasting.blood.sugar\"\n",
       "[13] \"Cholesterol\"         \"triglyceride\"        \"HDL\"                \n",
       "[16] \"LDL\"                 \"hemoglobin\"          \"Urine.protein\"      \n",
       "[19] \"serum.creatinine\"    \"AST\"                 \"ALT\"                \n",
       "[22] \"Gtp\"                 \"dental.caries\"       \"tartar\"             \n",
       "[25] \"smoking\"            "
      ]
     },
     "metadata": {},
     "output_type": "display_data"
    }
   ],
   "source": [
    "names(data.train)"
   ]
  },
  {
   "cell_type": "code",
   "execution_count": 152,
   "metadata": {
    "vscode": {
     "languageId": "r"
    }
   },
   "outputs": [],
   "source": [
    "X.test <- data.test[,c('gender',\n",
    "                        'age',\n",
    "                        'height.cm.',\n",
    "                        'weight.kg.',\n",
    "                        'waist.cm.',\n",
    "                        'eyesight.left.',\n",
    "                        'eyesight.right.',\n",
    "                        'hearing.left.',\n",
    "                        'hearing.right.',\n",
    "                        'systolic',\n",
    "                        'relaxation',\n",
    "                        'fasting.blood.sugar',\n",
    "                        'Cholesterol',\n",
    "                        'triglyceride',\n",
    "                        'HDL',\n",
    "                        'LDL',\n",
    "                        'hemoglobin',\n",
    "                        'Urine.protein',\n",
    "                        'serum.creatinine',\n",
    "                        'AST',\n",
    "                        'ALT',\n",
    "                        'Gtp',\n",
    "                        'dental.caries',\n",
    "                        'tartar',\n",
    "                        'smoking')]"
   ]
  },
  {
   "cell_type": "code",
   "execution_count": 153,
   "metadata": {
    "vscode": {
     "languageId": "r"
    }
   },
   "outputs": [],
   "source": [
    "z <- predict(glm_model,X.test)\n",
    "predictions <- round(exp(z)/(1+exp(z)))"
   ]
  },
  {
   "cell_type": "code",
   "execution_count": 154,
   "metadata": {
    "vscode": {
     "languageId": "r"
    }
   },
   "outputs": [],
   "source": [
    "y <- data.test[,\"smoking\"]"
   ]
  },
  {
   "cell_type": "markdown",
   "metadata": {},
   "source": [
    "##### Confusion Matrix"
   ]
  },
  {
   "cell_type": "code",
   "execution_count": 155,
   "metadata": {
    "vscode": {
     "languageId": "r"
    }
   },
   "outputs": [],
   "source": [
    "A <- matrix(0,ncol=2,nrow=2)\n",
    "\n",
    "colnames(A) <- c(\"Real: No smoker\", \" Real: Smoker\")\n",
    "rownames(A) <- c(\"Prognose: No smoker\", \"Prognose: Smoker\") \n",
    "\n",
    "A[1,1] <- sum(ifelse(y == 0 & predictions == 0, 1,0))\n",
    "A[1,2] <- sum(ifelse(y == 1 & predictions == 0, 1,0))\n",
    "A[2,1] <- sum(ifelse(y == 0 & predictions == 1, 1,0))\n",
    "A[2,2] <- sum(ifelse(y == 1 & predictions == 1, 1,0))"
   ]
  },
  {
   "cell_type": "code",
   "execution_count": 156,
   "metadata": {
    "vscode": {
     "languageId": "r"
    }
   },
   "outputs": [
    {
     "data": {
      "text/html": [
       "<table class=\"dataframe\">\n",
       "<caption>A matrix: 2 × 2 of type dbl</caption>\n",
       "<thead>\n",
       "\t<tr><th></th><th scope=col>Real: No smoker</th><th scope=col> Real: Smoker</th></tr>\n",
       "</thead>\n",
       "<tbody>\n",
       "\t<tr><th scope=row>Prognose: No smoker</th><td>8161</td><td>1841</td></tr>\n",
       "\t<tr><th scope=row>Prognose: Smoker</th><td>2399</td><td>4307</td></tr>\n",
       "</tbody>\n",
       "</table>\n"
      ],
      "text/latex": [
       "A matrix: 2 × 2 of type dbl\n",
       "\\begin{tabular}{r|ll}\n",
       "  & Real: No smoker &  Real: Smoker\\\\\n",
       "\\hline\n",
       "\tPrognose: No smoker & 8161 & 1841\\\\\n",
       "\tPrognose: Smoker & 2399 & 4307\\\\\n",
       "\\end{tabular}\n"
      ],
      "text/markdown": [
       "\n",
       "A matrix: 2 × 2 of type dbl\n",
       "\n",
       "| <!--/--> | Real: No smoker |  Real: Smoker |\n",
       "|---|---|---|\n",
       "| Prognose: No smoker | 8161 | 1841 |\n",
       "| Prognose: Smoker | 2399 | 4307 |\n",
       "\n"
      ],
      "text/plain": [
       "                    Real: No smoker  Real: Smoker\n",
       "Prognose: No smoker 8161            1841         \n",
       "Prognose: Smoker    2399            4307         "
      ]
     },
     "metadata": {},
     "output_type": "display_data"
    }
   ],
   "source": [
    "A"
   ]
  },
  {
   "cell_type": "markdown",
   "metadata": {},
   "source": [
    "##### True-Positive-Rate & True-Negative-Rate"
   ]
  },
  {
   "cell_type": "code",
   "execution_count": 157,
   "metadata": {
    "vscode": {
     "languageId": "r"
    }
   },
   "outputs": [
    {
     "data": {
      "text/html": [
       "0.700553025374105"
      ],
      "text/latex": [
       "0.700553025374105"
      ],
      "text/markdown": [
       "0.700553025374105"
      ],
      "text/plain": [
       "[1] 0.700553"
      ]
     },
     "metadata": {},
     "output_type": "display_data"
    },
    {
     "data": {
      "text/html": [
       "0.77282196969697"
      ],
      "text/latex": [
       "0.77282196969697"
      ],
      "text/markdown": [
       "0.77282196969697"
      ],
      "text/plain": [
       "[1] 0.772822"
      ]
     },
     "metadata": {},
     "output_type": "display_data"
    }
   ],
   "source": [
    "A[2,2]/(A[1,2]+A[2,2]) # True-Positive-Rate\n",
    "A[1,1]/(A[1,1]+A[2,1]) # True-Negative-Rate"
   ]
  },
  {
   "cell_type": "markdown",
   "metadata": {},
   "source": [
    "## With LASSO feature selection"
   ]
  },
  {
   "cell_type": "code",
   "execution_count": 170,
   "metadata": {
    "vscode": {
     "languageId": "r"
    }
   },
   "outputs": [],
   "source": [
    "data <- read.csv(\"smoking.csv\",header=TRUE,sep=\",\",fill=TRUE,stringsAsFactors=TRUE)"
   ]
  },
  {
   "cell_type": "code",
   "execution_count": 171,
   "metadata": {
    "vscode": {
     "languageId": "r"
    }
   },
   "outputs": [],
   "source": [
    "data <- subset(data, select=-ID)\n",
    "data <- subset(data, select=-oral)"
   ]
  },
  {
   "cell_type": "code",
   "execution_count": 172,
   "metadata": {
    "vscode": {
     "languageId": "r"
    }
   },
   "outputs": [],
   "source": [
    "data[,\"smoking\"] <- as.factor(data[,\"smoking\"])"
   ]
  },
  {
   "cell_type": "code",
   "execution_count": 173,
   "metadata": {
    "vscode": {
     "languageId": "r"
    }
   },
   "outputs": [
    {
     "data": {
      "text/plain": [
       " gender         age          height.cm.      weight.kg.       waist.cm.     \n",
       " F:20291   Min.   :20.00   Min.   :130.0   Min.   : 30.00   Min.   : 51.00  \n",
       " M:35401   1st Qu.:40.00   1st Qu.:160.0   1st Qu.: 55.00   1st Qu.: 76.00  \n",
       "           Median :40.00   Median :165.0   Median : 65.00   Median : 82.00  \n",
       "           Mean   :44.18   Mean   :164.6   Mean   : 65.86   Mean   : 82.05  \n",
       "           3rd Qu.:55.00   3rd Qu.:170.0   3rd Qu.: 75.00   3rd Qu.: 88.00  \n",
       "           Max.   :85.00   Max.   :190.0   Max.   :135.00   Max.   :129.00  \n",
       " eyesight.left.  eyesight.right. hearing.left.   hearing.right. \n",
       " Min.   :0.100   Min.   :0.100   Min.   :1.000   Min.   :1.000  \n",
       " 1st Qu.:0.800   1st Qu.:0.800   1st Qu.:1.000   1st Qu.:1.000  \n",
       " Median :1.000   Median :1.000   Median :1.000   Median :1.000  \n",
       " Mean   :1.013   Mean   :1.007   Mean   :1.026   Mean   :1.026  \n",
       " 3rd Qu.:1.200   3rd Qu.:1.200   3rd Qu.:1.000   3rd Qu.:1.000  \n",
       " Max.   :9.900   Max.   :9.900   Max.   :2.000   Max.   :2.000  \n",
       "    systolic       relaxation  fasting.blood.sugar  Cholesterol   \n",
       " Min.   : 71.0   Min.   : 40   Min.   : 46.00      Min.   : 55.0  \n",
       " 1st Qu.:112.0   1st Qu.: 70   1st Qu.: 89.00      1st Qu.:172.0  \n",
       " Median :120.0   Median : 76   Median : 96.00      Median :195.0  \n",
       " Mean   :121.5   Mean   : 76   Mean   : 99.31      Mean   :196.9  \n",
       " 3rd Qu.:130.0   3rd Qu.: 82   3rd Qu.:104.00      3rd Qu.:220.0  \n",
       " Max.   :240.0   Max.   :146   Max.   :505.00      Max.   :445.0  \n",
       "  triglyceride        HDL              LDL         hemoglobin   \n",
       " Min.   :  8.0   Min.   :  4.00   Min.   :   1   Min.   : 4.90  \n",
       " 1st Qu.: 74.0   1st Qu.: 47.00   1st Qu.:  92   1st Qu.:13.60  \n",
       " Median :108.0   Median : 55.00   Median : 113   Median :14.80  \n",
       " Mean   :126.7   Mean   : 57.29   Mean   : 115   Mean   :14.62  \n",
       " 3rd Qu.:160.0   3rd Qu.: 66.00   3rd Qu.: 136   3rd Qu.:15.80  \n",
       " Max.   :999.0   Max.   :618.00   Max.   :1860   Max.   :21.10  \n",
       " Urine.protein   serum.creatinine       AST               ALT         \n",
       " Min.   :1.000   Min.   : 0.1000   Min.   :   6.00   Min.   :   1.00  \n",
       " 1st Qu.:1.000   1st Qu.: 0.8000   1st Qu.:  19.00   1st Qu.:  15.00  \n",
       " Median :1.000   Median : 0.9000   Median :  23.00   Median :  21.00  \n",
       " Mean   :1.087   Mean   : 0.8857   Mean   :  26.18   Mean   :  27.04  \n",
       " 3rd Qu.:1.000   3rd Qu.: 1.0000   3rd Qu.:  28.00   3rd Qu.:  31.00  \n",
       " Max.   :6.000   Max.   :11.6000   Max.   :1311.00   Max.   :2914.00  \n",
       "      Gtp         dental.caries    tartar    smoking  \n",
       " Min.   :  1.00   Min.   :0.0000   N:24752   0:35237  \n",
       " 1st Qu.: 17.00   1st Qu.:0.0000   Y:30940   1:20455  \n",
       " Median : 25.00   Median :0.0000                      \n",
       " Mean   : 39.95   Mean   :0.2133                      \n",
       " 3rd Qu.: 43.00   3rd Qu.:0.0000                      \n",
       " Max.   :999.00   Max.   :1.0000                      "
      ]
     },
     "metadata": {},
     "output_type": "display_data"
    }
   ],
   "source": [
    "summary(data)"
   ]
  },
  {
   "cell_type": "markdown",
   "metadata": {},
   "source": [
    "### Sort data randomly"
   ]
  },
  {
   "cell_type": "code",
   "execution_count": 174,
   "metadata": {
    "vscode": {
     "languageId": "r"
    }
   },
   "outputs": [],
   "source": [
    "n <- length(data[,1])\n",
    "Index <- sample(seq(1,n,1), replace=FALSE)\n",
    "data <- data[Index,]\n",
    "rownames(data) <- 1:n"
   ]
  },
  {
   "cell_type": "markdown",
   "metadata": {},
   "source": [
    "### LASSO feature selection"
   ]
  },
  {
   "cell_type": "code",
   "execution_count": 175,
   "metadata": {
    "vscode": {
     "languageId": "r"
    }
   },
   "outputs": [],
   "source": [
    "library(glmnet)"
   ]
  },
  {
   "cell_type": "code",
   "execution_count": 176,
   "metadata": {
    "vscode": {
     "languageId": "r"
    }
   },
   "outputs": [],
   "source": [
    "X <- model.matrix(smoking ~ ., data)\n",
    "X <- X[,-1]"
   ]
  },
  {
   "cell_type": "code",
   "execution_count": 177,
   "metadata": {
    "vscode": {
     "languageId": "r"
    }
   },
   "outputs": [],
   "source": [
    "y <- data[,\"smoking\"]"
   ]
  },
  {
   "cell_type": "code",
   "execution_count": 178,
   "metadata": {
    "vscode": {
     "languageId": "r"
    }
   },
   "outputs": [
    {
     "ename": "ERROR",
     "evalue": "Error in storage.mode(y) <- \"double\": invalid to change the storage mode of a factor\n",
     "output_type": "error",
     "traceback": [
      "Error in storage.mode(y) <- \"double\": invalid to change the storage mode of a factor\nTraceback:\n",
      "1. cv.glmnet(X, y)",
      "2. cv.glmnet.raw(x, y, weights, offset, lambda, type.measure, nfolds, \n .     foldid, alignment, grouped, keep, parallel, trace.it, glmnet.call, \n .     cv.call, ...)",
      "3. glmnet(x, y, weights = weights, offset = offset, lambda = lambda, \n .     trace.it = trace.it, ...)",
      "4. elnet(xd, is.sparse, y, weights, offset, type.gaussian, alpha, \n .     nobs, nvars, jd, vp, cl, ne, nx, nlam, flmin, ulam, thresh, \n .     isd, intr, vnames, maxit, pb)"
     ]
    }
   ],
   "source": [
    "m <- length(X[1,])\n",
    "total.numbers <- rep(0,m)\n",
    "RUNS <- 100\n",
    "\n",
    "for (run in 1:RUNS) {\n",
    "    model.lasso <- cv.glmnet(X,y)\n",
    "    beta <- coef(model.lasso,s=\"lambda.1se\")[-1,1]\n",
    "    total.numbers <- total.numbers + ifelse(beta != 0, 1, 0)\n",
    "}"
   ]
  },
  {
   "cell_type": "code",
   "execution_count": null,
   "metadata": {
    "vscode": {
     "languageId": "r"
    }
   },
   "outputs": [],
   "source": [
    "total.numbers <- as.matrix(total.numbers)\n",
    "total.numbers"
   ]
  },
  {
   "cell_type": "code",
   "execution_count": null,
   "metadata": {
    "vscode": {
     "languageId": "r"
    }
   },
   "outputs": [],
   "source": [
    "temp <- total.numbers[total.numbers[,1] >= 50, 1]\n",
    "selection <- names(temp)"
   ]
  }
 ],
 "metadata": {
  "language_info": {
   "name": "python"
  },
  "orig_nbformat": 4
 },
 "nbformat": 4,
 "nbformat_minor": 2
}
