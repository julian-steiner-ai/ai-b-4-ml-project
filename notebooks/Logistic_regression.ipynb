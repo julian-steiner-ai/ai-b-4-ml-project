{
 "cells": [
  {
   "cell_type": "markdown",
   "metadata": {},
   "source": [
    "# Logistic Regression"
   ]
  },
  {
   "cell_type": "markdown",
   "metadata": {},
   "source": [
    "## With feature selection"
   ]
  },
  {
   "cell_type": "markdown",
   "metadata": {},
   "source": [
    "### Read and preprocess data"
   ]
  },
  {
   "cell_type": "code",
   "execution_count": 17,
   "metadata": {
    "vscode": {
     "languageId": "r"
    }
   },
   "outputs": [],
   "source": [
    "selected_features <- c('smoking',\n",
    "                       'gender',\n",
    "                       'age',\n",
    "                       'height.cm.',\n",
    "                       'weight.kg.',\n",
    "                       'systolic',\n",
    "                       'relaxation',\n",
    "                       'fasting.blood.sugar',\n",
    "                       'triglyceride',\n",
    "                       'HDL',\n",
    "                       'hemoglobin',\n",
    "                       'serum.creatinine',\n",
    "                       'ALT',\n",
    "                       'Gtp')"
   ]
  },
  {
   "cell_type": "code",
   "execution_count": 18,
   "metadata": {
    "vscode": {
     "languageId": "r"
    }
   },
   "outputs": [],
   "source": [
    "setwd('/home/steinerj/Documents/ai-b/semester-4/machine-learning/ai-b-4-ml-project/data')"
   ]
  },
  {
   "cell_type": "code",
   "execution_count": 19,
   "metadata": {
    "vscode": {
     "languageId": "r"
    }
   },
   "outputs": [],
   "source": [
    "data <- read.csv(\"smoking.csv\",header=TRUE,sep=\",\",fill=TRUE,stringsAsFactors=TRUE)"
   ]
  },
  {
   "cell_type": "code",
   "execution_count": 20,
   "metadata": {
    "vscode": {
     "languageId": "r"
    }
   },
   "outputs": [],
   "source": [
    "model.data <- data[,selected_features]"
   ]
  },
  {
   "cell_type": "code",
   "execution_count": 21,
   "metadata": {
    "vscode": {
     "languageId": "r"
    }
   },
   "outputs": [
    {
     "data": {
      "text/plain": [
       "    smoking       gender         age          height.cm.      weight.kg.    \n",
       " Min.   :0.0000   F:20291   Min.   :20.00   Min.   :130.0   Min.   : 30.00  \n",
       " 1st Qu.:0.0000   M:35401   1st Qu.:40.00   1st Qu.:160.0   1st Qu.: 55.00  \n",
       " Median :0.0000             Median :40.00   Median :165.0   Median : 65.00  \n",
       " Mean   :0.3673             Mean   :44.18   Mean   :164.6   Mean   : 65.86  \n",
       " 3rd Qu.:1.0000             3rd Qu.:55.00   3rd Qu.:170.0   3rd Qu.: 75.00  \n",
       " Max.   :1.0000             Max.   :85.00   Max.   :190.0   Max.   :135.00  \n",
       "    systolic       relaxation  fasting.blood.sugar  triglyceride  \n",
       " Min.   : 71.0   Min.   : 40   Min.   : 46.00      Min.   :  8.0  \n",
       " 1st Qu.:112.0   1st Qu.: 70   1st Qu.: 89.00      1st Qu.: 74.0  \n",
       " Median :120.0   Median : 76   Median : 96.00      Median :108.0  \n",
       " Mean   :121.5   Mean   : 76   Mean   : 99.31      Mean   :126.7  \n",
       " 3rd Qu.:130.0   3rd Qu.: 82   3rd Qu.:104.00      3rd Qu.:160.0  \n",
       " Max.   :240.0   Max.   :146   Max.   :505.00      Max.   :999.0  \n",
       "      HDL           hemoglobin    serum.creatinine       ALT         \n",
       " Min.   :  4.00   Min.   : 4.90   Min.   : 0.1000   Min.   :   1.00  \n",
       " 1st Qu.: 47.00   1st Qu.:13.60   1st Qu.: 0.8000   1st Qu.:  15.00  \n",
       " Median : 55.00   Median :14.80   Median : 0.9000   Median :  21.00  \n",
       " Mean   : 57.29   Mean   :14.62   Mean   : 0.8857   Mean   :  27.04  \n",
       " 3rd Qu.: 66.00   3rd Qu.:15.80   3rd Qu.: 1.0000   3rd Qu.:  31.00  \n",
       " Max.   :618.00   Max.   :21.10   Max.   :11.6000   Max.   :2914.00  \n",
       "      Gtp        \n",
       " Min.   :  1.00  \n",
       " 1st Qu.: 17.00  \n",
       " Median : 25.00  \n",
       " Mean   : 39.95  \n",
       " 3rd Qu.: 43.00  \n",
       " Max.   :999.00  "
      ]
     },
     "metadata": {},
     "output_type": "display_data"
    }
   ],
   "source": [
    "summary(model.data)"
   ]
  },
  {
   "cell_type": "code",
   "execution_count": 22,
   "metadata": {
    "vscode": {
     "languageId": "r"
    }
   },
   "outputs": [],
   "source": [
    "model.data[,\"smoking\"] <- as.factor(model.data[,\"smoking\"])"
   ]
  },
  {
   "cell_type": "code",
   "execution_count": 23,
   "metadata": {
    "vscode": {
     "languageId": "r"
    }
   },
   "outputs": [
    {
     "data": {
      "text/plain": [
       " smoking   gender         age          height.cm.      weight.kg.    \n",
       " 0:35237   F:20291   Min.   :20.00   Min.   :130.0   Min.   : 30.00  \n",
       " 1:20455   M:35401   1st Qu.:40.00   1st Qu.:160.0   1st Qu.: 55.00  \n",
       "                     Median :40.00   Median :165.0   Median : 65.00  \n",
       "                     Mean   :44.18   Mean   :164.6   Mean   : 65.86  \n",
       "                     3rd Qu.:55.00   3rd Qu.:170.0   3rd Qu.: 75.00  \n",
       "                     Max.   :85.00   Max.   :190.0   Max.   :135.00  \n",
       "    systolic       relaxation  fasting.blood.sugar  triglyceride  \n",
       " Min.   : 71.0   Min.   : 40   Min.   : 46.00      Min.   :  8.0  \n",
       " 1st Qu.:112.0   1st Qu.: 70   1st Qu.: 89.00      1st Qu.: 74.0  \n",
       " Median :120.0   Median : 76   Median : 96.00      Median :108.0  \n",
       " Mean   :121.5   Mean   : 76   Mean   : 99.31      Mean   :126.7  \n",
       " 3rd Qu.:130.0   3rd Qu.: 82   3rd Qu.:104.00      3rd Qu.:160.0  \n",
       " Max.   :240.0   Max.   :146   Max.   :505.00      Max.   :999.0  \n",
       "      HDL           hemoglobin    serum.creatinine       ALT         \n",
       " Min.   :  4.00   Min.   : 4.90   Min.   : 0.1000   Min.   :   1.00  \n",
       " 1st Qu.: 47.00   1st Qu.:13.60   1st Qu.: 0.8000   1st Qu.:  15.00  \n",
       " Median : 55.00   Median :14.80   Median : 0.9000   Median :  21.00  \n",
       " Mean   : 57.29   Mean   :14.62   Mean   : 0.8857   Mean   :  27.04  \n",
       " 3rd Qu.: 66.00   3rd Qu.:15.80   3rd Qu.: 1.0000   3rd Qu.:  31.00  \n",
       " Max.   :618.00   Max.   :21.10   Max.   :11.6000   Max.   :2914.00  \n",
       "      Gtp        \n",
       " Min.   :  1.00  \n",
       " 1st Qu.: 17.00  \n",
       " Median : 25.00  \n",
       " Mean   : 39.95  \n",
       " 3rd Qu.: 43.00  \n",
       " Max.   :999.00  "
      ]
     },
     "metadata": {},
     "output_type": "display_data"
    }
   ],
   "source": [
    "summary(model.data)"
   ]
  },
  {
   "cell_type": "markdown",
   "metadata": {},
   "source": [
    "### Split dataset into training and test set"
   ]
  },
  {
   "cell_type": "code",
   "execution_count": 24,
   "metadata": {
    "vscode": {
     "languageId": "r"
    }
   },
   "outputs": [],
   "source": [
    "n <- length(model.data[,1])\n",
    "index <- sample(1:n,n,replace=FALSE)\n",
    "model.data <- model.data[index,]\n",
    "seventyPercentLimit <- round(length(model.data[,1]) * 0.7,0)\n",
    "model.data.train <- model.data[1:seventyPercentLimit,]\n",
    "model.data.test <- model.data[(seventyPercentLimit+1):n,]"
   ]
  },
  {
   "cell_type": "markdown",
   "metadata": {},
   "source": [
    "### Compute model"
   ]
  },
  {
   "cell_type": "code",
   "execution_count": 25,
   "metadata": {
    "vscode": {
     "languageId": "r"
    }
   },
   "outputs": [],
   "source": [
    "glm_model <- glm(smoking ~ ., \n",
    "                 data=model.data.train,\n",
    "                 binomial(link = \"logit\"))"
   ]
  },
  {
   "cell_type": "code",
   "execution_count": 26,
   "metadata": {
    "vscode": {
     "languageId": "r"
    }
   },
   "outputs": [
    {
     "data": {
      "text/plain": [
       "\n",
       "Call:  glm(formula = smoking ~ ., family = binomial(link = \"logit\"), \n",
       "    data = model.data.train)\n",
       "\n",
       "Coefficients:\n",
       "        (Intercept)              genderM                  age  \n",
       "          -6.776029             2.920207            -0.003474  \n",
       "         height.cm.           weight.kg.             systolic  \n",
       "           0.021119            -0.010985            -0.014637  \n",
       "         relaxation  fasting.blood.sugar         triglyceride  \n",
       "           0.010213             0.003046             0.004277  \n",
       "                HDL           hemoglobin     serum.creatinine  \n",
       "          -0.000323             0.138625            -0.793938  \n",
       "                ALT                  Gtp  \n",
       "          -0.005693             0.007283  \n",
       "\n",
       "Degrees of Freedom: 38983 Total (i.e. Null);  38970 Residual\n",
       "Null Deviance:\t    51070 \n",
       "Residual Deviance: 37100 \tAIC: 37130"
      ]
     },
     "metadata": {},
     "output_type": "display_data"
    }
   ],
   "source": [
    "glm_model"
   ]
  },
  {
   "cell_type": "markdown",
   "metadata": {},
   "source": [
    "#### Calculate prediction error"
   ]
  },
  {
   "cell_type": "code",
   "execution_count": 27,
   "metadata": {
    "vscode": {
     "languageId": "r"
    }
   },
   "outputs": [],
   "source": [
    "X.test <- model.data.test[,selected_features]\n",
    "X.test <- subset(X.test,select=-smoking)"
   ]
  },
  {
   "cell_type": "code",
   "execution_count": 28,
   "metadata": {
    "vscode": {
     "languageId": "r"
    }
   },
   "outputs": [],
   "source": [
    "z <- predict(glm_model,X.test)\n",
    "predictions <- round(exp(z)/(1+exp(z)))"
   ]
  },
  {
   "cell_type": "code",
   "execution_count": 29,
   "metadata": {
    "vscode": {
     "languageId": "r"
    }
   },
   "outputs": [],
   "source": [
    "y <- model.data.test[,\"smoking\"]"
   ]
  },
  {
   "cell_type": "markdown",
   "metadata": {},
   "source": [
    "##### Confusion Matrix"
   ]
  },
  {
   "cell_type": "code",
   "execution_count": 30,
   "metadata": {
    "vscode": {
     "languageId": "r"
    }
   },
   "outputs": [],
   "source": [
    "A <- matrix(0,ncol=2,nrow=2)\n",
    "\n",
    "colnames(A) <- c(\"Real: No smoker\", \" Real: Smoker\")\n",
    "rownames(A) <- c(\"Prognose: No smoker\", \"Prognose: Smoker\") \n",
    "\n",
    "A[1,1] <- sum(ifelse(y == 0 & predictions == 0, 1,0))\n",
    "A[1,2] <- sum(ifelse(y == 1 & predictions == 0, 1,0))\n",
    "A[2,1] <- sum(ifelse(y == 0 & predictions == 1, 1,0))\n",
    "A[2,2] <- sum(ifelse(y == 1 & predictions == 1, 1,0))"
   ]
  },
  {
   "cell_type": "code",
   "execution_count": 31,
   "metadata": {
    "vscode": {
     "languageId": "r"
    }
   },
   "outputs": [
    {
     "data": {
      "text/html": [
       "<table class=\"dataframe\">\n",
       "<caption>A matrix: 2 × 2 of type dbl</caption>\n",
       "<thead>\n",
       "\t<tr><th></th><th scope=col>Real: No smoker</th><th scope=col> Real: Smoker</th></tr>\n",
       "</thead>\n",
       "<tbody>\n",
       "\t<tr><th scope=row>Prognose: No smoker</th><td>8041</td><td>1990</td></tr>\n",
       "\t<tr><th scope=row>Prognose: Smoker</th><td>2359</td><td>4318</td></tr>\n",
       "</tbody>\n",
       "</table>\n"
      ],
      "text/latex": [
       "A matrix: 2 × 2 of type dbl\n",
       "\\begin{tabular}{r|ll}\n",
       "  & Real: No smoker &  Real: Smoker\\\\\n",
       "\\hline\n",
       "\tPrognose: No smoker & 8041 & 1990\\\\\n",
       "\tPrognose: Smoker & 2359 & 4318\\\\\n",
       "\\end{tabular}\n"
      ],
      "text/markdown": [
       "\n",
       "A matrix: 2 × 2 of type dbl\n",
       "\n",
       "| <!--/--> | Real: No smoker |  Real: Smoker |\n",
       "|---|---|---|\n",
       "| Prognose: No smoker | 8041 | 1990 |\n",
       "| Prognose: Smoker | 2359 | 4318 |\n",
       "\n"
      ],
      "text/plain": [
       "                    Real: No smoker  Real: Smoker\n",
       "Prognose: No smoker 8041            1990         \n",
       "Prognose: Smoker    2359            4318         "
      ]
     },
     "metadata": {},
     "output_type": "display_data"
    }
   ],
   "source": [
    "A"
   ]
  },
  {
   "cell_type": "markdown",
   "metadata": {},
   "source": [
    "##### True-Positive-Rate & True-Negative-Rate"
   ]
  },
  {
   "cell_type": "code",
   "execution_count": 32,
   "metadata": {
    "vscode": {
     "languageId": "r"
    }
   },
   "outputs": [
    {
     "data": {
      "text/html": [
       "0.684527584020292"
      ],
      "text/latex": [
       "0.684527584020292"
      ],
      "text/markdown": [
       "0.684527584020292"
      ],
      "text/plain": [
       "[1] 0.6845276"
      ]
     },
     "metadata": {},
     "output_type": "display_data"
    },
    {
     "data": {
      "text/html": [
       "0.773173076923077"
      ],
      "text/latex": [
       "0.773173076923077"
      ],
      "text/markdown": [
       "0.773173076923077"
      ],
      "text/plain": [
       "[1] 0.7731731"
      ]
     },
     "metadata": {},
     "output_type": "display_data"
    }
   ],
   "source": [
    "A[2,2]/(A[1,2]+A[2,2])   # True-Positive-Rate\n",
    "A[1,1]/(A[1,1]+A[2,1])   # True-Negative-Rate"
   ]
  },
  {
   "cell_type": "markdown",
   "metadata": {},
   "source": [
    "## Without feature selection"
   ]
  },
  {
   "cell_type": "code",
   "execution_count": 33,
   "metadata": {
    "vscode": {
     "languageId": "r"
    }
   },
   "outputs": [],
   "source": [
    "data <- read.csv(\"smoking.csv\",header=TRUE,sep=\",\",fill=TRUE,stringsAsFactors=TRUE)"
   ]
  },
  {
   "cell_type": "code",
   "execution_count": 34,
   "metadata": {
    "vscode": {
     "languageId": "r"
    }
   },
   "outputs": [],
   "source": [
    "data <- subset(data, select=-ID)\n",
    "data <- subset(data, select=-oral)"
   ]
  },
  {
   "cell_type": "code",
   "execution_count": 35,
   "metadata": {
    "vscode": {
     "languageId": "r"
    }
   },
   "outputs": [],
   "source": [
    "data[,\"smoking\"] <- as.factor(data[,\"smoking\"])"
   ]
  },
  {
   "cell_type": "code",
   "execution_count": 36,
   "metadata": {
    "vscode": {
     "languageId": "r"
    }
   },
   "outputs": [
    {
     "data": {
      "text/plain": [
       " gender         age          height.cm.      weight.kg.       waist.cm.     \n",
       " F:20291   Min.   :20.00   Min.   :130.0   Min.   : 30.00   Min.   : 51.00  \n",
       " M:35401   1st Qu.:40.00   1st Qu.:160.0   1st Qu.: 55.00   1st Qu.: 76.00  \n",
       "           Median :40.00   Median :165.0   Median : 65.00   Median : 82.00  \n",
       "           Mean   :44.18   Mean   :164.6   Mean   : 65.86   Mean   : 82.05  \n",
       "           3rd Qu.:55.00   3rd Qu.:170.0   3rd Qu.: 75.00   3rd Qu.: 88.00  \n",
       "           Max.   :85.00   Max.   :190.0   Max.   :135.00   Max.   :129.00  \n",
       " eyesight.left.  eyesight.right. hearing.left.   hearing.right. \n",
       " Min.   :0.100   Min.   :0.100   Min.   :1.000   Min.   :1.000  \n",
       " 1st Qu.:0.800   1st Qu.:0.800   1st Qu.:1.000   1st Qu.:1.000  \n",
       " Median :1.000   Median :1.000   Median :1.000   Median :1.000  \n",
       " Mean   :1.013   Mean   :1.007   Mean   :1.026   Mean   :1.026  \n",
       " 3rd Qu.:1.200   3rd Qu.:1.200   3rd Qu.:1.000   3rd Qu.:1.000  \n",
       " Max.   :9.900   Max.   :9.900   Max.   :2.000   Max.   :2.000  \n",
       "    systolic       relaxation  fasting.blood.sugar  Cholesterol   \n",
       " Min.   : 71.0   Min.   : 40   Min.   : 46.00      Min.   : 55.0  \n",
       " 1st Qu.:112.0   1st Qu.: 70   1st Qu.: 89.00      1st Qu.:172.0  \n",
       " Median :120.0   Median : 76   Median : 96.00      Median :195.0  \n",
       " Mean   :121.5   Mean   : 76   Mean   : 99.31      Mean   :196.9  \n",
       " 3rd Qu.:130.0   3rd Qu.: 82   3rd Qu.:104.00      3rd Qu.:220.0  \n",
       " Max.   :240.0   Max.   :146   Max.   :505.00      Max.   :445.0  \n",
       "  triglyceride        HDL              LDL         hemoglobin   \n",
       " Min.   :  8.0   Min.   :  4.00   Min.   :   1   Min.   : 4.90  \n",
       " 1st Qu.: 74.0   1st Qu.: 47.00   1st Qu.:  92   1st Qu.:13.60  \n",
       " Median :108.0   Median : 55.00   Median : 113   Median :14.80  \n",
       " Mean   :126.7   Mean   : 57.29   Mean   : 115   Mean   :14.62  \n",
       " 3rd Qu.:160.0   3rd Qu.: 66.00   3rd Qu.: 136   3rd Qu.:15.80  \n",
       " Max.   :999.0   Max.   :618.00   Max.   :1860   Max.   :21.10  \n",
       " Urine.protein   serum.creatinine       AST               ALT         \n",
       " Min.   :1.000   Min.   : 0.1000   Min.   :   6.00   Min.   :   1.00  \n",
       " 1st Qu.:1.000   1st Qu.: 0.8000   1st Qu.:  19.00   1st Qu.:  15.00  \n",
       " Median :1.000   Median : 0.9000   Median :  23.00   Median :  21.00  \n",
       " Mean   :1.087   Mean   : 0.8857   Mean   :  26.18   Mean   :  27.04  \n",
       " 3rd Qu.:1.000   3rd Qu.: 1.0000   3rd Qu.:  28.00   3rd Qu.:  31.00  \n",
       " Max.   :6.000   Max.   :11.6000   Max.   :1311.00   Max.   :2914.00  \n",
       "      Gtp         dental.caries    tartar    smoking  \n",
       " Min.   :  1.00   Min.   :0.0000   N:24752   0:35237  \n",
       " 1st Qu.: 17.00   1st Qu.:0.0000   Y:30940   1:20455  \n",
       " Median : 25.00   Median :0.0000                      \n",
       " Mean   : 39.95   Mean   :0.2133                      \n",
       " 3rd Qu.: 43.00   3rd Qu.:0.0000                      \n",
       " Max.   :999.00   Max.   :1.0000                      "
      ]
     },
     "metadata": {},
     "output_type": "display_data"
    }
   ],
   "source": [
    "summary(data)"
   ]
  },
  {
   "cell_type": "markdown",
   "metadata": {},
   "source": [
    "### Split dataset into training and test set"
   ]
  },
  {
   "cell_type": "code",
   "execution_count": 37,
   "metadata": {
    "vscode": {
     "languageId": "r"
    }
   },
   "outputs": [],
   "source": [
    "n <- length(data[,1])\n",
    "index <- sample(1:n,n,replace=FALSE)\n",
    "data <- data[index,]\n",
    "seventyPercentLimit <- round(length(data[,1]) * 0.7,0)\n",
    "data.train <- data[1:seventyPercentLimit,]\n",
    "data.test <- data[(seventyPercentLimit+1):n,]"
   ]
  },
  {
   "cell_type": "markdown",
   "metadata": {},
   "source": [
    "### Compute model"
   ]
  },
  {
   "cell_type": "code",
   "execution_count": 38,
   "metadata": {
    "vscode": {
     "languageId": "r"
    }
   },
   "outputs": [],
   "source": [
    "glm_model <- glm(smoking ~ ., \n",
    "                 data=data.train,\n",
    "                 binomial(link = \"logit\"))"
   ]
  },
  {
   "cell_type": "code",
   "execution_count": 39,
   "metadata": {
    "vscode": {
     "languageId": "r"
    }
   },
   "outputs": [
    {
     "data": {
      "text/plain": [
       "\n",
       "Call:  glm(formula = smoking ~ ., family = binomial(link = \"logit\"), \n",
       "    data = data.train)\n",
       "\n",
       "Coefficients:\n",
       "        (Intercept)              genderM                  age  \n",
       "         -6.5739825            2.9429108           -0.0007955  \n",
       "         height.cm.           weight.kg.            waist.cm.  \n",
       "          0.0224253           -0.0115327           -0.0003628  \n",
       "     eyesight.left.      eyesight.right.        hearing.left.  \n",
       "         -0.0453818           -0.0126596           -0.3088257  \n",
       "     hearing.right.             systolic           relaxation  \n",
       "          0.0597497           -0.0143089            0.0096465  \n",
       "fasting.blood.sugar          Cholesterol         triglyceride  \n",
       "          0.0039097           -0.0019718            0.0045874  \n",
       "                HDL                  LDL           hemoglobin  \n",
       "          0.0003954           -0.0008070            0.1374217  \n",
       "      Urine.protein     serum.creatinine                  AST  \n",
       "          0.0046301           -0.8634472           -0.0007180  \n",
       "                ALT                  Gtp        dental.caries  \n",
       "         -0.0056385            0.0078010            0.2862633  \n",
       "            tartarY  \n",
       "          0.3287047  \n",
       "\n",
       "Degrees of Freedom: 38983 Total (i.e. Null);  38959 Residual\n",
       "Null Deviance:\t    51370 \n",
       "Residual Deviance: 36740 \tAIC: 36790"
      ]
     },
     "metadata": {},
     "output_type": "display_data"
    }
   ],
   "source": [
    "glm_model"
   ]
  },
  {
   "cell_type": "markdown",
   "metadata": {},
   "source": [
    "#### Calculate prediction error"
   ]
  },
  {
   "cell_type": "code",
   "execution_count": 40,
   "metadata": {
    "vscode": {
     "languageId": "r"
    }
   },
   "outputs": [
    {
     "data": {
      "text/html": [
       "<style>\n",
       ".list-inline {list-style: none; margin:0; padding: 0}\n",
       ".list-inline>li {display: inline-block}\n",
       ".list-inline>li:not(:last-child)::after {content: \"\\00b7\"; padding: 0 .5ex}\n",
       "</style>\n",
       "<ol class=list-inline><li>'gender'</li><li>'age'</li><li>'height.cm.'</li><li>'weight.kg.'</li><li>'waist.cm.'</li><li>'eyesight.left.'</li><li>'eyesight.right.'</li><li>'hearing.left.'</li><li>'hearing.right.'</li><li>'systolic'</li><li>'relaxation'</li><li>'fasting.blood.sugar'</li><li>'Cholesterol'</li><li>'triglyceride'</li><li>'HDL'</li><li>'LDL'</li><li>'hemoglobin'</li><li>'Urine.protein'</li><li>'serum.creatinine'</li><li>'AST'</li><li>'ALT'</li><li>'Gtp'</li><li>'dental.caries'</li><li>'tartar'</li><li>'smoking'</li></ol>\n"
      ],
      "text/latex": [
       "\\begin{enumerate*}\n",
       "\\item 'gender'\n",
       "\\item 'age'\n",
       "\\item 'height.cm.'\n",
       "\\item 'weight.kg.'\n",
       "\\item 'waist.cm.'\n",
       "\\item 'eyesight.left.'\n",
       "\\item 'eyesight.right.'\n",
       "\\item 'hearing.left.'\n",
       "\\item 'hearing.right.'\n",
       "\\item 'systolic'\n",
       "\\item 'relaxation'\n",
       "\\item 'fasting.blood.sugar'\n",
       "\\item 'Cholesterol'\n",
       "\\item 'triglyceride'\n",
       "\\item 'HDL'\n",
       "\\item 'LDL'\n",
       "\\item 'hemoglobin'\n",
       "\\item 'Urine.protein'\n",
       "\\item 'serum.creatinine'\n",
       "\\item 'AST'\n",
       "\\item 'ALT'\n",
       "\\item 'Gtp'\n",
       "\\item 'dental.caries'\n",
       "\\item 'tartar'\n",
       "\\item 'smoking'\n",
       "\\end{enumerate*}\n"
      ],
      "text/markdown": [
       "1. 'gender'\n",
       "2. 'age'\n",
       "3. 'height.cm.'\n",
       "4. 'weight.kg.'\n",
       "5. 'waist.cm.'\n",
       "6. 'eyesight.left.'\n",
       "7. 'eyesight.right.'\n",
       "8. 'hearing.left.'\n",
       "9. 'hearing.right.'\n",
       "10. 'systolic'\n",
       "11. 'relaxation'\n",
       "12. 'fasting.blood.sugar'\n",
       "13. 'Cholesterol'\n",
       "14. 'triglyceride'\n",
       "15. 'HDL'\n",
       "16. 'LDL'\n",
       "17. 'hemoglobin'\n",
       "18. 'Urine.protein'\n",
       "19. 'serum.creatinine'\n",
       "20. 'AST'\n",
       "21. 'ALT'\n",
       "22. 'Gtp'\n",
       "23. 'dental.caries'\n",
       "24. 'tartar'\n",
       "25. 'smoking'\n",
       "\n",
       "\n"
      ],
      "text/plain": [
       " [1] \"gender\"              \"age\"                 \"height.cm.\"         \n",
       " [4] \"weight.kg.\"          \"waist.cm.\"           \"eyesight.left.\"     \n",
       " [7] \"eyesight.right.\"     \"hearing.left.\"       \"hearing.right.\"     \n",
       "[10] \"systolic\"            \"relaxation\"          \"fasting.blood.sugar\"\n",
       "[13] \"Cholesterol\"         \"triglyceride\"        \"HDL\"                \n",
       "[16] \"LDL\"                 \"hemoglobin\"          \"Urine.protein\"      \n",
       "[19] \"serum.creatinine\"    \"AST\"                 \"ALT\"                \n",
       "[22] \"Gtp\"                 \"dental.caries\"       \"tartar\"             \n",
       "[25] \"smoking\"            "
      ]
     },
     "metadata": {},
     "output_type": "display_data"
    }
   ],
   "source": [
    "names(data.train)"
   ]
  },
  {
   "cell_type": "code",
   "execution_count": 41,
   "metadata": {
    "vscode": {
     "languageId": "r"
    }
   },
   "outputs": [],
   "source": [
    "X.test <- data.test[,c('gender',\n",
    "                        'age',\n",
    "                        'height.cm.',\n",
    "                        'weight.kg.',\n",
    "                        'waist.cm.',\n",
    "                        'eyesight.left.',\n",
    "                        'eyesight.right.',\n",
    "                        'hearing.left.',\n",
    "                        'hearing.right.',\n",
    "                        'systolic',\n",
    "                        'relaxation',\n",
    "                        'fasting.blood.sugar',\n",
    "                        'Cholesterol',\n",
    "                        'triglyceride',\n",
    "                        'HDL',\n",
    "                        'LDL',\n",
    "                        'hemoglobin',\n",
    "                        'Urine.protein',\n",
    "                        'serum.creatinine',\n",
    "                        'AST',\n",
    "                        'ALT',\n",
    "                        'Gtp',\n",
    "                        'dental.caries',\n",
    "                        'tartar',\n",
    "                        'smoking')]"
   ]
  },
  {
   "cell_type": "code",
   "execution_count": 42,
   "metadata": {
    "vscode": {
     "languageId": "r"
    }
   },
   "outputs": [],
   "source": [
    "z <- predict(glm_model,X.test)\n",
    "predictions <- round(exp(z)/(1+exp(z)))"
   ]
  },
  {
   "cell_type": "code",
   "execution_count": 43,
   "metadata": {
    "vscode": {
     "languageId": "r"
    }
   },
   "outputs": [],
   "source": [
    "y <- data.test[,\"smoking\"]"
   ]
  },
  {
   "cell_type": "markdown",
   "metadata": {},
   "source": [
    "##### Confusion Matrix"
   ]
  },
  {
   "cell_type": "code",
   "execution_count": 44,
   "metadata": {
    "vscode": {
     "languageId": "r"
    }
   },
   "outputs": [],
   "source": [
    "A <- matrix(0,ncol=2,nrow=2)\n",
    "\n",
    "colnames(A) <- c(\"Real: No smoker\", \" Real: Smoker\")\n",
    "rownames(A) <- c(\"Prognose: No smoker\", \"Prognose: Smoker\") \n",
    "\n",
    "A[1,1] <- sum(ifelse(y == 0 & predictions == 0, 1,0))\n",
    "A[1,2] <- sum(ifelse(y == 1 & predictions == 0, 1,0))\n",
    "A[2,1] <- sum(ifelse(y == 0 & predictions == 1, 1,0))\n",
    "A[2,2] <- sum(ifelse(y == 1 & predictions == 1, 1,0))"
   ]
  },
  {
   "cell_type": "code",
   "execution_count": 45,
   "metadata": {
    "vscode": {
     "languageId": "r"
    }
   },
   "outputs": [
    {
     "data": {
      "text/html": [
       "<table class=\"dataframe\">\n",
       "<caption>A matrix: 2 × 2 of type dbl</caption>\n",
       "<thead>\n",
       "\t<tr><th></th><th scope=col>Real: No smoker</th><th scope=col> Real: Smoker</th></tr>\n",
       "</thead>\n",
       "<tbody>\n",
       "\t<tr><th scope=row>Prognose: No smoker</th><td>8127</td><td>1755</td></tr>\n",
       "\t<tr><th scope=row>Prognose: Smoker</th><td>2542</td><td>4284</td></tr>\n",
       "</tbody>\n",
       "</table>\n"
      ],
      "text/latex": [
       "A matrix: 2 × 2 of type dbl\n",
       "\\begin{tabular}{r|ll}\n",
       "  & Real: No smoker &  Real: Smoker\\\\\n",
       "\\hline\n",
       "\tPrognose: No smoker & 8127 & 1755\\\\\n",
       "\tPrognose: Smoker & 2542 & 4284\\\\\n",
       "\\end{tabular}\n"
      ],
      "text/markdown": [
       "\n",
       "A matrix: 2 × 2 of type dbl\n",
       "\n",
       "| <!--/--> | Real: No smoker |  Real: Smoker |\n",
       "|---|---|---|\n",
       "| Prognose: No smoker | 8127 | 1755 |\n",
       "| Prognose: Smoker | 2542 | 4284 |\n",
       "\n"
      ],
      "text/plain": [
       "                    Real: No smoker  Real: Smoker\n",
       "Prognose: No smoker 8127            1755         \n",
       "Prognose: Smoker    2542            4284         "
      ]
     },
     "metadata": {},
     "output_type": "display_data"
    }
   ],
   "source": [
    "A"
   ]
  },
  {
   "cell_type": "markdown",
   "metadata": {},
   "source": [
    "##### True-Positive-Rate & True-Negative-Rate"
   ]
  },
  {
   "cell_type": "code",
   "execution_count": 46,
   "metadata": {
    "vscode": {
     "languageId": "r"
    }
   },
   "outputs": [
    {
     "data": {
      "text/html": [
       "0.709388971684054"
      ],
      "text/latex": [
       "0.709388971684054"
      ],
      "text/markdown": [
       "0.709388971684054"
      ],
      "text/plain": [
       "[1] 0.709389"
      ]
     },
     "metadata": {},
     "output_type": "display_data"
    },
    {
     "data": {
      "text/html": [
       "0.761739619458244"
      ],
      "text/latex": [
       "0.761739619458244"
      ],
      "text/markdown": [
       "0.761739619458244"
      ],
      "text/plain": [
       "[1] 0.7617396"
      ]
     },
     "metadata": {},
     "output_type": "display_data"
    }
   ],
   "source": [
    "A[2,2]/(A[1,2]+A[2,2]) # True-Positive-Rate\n",
    "A[1,1]/(A[1,1]+A[2,1]) # True-Negative-Rate"
   ]
  },
  {
   "cell_type": "markdown",
   "metadata": {},
   "source": [
    "## With LASSO feature selection"
   ]
  },
  {
   "cell_type": "code",
   "execution_count": 47,
   "metadata": {
    "vscode": {
     "languageId": "r"
    }
   },
   "outputs": [],
   "source": [
    "data <- read.csv(\"smoking.csv\",header=TRUE,sep=\",\",fill=TRUE,stringsAsFactors=TRUE)"
   ]
  },
  {
   "cell_type": "code",
   "execution_count": 48,
   "metadata": {
    "vscode": {
     "languageId": "r"
    }
   },
   "outputs": [],
   "source": [
    "data <- subset(data, select=-ID)\n",
    "data <- subset(data, select=-oral)"
   ]
  },
  {
   "cell_type": "code",
   "execution_count": 49,
   "metadata": {
    "vscode": {
     "languageId": "r"
    }
   },
   "outputs": [
    {
     "data": {
      "text/plain": [
       " gender         age          height.cm.      weight.kg.       waist.cm.     \n",
       " F:20291   Min.   :20.00   Min.   :130.0   Min.   : 30.00   Min.   : 51.00  \n",
       " M:35401   1st Qu.:40.00   1st Qu.:160.0   1st Qu.: 55.00   1st Qu.: 76.00  \n",
       "           Median :40.00   Median :165.0   Median : 65.00   Median : 82.00  \n",
       "           Mean   :44.18   Mean   :164.6   Mean   : 65.86   Mean   : 82.05  \n",
       "           3rd Qu.:55.00   3rd Qu.:170.0   3rd Qu.: 75.00   3rd Qu.: 88.00  \n",
       "           Max.   :85.00   Max.   :190.0   Max.   :135.00   Max.   :129.00  \n",
       " eyesight.left.  eyesight.right. hearing.left.   hearing.right. \n",
       " Min.   :0.100   Min.   :0.100   Min.   :1.000   Min.   :1.000  \n",
       " 1st Qu.:0.800   1st Qu.:0.800   1st Qu.:1.000   1st Qu.:1.000  \n",
       " Median :1.000   Median :1.000   Median :1.000   Median :1.000  \n",
       " Mean   :1.013   Mean   :1.007   Mean   :1.026   Mean   :1.026  \n",
       " 3rd Qu.:1.200   3rd Qu.:1.200   3rd Qu.:1.000   3rd Qu.:1.000  \n",
       " Max.   :9.900   Max.   :9.900   Max.   :2.000   Max.   :2.000  \n",
       "    systolic       relaxation  fasting.blood.sugar  Cholesterol   \n",
       " Min.   : 71.0   Min.   : 40   Min.   : 46.00      Min.   : 55.0  \n",
       " 1st Qu.:112.0   1st Qu.: 70   1st Qu.: 89.00      1st Qu.:172.0  \n",
       " Median :120.0   Median : 76   Median : 96.00      Median :195.0  \n",
       " Mean   :121.5   Mean   : 76   Mean   : 99.31      Mean   :196.9  \n",
       " 3rd Qu.:130.0   3rd Qu.: 82   3rd Qu.:104.00      3rd Qu.:220.0  \n",
       " Max.   :240.0   Max.   :146   Max.   :505.00      Max.   :445.0  \n",
       "  triglyceride        HDL              LDL         hemoglobin   \n",
       " Min.   :  8.0   Min.   :  4.00   Min.   :   1   Min.   : 4.90  \n",
       " 1st Qu.: 74.0   1st Qu.: 47.00   1st Qu.:  92   1st Qu.:13.60  \n",
       " Median :108.0   Median : 55.00   Median : 113   Median :14.80  \n",
       " Mean   :126.7   Mean   : 57.29   Mean   : 115   Mean   :14.62  \n",
       " 3rd Qu.:160.0   3rd Qu.: 66.00   3rd Qu.: 136   3rd Qu.:15.80  \n",
       " Max.   :999.0   Max.   :618.00   Max.   :1860   Max.   :21.10  \n",
       " Urine.protein   serum.creatinine       AST               ALT         \n",
       " Min.   :1.000   Min.   : 0.1000   Min.   :   6.00   Min.   :   1.00  \n",
       " 1st Qu.:1.000   1st Qu.: 0.8000   1st Qu.:  19.00   1st Qu.:  15.00  \n",
       " Median :1.000   Median : 0.9000   Median :  23.00   Median :  21.00  \n",
       " Mean   :1.087   Mean   : 0.8857   Mean   :  26.18   Mean   :  27.04  \n",
       " 3rd Qu.:1.000   3rd Qu.: 1.0000   3rd Qu.:  28.00   3rd Qu.:  31.00  \n",
       " Max.   :6.000   Max.   :11.6000   Max.   :1311.00   Max.   :2914.00  \n",
       "      Gtp         dental.caries    tartar       smoking      \n",
       " Min.   :  1.00   Min.   :0.0000   N:24752   Min.   :0.0000  \n",
       " 1st Qu.: 17.00   1st Qu.:0.0000   Y:30940   1st Qu.:0.0000  \n",
       " Median : 25.00   Median :0.0000             Median :0.0000  \n",
       " Mean   : 39.95   Mean   :0.2133             Mean   :0.3673  \n",
       " 3rd Qu.: 43.00   3rd Qu.:0.0000             3rd Qu.:1.0000  \n",
       " Max.   :999.00   Max.   :1.0000             Max.   :1.0000  "
      ]
     },
     "metadata": {},
     "output_type": "display_data"
    }
   ],
   "source": [
    "summary(data)"
   ]
  },
  {
   "cell_type": "markdown",
   "metadata": {},
   "source": [
    "### Sort data randomly"
   ]
  },
  {
   "cell_type": "code",
   "execution_count": 50,
   "metadata": {
    "vscode": {
     "languageId": "r"
    }
   },
   "outputs": [],
   "source": [
    "n <- length(data[,1])\n",
    "Index <- sample(seq(1,n,1), replace=FALSE)\n",
    "data <- data[Index,]\n",
    "rownames(data) <- 1:n"
   ]
  },
  {
   "cell_type": "markdown",
   "metadata": {},
   "source": [
    "### LASSO feature selection"
   ]
  },
  {
   "cell_type": "code",
   "execution_count": 51,
   "metadata": {
    "vscode": {
     "languageId": "r"
    }
   },
   "outputs": [
    {
     "name": "stderr",
     "output_type": "stream",
     "text": [
      "Loading required package: Matrix\n",
      "\n",
      "Loaded glmnet 4.1-4\n",
      "\n"
     ]
    }
   ],
   "source": [
    "library(glmnet)"
   ]
  },
  {
   "cell_type": "code",
   "execution_count": 52,
   "metadata": {
    "vscode": {
     "languageId": "r"
    }
   },
   "outputs": [],
   "source": [
    "data.lasso <- subset(data, select=-gender)\n",
    "data.lasso <- subset(data.lasso, select=-tartar)\n",
    "X <- model.matrix(smoking ~ ., data.lasso)\n",
    "X <- X[,-1]"
   ]
  },
  {
   "cell_type": "code",
   "execution_count": 53,
   "metadata": {
    "vscode": {
     "languageId": "r"
    }
   },
   "outputs": [],
   "source": [
    "y <- data[,\"smoking\"]"
   ]
  },
  {
   "cell_type": "code",
   "execution_count": 54,
   "metadata": {
    "vscode": {
     "languageId": "r"
    }
   },
   "outputs": [],
   "source": [
    "m <- length(X[1,])\n",
    "total.numbers <- rep(0,m)\n",
    "RUNS <- 100\n",
    "\n",
    "for (run in 1:RUNS) {\n",
    "    model.lasso <- cv.glmnet(X,y)\n",
    "    beta <- coef(model.lasso,s=\"lambda.1se\")[-1,1]\n",
    "    total.numbers <- total.numbers + ifelse(beta != 0, 1, 0)\n",
    "}"
   ]
  },
  {
   "cell_type": "code",
   "execution_count": 55,
   "metadata": {
    "vscode": {
     "languageId": "r"
    }
   },
   "outputs": [
    {
     "data": {
      "text/html": [
       "<table class=\"dataframe\">\n",
       "<caption>A matrix: 22 × 1 of type dbl</caption>\n",
       "<tbody>\n",
       "\t<tr><th scope=row>age</th><td>  0</td></tr>\n",
       "\t<tr><th scope=row>height.cm.</th><td>100</td></tr>\n",
       "\t<tr><th scope=row>weight.kg.</th><td> 95</td></tr>\n",
       "\t<tr><th scope=row>waist.cm.</th><td>  0</td></tr>\n",
       "\t<tr><th scope=row>eyesight.left.</th><td>  0</td></tr>\n",
       "\t<tr><th scope=row>eyesight.right.</th><td>  0</td></tr>\n",
       "\t<tr><th scope=row>hearing.left.</th><td>  0</td></tr>\n",
       "\t<tr><th scope=row>hearing.right.</th><td>  0</td></tr>\n",
       "\t<tr><th scope=row>systolic</th><td>100</td></tr>\n",
       "\t<tr><th scope=row>relaxation</th><td>  0</td></tr>\n",
       "\t<tr><th scope=row>fasting.blood.sugar</th><td>100</td></tr>\n",
       "\t<tr><th scope=row>Cholesterol</th><td>100</td></tr>\n",
       "\t<tr><th scope=row>triglyceride</th><td>100</td></tr>\n",
       "\t<tr><th scope=row>HDL</th><td> 99</td></tr>\n",
       "\t<tr><th scope=row>LDL</th><td>  0</td></tr>\n",
       "\t<tr><th scope=row>hemoglobin</th><td>100</td></tr>\n",
       "\t<tr><th scope=row>Urine.protein</th><td>  0</td></tr>\n",
       "\t<tr><th scope=row>serum.creatinine</th><td>100</td></tr>\n",
       "\t<tr><th scope=row>AST</th><td>100</td></tr>\n",
       "\t<tr><th scope=row>ALT</th><td>100</td></tr>\n",
       "\t<tr><th scope=row>Gtp</th><td>100</td></tr>\n",
       "\t<tr><th scope=row>dental.caries</th><td>100</td></tr>\n",
       "</tbody>\n",
       "</table>\n"
      ],
      "text/latex": [
       "A matrix: 22 × 1 of type dbl\n",
       "\\begin{tabular}{r|l}\n",
       "\tage &   0\\\\\n",
       "\theight.cm. & 100\\\\\n",
       "\tweight.kg. &  95\\\\\n",
       "\twaist.cm. &   0\\\\\n",
       "\teyesight.left. &   0\\\\\n",
       "\teyesight.right. &   0\\\\\n",
       "\thearing.left. &   0\\\\\n",
       "\thearing.right. &   0\\\\\n",
       "\tsystolic & 100\\\\\n",
       "\trelaxation &   0\\\\\n",
       "\tfasting.blood.sugar & 100\\\\\n",
       "\tCholesterol & 100\\\\\n",
       "\ttriglyceride & 100\\\\\n",
       "\tHDL &  99\\\\\n",
       "\tLDL &   0\\\\\n",
       "\themoglobin & 100\\\\\n",
       "\tUrine.protein &   0\\\\\n",
       "\tserum.creatinine & 100\\\\\n",
       "\tAST & 100\\\\\n",
       "\tALT & 100\\\\\n",
       "\tGtp & 100\\\\\n",
       "\tdental.caries & 100\\\\\n",
       "\\end{tabular}\n"
      ],
      "text/markdown": [
       "\n",
       "A matrix: 22 × 1 of type dbl\n",
       "\n",
       "| age |   0 |\n",
       "| height.cm. | 100 |\n",
       "| weight.kg. |  95 |\n",
       "| waist.cm. |   0 |\n",
       "| eyesight.left. |   0 |\n",
       "| eyesight.right. |   0 |\n",
       "| hearing.left. |   0 |\n",
       "| hearing.right. |   0 |\n",
       "| systolic | 100 |\n",
       "| relaxation |   0 |\n",
       "| fasting.blood.sugar | 100 |\n",
       "| Cholesterol | 100 |\n",
       "| triglyceride | 100 |\n",
       "| HDL |  99 |\n",
       "| LDL |   0 |\n",
       "| hemoglobin | 100 |\n",
       "| Urine.protein |   0 |\n",
       "| serum.creatinine | 100 |\n",
       "| AST | 100 |\n",
       "| ALT | 100 |\n",
       "| Gtp | 100 |\n",
       "| dental.caries | 100 |\n",
       "\n"
      ],
      "text/plain": [
       "                    [,1]\n",
       "age                   0 \n",
       "height.cm.          100 \n",
       "weight.kg.           95 \n",
       "waist.cm.             0 \n",
       "eyesight.left.        0 \n",
       "eyesight.right.       0 \n",
       "hearing.left.         0 \n",
       "hearing.right.        0 \n",
       "systolic            100 \n",
       "relaxation            0 \n",
       "fasting.blood.sugar 100 \n",
       "Cholesterol         100 \n",
       "triglyceride        100 \n",
       "HDL                  99 \n",
       "LDL                   0 \n",
       "hemoglobin          100 \n",
       "Urine.protein         0 \n",
       "serum.creatinine    100 \n",
       "AST                 100 \n",
       "ALT                 100 \n",
       "Gtp                 100 \n",
       "dental.caries       100 "
      ]
     },
     "metadata": {},
     "output_type": "display_data"
    }
   ],
   "source": [
    "total.numbers <- as.matrix(total.numbers)\n",
    "total.numbers"
   ]
  },
  {
   "cell_type": "code",
   "execution_count": 56,
   "metadata": {
    "vscode": {
     "languageId": "r"
    }
   },
   "outputs": [],
   "source": [
    "temp <- total.numbers[total.numbers[,1] >= 50, 1]\n",
    "selection <- names(temp)"
   ]
  },
  {
   "cell_type": "code",
   "execution_count": 57,
   "metadata": {
    "vscode": {
     "languageId": "r"
    }
   },
   "outputs": [
    {
     "data": {
      "text/html": [
       "<style>\n",
       ".list-inline {list-style: none; margin:0; padding: 0}\n",
       ".list-inline>li {display: inline-block}\n",
       ".list-inline>li:not(:last-child)::after {content: \"\\00b7\"; padding: 0 .5ex}\n",
       "</style>\n",
       "<ol class=list-inline><li>'height.cm.'</li><li>'weight.kg.'</li><li>'systolic'</li><li>'fasting.blood.sugar'</li><li>'Cholesterol'</li><li>'triglyceride'</li><li>'HDL'</li><li>'hemoglobin'</li><li>'serum.creatinine'</li><li>'AST'</li><li>'ALT'</li><li>'Gtp'</li><li>'dental.caries'</li></ol>\n"
      ],
      "text/latex": [
       "\\begin{enumerate*}\n",
       "\\item 'height.cm.'\n",
       "\\item 'weight.kg.'\n",
       "\\item 'systolic'\n",
       "\\item 'fasting.blood.sugar'\n",
       "\\item 'Cholesterol'\n",
       "\\item 'triglyceride'\n",
       "\\item 'HDL'\n",
       "\\item 'hemoglobin'\n",
       "\\item 'serum.creatinine'\n",
       "\\item 'AST'\n",
       "\\item 'ALT'\n",
       "\\item 'Gtp'\n",
       "\\item 'dental.caries'\n",
       "\\end{enumerate*}\n"
      ],
      "text/markdown": [
       "1. 'height.cm.'\n",
       "2. 'weight.kg.'\n",
       "3. 'systolic'\n",
       "4. 'fasting.blood.sugar'\n",
       "5. 'Cholesterol'\n",
       "6. 'triglyceride'\n",
       "7. 'HDL'\n",
       "8. 'hemoglobin'\n",
       "9. 'serum.creatinine'\n",
       "10. 'AST'\n",
       "11. 'ALT'\n",
       "12. 'Gtp'\n",
       "13. 'dental.caries'\n",
       "\n",
       "\n"
      ],
      "text/plain": [
       " [1] \"height.cm.\"          \"weight.kg.\"          \"systolic\"           \n",
       " [4] \"fasting.blood.sugar\" \"Cholesterol\"         \"triglyceride\"       \n",
       " [7] \"HDL\"                 \"hemoglobin\"          \"serum.creatinine\"   \n",
       "[10] \"AST\"                 \"ALT\"                 \"Gtp\"                \n",
       "[13] \"dental.caries\"      "
      ]
     },
     "metadata": {},
     "output_type": "display_data"
    }
   ],
   "source": [
    "selection"
   ]
  },
  {
   "cell_type": "code",
   "execution_count": 58,
   "metadata": {
    "vscode": {
     "languageId": "r"
    }
   },
   "outputs": [],
   "source": [
    "model.data <- data[,c(\"smoking\",\"gender\",\"tartar\",selection)]"
   ]
  },
  {
   "cell_type": "code",
   "execution_count": 59,
   "metadata": {
    "vscode": {
     "languageId": "r"
    }
   },
   "outputs": [],
   "source": [
    "model.data[,\"smoking\"] <- as.factor(model.data[,\"smoking\"])"
   ]
  },
  {
   "cell_type": "code",
   "execution_count": 60,
   "metadata": {
    "vscode": {
     "languageId": "r"
    }
   },
   "outputs": [
    {
     "data": {
      "text/plain": [
       " smoking   gender    tartar      height.cm.      weight.kg.        systolic    \n",
       " 0:35237   F:20291   N:24752   Min.   :130.0   Min.   : 30.00   Min.   : 71.0  \n",
       " 1:20455   M:35401   Y:30940   1st Qu.:160.0   1st Qu.: 55.00   1st Qu.:112.0  \n",
       "                               Median :165.0   Median : 65.00   Median :120.0  \n",
       "                               Mean   :164.6   Mean   : 65.86   Mean   :121.5  \n",
       "                               3rd Qu.:170.0   3rd Qu.: 75.00   3rd Qu.:130.0  \n",
       "                               Max.   :190.0   Max.   :135.00   Max.   :240.0  \n",
       " fasting.blood.sugar  Cholesterol     triglyceride        HDL        \n",
       " Min.   : 46.00      Min.   : 55.0   Min.   :  8.0   Min.   :  4.00  \n",
       " 1st Qu.: 89.00      1st Qu.:172.0   1st Qu.: 74.0   1st Qu.: 47.00  \n",
       " Median : 96.00      Median :195.0   Median :108.0   Median : 55.00  \n",
       " Mean   : 99.31      Mean   :196.9   Mean   :126.7   Mean   : 57.29  \n",
       " 3rd Qu.:104.00      3rd Qu.:220.0   3rd Qu.:160.0   3rd Qu.: 66.00  \n",
       " Max.   :505.00      Max.   :445.0   Max.   :999.0   Max.   :618.00  \n",
       "   hemoglobin    serum.creatinine       AST               ALT         \n",
       " Min.   : 4.90   Min.   : 0.1000   Min.   :   6.00   Min.   :   1.00  \n",
       " 1st Qu.:13.60   1st Qu.: 0.8000   1st Qu.:  19.00   1st Qu.:  15.00  \n",
       " Median :14.80   Median : 0.9000   Median :  23.00   Median :  21.00  \n",
       " Mean   :14.62   Mean   : 0.8857   Mean   :  26.18   Mean   :  27.04  \n",
       " 3rd Qu.:15.80   3rd Qu.: 1.0000   3rd Qu.:  28.00   3rd Qu.:  31.00  \n",
       " Max.   :21.10   Max.   :11.6000   Max.   :1311.00   Max.   :2914.00  \n",
       "      Gtp         dental.caries   \n",
       " Min.   :  1.00   Min.   :0.0000  \n",
       " 1st Qu.: 17.00   1st Qu.:0.0000  \n",
       " Median : 25.00   Median :0.0000  \n",
       " Mean   : 39.95   Mean   :0.2133  \n",
       " 3rd Qu.: 43.00   3rd Qu.:0.0000  \n",
       " Max.   :999.00   Max.   :1.0000  "
      ]
     },
     "metadata": {},
     "output_type": "display_data"
    }
   ],
   "source": [
    "summary(model.data)"
   ]
  },
  {
   "cell_type": "markdown",
   "metadata": {},
   "source": [
    "### Split dataset into training and test set"
   ]
  },
  {
   "cell_type": "code",
   "execution_count": 61,
   "metadata": {
    "vscode": {
     "languageId": "r"
    }
   },
   "outputs": [],
   "source": [
    "n <- length(model.data[,1])\n",
    "index <- sample(1:n,n,replace=FALSE)\n",
    "model.data <- model.data[index,]\n",
    "seventyPercentLimit <- round(length(model.data[,1]) * 0.7,0)\n",
    "model.data.train <- model.data[1:seventyPercentLimit,]\n",
    "model.data.test <- model.data[(seventyPercentLimit+1):n,]"
   ]
  },
  {
   "cell_type": "markdown",
   "metadata": {},
   "source": [
    "### Compute model"
   ]
  },
  {
   "cell_type": "code",
   "execution_count": 62,
   "metadata": {
    "vscode": {
     "languageId": "r"
    }
   },
   "outputs": [],
   "source": [
    "glm_model <- glm(smoking ~ ., \n",
    "                 data=model.data.train,\n",
    "                 binomial(link = \"logit\"))"
   ]
  },
  {
   "cell_type": "code",
   "execution_count": 63,
   "metadata": {
    "vscode": {
     "languageId": "r"
    }
   },
   "outputs": [
    {
     "data": {
      "text/plain": [
       "\n",
       "Call:  glm(formula = smoking ~ ., family = binomial(link = \"logit\"), \n",
       "    data = model.data.train)\n",
       "\n",
       "Coefficients:\n",
       "        (Intercept)              genderM              tartarY  \n",
       "          -7.182417             2.867847             0.350580  \n",
       "         height.cm.           weight.kg.             systolic  \n",
       "           0.023704            -0.011432            -0.009337  \n",
       "fasting.blood.sugar          Cholesterol         triglyceride  \n",
       "           0.003814            -0.002642             0.004712  \n",
       "                HDL           hemoglobin     serum.creatinine  \n",
       "           0.001664             0.147427            -0.847932  \n",
       "                AST                  ALT                  Gtp  \n",
       "          -0.001158            -0.006246             0.007839  \n",
       "      dental.caries  \n",
       "           0.334286  \n",
       "\n",
       "Degrees of Freedom: 38983 Total (i.e. Null);  38968 Residual\n",
       "Null Deviance:\t    51280 \n",
       "Residual Deviance: 36850 \tAIC: 36880"
      ]
     },
     "metadata": {},
     "output_type": "display_data"
    }
   ],
   "source": [
    "glm_model"
   ]
  },
  {
   "cell_type": "markdown",
   "metadata": {},
   "source": [
    "#### Calculate prediction error"
   ]
  },
  {
   "cell_type": "code",
   "execution_count": 64,
   "metadata": {
    "vscode": {
     "languageId": "r"
    }
   },
   "outputs": [],
   "source": [
    "X.test <- model.data.test[,c(\"gender\",\"tartar\",selection)]"
   ]
  },
  {
   "cell_type": "code",
   "execution_count": 65,
   "metadata": {
    "vscode": {
     "languageId": "r"
    }
   },
   "outputs": [],
   "source": [
    "z <- predict(glm_model,X.test)\n",
    "predictions <- round(exp(z)/(1+exp(z)))"
   ]
  },
  {
   "cell_type": "code",
   "execution_count": 66,
   "metadata": {
    "vscode": {
     "languageId": "r"
    }
   },
   "outputs": [],
   "source": [
    "y <- model.data.test[,\"smoking\"]"
   ]
  },
  {
   "cell_type": "markdown",
   "metadata": {},
   "source": [
    "##### Confusion Matrix"
   ]
  },
  {
   "cell_type": "code",
   "execution_count": 67,
   "metadata": {
    "vscode": {
     "languageId": "r"
    }
   },
   "outputs": [],
   "source": [
    "A <- matrix(0,ncol=2,nrow=2)\n",
    "\n",
    "colnames(A) <- c(\"Real: No smoker\", \" Real: Smoker\")\n",
    "rownames(A) <- c(\"Prognose: No smoker\", \"Prognose: Smoker\") \n",
    "\n",
    "A[1,1] <- sum(ifelse(y == 0 & predictions == 0, 1,0))\n",
    "A[1,2] <- sum(ifelse(y == 1 & predictions == 0, 1,0))\n",
    "A[2,1] <- sum(ifelse(y == 0 & predictions == 1, 1,0))\n",
    "A[2,2] <- sum(ifelse(y == 1 & predictions == 1, 1,0))"
   ]
  },
  {
   "cell_type": "code",
   "execution_count": 68,
   "metadata": {
    "vscode": {
     "languageId": "r"
    }
   },
   "outputs": [
    {
     "data": {
      "text/html": [
       "<table class=\"dataframe\">\n",
       "<caption>A matrix: 2 × 2 of type dbl</caption>\n",
       "<thead>\n",
       "\t<tr><th></th><th scope=col>Real: No smoker</th><th scope=col> Real: Smoker</th></tr>\n",
       "</thead>\n",
       "<tbody>\n",
       "\t<tr><th scope=row>Prognose: No smoker</th><td>8137</td><td>1812</td></tr>\n",
       "\t<tr><th scope=row>Prognose: Smoker</th><td>2451</td><td>4308</td></tr>\n",
       "</tbody>\n",
       "</table>\n"
      ],
      "text/latex": [
       "A matrix: 2 × 2 of type dbl\n",
       "\\begin{tabular}{r|ll}\n",
       "  & Real: No smoker &  Real: Smoker\\\\\n",
       "\\hline\n",
       "\tPrognose: No smoker & 8137 & 1812\\\\\n",
       "\tPrognose: Smoker & 2451 & 4308\\\\\n",
       "\\end{tabular}\n"
      ],
      "text/markdown": [
       "\n",
       "A matrix: 2 × 2 of type dbl\n",
       "\n",
       "| <!--/--> | Real: No smoker |  Real: Smoker |\n",
       "|---|---|---|\n",
       "| Prognose: No smoker | 8137 | 1812 |\n",
       "| Prognose: Smoker | 2451 | 4308 |\n",
       "\n"
      ],
      "text/plain": [
       "                    Real: No smoker  Real: Smoker\n",
       "Prognose: No smoker 8137            1812         \n",
       "Prognose: Smoker    2451            4308         "
      ]
     },
     "metadata": {},
     "output_type": "display_data"
    }
   ],
   "source": [
    "A"
   ]
  },
  {
   "cell_type": "markdown",
   "metadata": {},
   "source": [
    "##### True-Positive-Rate & True-Negative-Rate"
   ]
  },
  {
   "cell_type": "code",
   "execution_count": 69,
   "metadata": {
    "vscode": {
     "languageId": "r"
    }
   },
   "outputs": [
    {
     "data": {
      "text/html": [
       "0.703921568627451"
      ],
      "text/latex": [
       "0.703921568627451"
      ],
      "text/markdown": [
       "0.703921568627451"
      ],
      "text/plain": [
       "[1] 0.7039216"
      ]
     },
     "metadata": {},
     "output_type": "display_data"
    },
    {
     "data": {
      "text/html": [
       "0.768511522478277"
      ],
      "text/latex": [
       "0.768511522478277"
      ],
      "text/markdown": [
       "0.768511522478277"
      ],
      "text/plain": [
       "[1] 0.7685115"
      ]
     },
     "metadata": {},
     "output_type": "display_data"
    }
   ],
   "source": [
    "A[2,2]/(A[1,2]+A[2,2])   # True-Positive-Rate\n",
    "A[1,1]/(A[1,1]+A[2,1])   # True-Negative-Rate"
   ]
  }
 ],
 "metadata": {
  "kernelspec": {
   "display_name": "R",
   "language": "R",
   "name": "ir"
  },
  "language_info": {
   "codemirror_mode": "r",
   "file_extension": ".r",
   "mimetype": "text/x-r-source",
   "name": "R",
   "pygments_lexer": "r",
   "version": "4.1.3"
  },
  "orig_nbformat": 4
 },
 "nbformat": 4,
 "nbformat_minor": 2
}
