{
 "cells": [
  {
   "cell_type": "markdown",
   "metadata": {},
   "source": [
    "# Logistic Regression"
   ]
  },
  {
   "cell_type": "markdown",
   "metadata": {},
   "source": [
    "## With feature selection"
   ]
  },
  {
   "cell_type": "markdown",
   "metadata": {},
   "source": [
    "### Read and preprocess data"
   ]
  },
  {
   "cell_type": "code",
   "execution_count": 1,
   "metadata": {
    "vscode": {
     "languageId": "r"
    }
   },
   "outputs": [],
   "source": [
    "selected_features <- c('smoking',\n",
    "                       'gender',\n",
    "                       'age',\n",
    "                       'height.cm.',\n",
    "                       'weight.kg.',\n",
    "                       'systolic',\n",
    "                       'relaxation',\n",
    "                       'fasting.blood.sugar',\n",
    "                       'triglyceride',\n",
    "                       'HDL',\n",
    "                       'hemoglobin',\n",
    "                       'serum.creatinine',\n",
    "                       'ALT',\n",
    "                       'Gtp',\n",
    "                       'dental.caries',\n",
    "                       'tartar')"
   ]
  },
  {
   "cell_type": "code",
   "execution_count": 2,
   "metadata": {
    "vscode": {
     "languageId": "r"
    }
   },
   "outputs": [],
   "source": [
    "setwd('/home/steinerj/Documents/ai-b/semester-4/machine-learning/ai-b-4-ml-project/data')"
   ]
  },
  {
   "cell_type": "code",
   "execution_count": 3,
   "metadata": {
    "vscode": {
     "languageId": "r"
    }
   },
   "outputs": [],
   "source": [
    "data <- read.csv(\"smoking.csv\",header=TRUE,sep=\",\",fill=TRUE,stringsAsFactors=TRUE)"
   ]
  },
  {
   "cell_type": "code",
   "execution_count": 4,
   "metadata": {
    "vscode": {
     "languageId": "r"
    }
   },
   "outputs": [],
   "source": [
    "model.data <- data[,selected_features]"
   ]
  },
  {
   "cell_type": "code",
   "execution_count": 5,
   "metadata": {
    "vscode": {
     "languageId": "r"
    }
   },
   "outputs": [
    {
     "data": {
      "text/plain": [
       "    smoking       gender         age          height.cm.      weight.kg.    \n",
       " Min.   :0.0000   F:20291   Min.   :20.00   Min.   :130.0   Min.   : 30.00  \n",
       " 1st Qu.:0.0000   M:35401   1st Qu.:40.00   1st Qu.:160.0   1st Qu.: 55.00  \n",
       " Median :0.0000             Median :40.00   Median :165.0   Median : 65.00  \n",
       " Mean   :0.3673             Mean   :44.18   Mean   :164.6   Mean   : 65.86  \n",
       " 3rd Qu.:1.0000             3rd Qu.:55.00   3rd Qu.:170.0   3rd Qu.: 75.00  \n",
       " Max.   :1.0000             Max.   :85.00   Max.   :190.0   Max.   :135.00  \n",
       "    systolic       relaxation  fasting.blood.sugar  triglyceride  \n",
       " Min.   : 71.0   Min.   : 40   Min.   : 46.00      Min.   :  8.0  \n",
       " 1st Qu.:112.0   1st Qu.: 70   1st Qu.: 89.00      1st Qu.: 74.0  \n",
       " Median :120.0   Median : 76   Median : 96.00      Median :108.0  \n",
       " Mean   :121.5   Mean   : 76   Mean   : 99.31      Mean   :126.7  \n",
       " 3rd Qu.:130.0   3rd Qu.: 82   3rd Qu.:104.00      3rd Qu.:160.0  \n",
       " Max.   :240.0   Max.   :146   Max.   :505.00      Max.   :999.0  \n",
       "      HDL           hemoglobin    serum.creatinine       ALT         \n",
       " Min.   :  4.00   Min.   : 4.90   Min.   : 0.1000   Min.   :   1.00  \n",
       " 1st Qu.: 47.00   1st Qu.:13.60   1st Qu.: 0.8000   1st Qu.:  15.00  \n",
       " Median : 55.00   Median :14.80   Median : 0.9000   Median :  21.00  \n",
       " Mean   : 57.29   Mean   :14.62   Mean   : 0.8857   Mean   :  27.04  \n",
       " 3rd Qu.: 66.00   3rd Qu.:15.80   3rd Qu.: 1.0000   3rd Qu.:  31.00  \n",
       " Max.   :618.00   Max.   :21.10   Max.   :11.6000   Max.   :2914.00  \n",
       "      Gtp         dental.caries    tartar   \n",
       " Min.   :  1.00   Min.   :0.0000   N:24752  \n",
       " 1st Qu.: 17.00   1st Qu.:0.0000   Y:30940  \n",
       " Median : 25.00   Median :0.0000            \n",
       " Mean   : 39.95   Mean   :0.2133            \n",
       " 3rd Qu.: 43.00   3rd Qu.:0.0000            \n",
       " Max.   :999.00   Max.   :1.0000            "
      ]
     },
     "metadata": {},
     "output_type": "display_data"
    }
   ],
   "source": [
    "summary(model.data)"
   ]
  },
  {
   "cell_type": "code",
   "execution_count": 6,
   "metadata": {
    "vscode": {
     "languageId": "r"
    }
   },
   "outputs": [],
   "source": [
    "model.data[,\"tartar\"] <- ifelse(data[,\"tartar\"] == 'Y', 1, 0)\n",
    "model.data[,\"tartar\"] <- as.factor(model.data[,\"tartar\"])"
   ]
  },
  {
   "cell_type": "code",
   "execution_count": 7,
   "metadata": {
    "vscode": {
     "languageId": "r"
    }
   },
   "outputs": [],
   "source": [
    "model.data[,\"smoking\"] <- as.factor(model.data[,\"smoking\"])\n",
    "model.data[,\"dental.caries\"] <- as.factor(model.data[,\"dental.caries\"])"
   ]
  },
  {
   "cell_type": "code",
   "execution_count": 8,
   "metadata": {
    "vscode": {
     "languageId": "r"
    }
   },
   "outputs": [
    {
     "data": {
      "text/plain": [
       " smoking   gender         age          height.cm.      weight.kg.    \n",
       " 0:35237   F:20291   Min.   :20.00   Min.   :130.0   Min.   : 30.00  \n",
       " 1:20455   M:35401   1st Qu.:40.00   1st Qu.:160.0   1st Qu.: 55.00  \n",
       "                     Median :40.00   Median :165.0   Median : 65.00  \n",
       "                     Mean   :44.18   Mean   :164.6   Mean   : 65.86  \n",
       "                     3rd Qu.:55.00   3rd Qu.:170.0   3rd Qu.: 75.00  \n",
       "                     Max.   :85.00   Max.   :190.0   Max.   :135.00  \n",
       "    systolic       relaxation  fasting.blood.sugar  triglyceride  \n",
       " Min.   : 71.0   Min.   : 40   Min.   : 46.00      Min.   :  8.0  \n",
       " 1st Qu.:112.0   1st Qu.: 70   1st Qu.: 89.00      1st Qu.: 74.0  \n",
       " Median :120.0   Median : 76   Median : 96.00      Median :108.0  \n",
       " Mean   :121.5   Mean   : 76   Mean   : 99.31      Mean   :126.7  \n",
       " 3rd Qu.:130.0   3rd Qu.: 82   3rd Qu.:104.00      3rd Qu.:160.0  \n",
       " Max.   :240.0   Max.   :146   Max.   :505.00      Max.   :999.0  \n",
       "      HDL           hemoglobin    serum.creatinine       ALT         \n",
       " Min.   :  4.00   Min.   : 4.90   Min.   : 0.1000   Min.   :   1.00  \n",
       " 1st Qu.: 47.00   1st Qu.:13.60   1st Qu.: 0.8000   1st Qu.:  15.00  \n",
       " Median : 55.00   Median :14.80   Median : 0.9000   Median :  21.00  \n",
       " Mean   : 57.29   Mean   :14.62   Mean   : 0.8857   Mean   :  27.04  \n",
       " 3rd Qu.: 66.00   3rd Qu.:15.80   3rd Qu.: 1.0000   3rd Qu.:  31.00  \n",
       " Max.   :618.00   Max.   :21.10   Max.   :11.6000   Max.   :2914.00  \n",
       "      Gtp         dental.caries tartar   \n",
       " Min.   :  1.00   0:43811       0:24752  \n",
       " 1st Qu.: 17.00   1:11881       1:30940  \n",
       " Median : 25.00                          \n",
       " Mean   : 39.95                          \n",
       " 3rd Qu.: 43.00                          \n",
       " Max.   :999.00                          "
      ]
     },
     "metadata": {},
     "output_type": "display_data"
    }
   ],
   "source": [
    "summary(model.data)"
   ]
  },
  {
   "cell_type": "markdown",
   "metadata": {},
   "source": [
    "### Split dataset into training and test set"
   ]
  },
  {
   "cell_type": "code",
   "execution_count": 26,
   "metadata": {
    "vscode": {
     "languageId": "r"
    }
   },
   "outputs": [],
   "source": [
    "n <- length(model.data[,1])\n",
    "index <- sample(1:n,n,replace=FALSE)\n",
    "model.data <- model.data[index,]\n",
    "seventyPercentLimit <- round(length(model.data[,1]) * 0.7,0)\n",
    "model.data.train <- model.data[1:seventyPercentLimit,]\n",
    "model.data.test <- model.data[(seventyPercentLimit+1):n,]"
   ]
  },
  {
   "cell_type": "markdown",
   "metadata": {},
   "source": [
    "### Compute model"
   ]
  },
  {
   "cell_type": "code",
   "execution_count": 27,
   "metadata": {
    "vscode": {
     "languageId": "r"
    }
   },
   "outputs": [],
   "source": [
    "glm_model <- glm(smoking ~ ., \n",
    "                 data=model.data.train,\n",
    "                 binomial(link = \"logit\"))"
   ]
  },
  {
   "cell_type": "code",
   "execution_count": 28,
   "metadata": {
    "vscode": {
     "languageId": "r"
    }
   },
   "outputs": [
    {
     "data": {
      "text/plain": [
       "\n",
       "Call:  glm(formula = smoking ~ ., family = binomial(link = \"logit\"), \n",
       "    data = model.data.train)\n",
       "\n",
       "Coefficients:\n",
       "        (Intercept)              genderM                  age  \n",
       "         -7.2771988            2.9215834           -0.0009104  \n",
       "         height.cm.           weight.kg.             systolic  \n",
       "          0.0236944           -0.0114897           -0.0154107  \n",
       "         relaxation  fasting.blood.sugar         triglyceride  \n",
       "          0.0096962            0.0034282            0.0044089  \n",
       "                HDL           hemoglobin     serum.creatinine  \n",
       "          0.0013781            0.1275312           -0.8640067  \n",
       "                ALT                  Gtp       dental.caries1  \n",
       "         -0.0058129            0.0071391            0.3045297  \n",
       "            tartarY  \n",
       "          0.3198174  \n",
       "\n",
       "Degrees of Freedom: 38983 Total (i.e. Null);  38968 Residual\n",
       "Null Deviance:\t    51350 \n",
       "Residual Deviance: 37060 \tAIC: 37090"
      ]
     },
     "metadata": {},
     "output_type": "display_data"
    }
   ],
   "source": [
    "glm_model"
   ]
  },
  {
   "cell_type": "markdown",
   "metadata": {},
   "source": [
    "#### Calculate prediction error"
   ]
  },
  {
   "cell_type": "code",
   "execution_count": 29,
   "metadata": {
    "vscode": {
     "languageId": "r"
    }
   },
   "outputs": [],
   "source": [
    "X.test <- model.data.test[,selected_features]\n",
    "X.test <- subset(X.test,select=-smoking)"
   ]
  },
  {
   "cell_type": "code",
   "execution_count": 30,
   "metadata": {
    "vscode": {
     "languageId": "r"
    }
   },
   "outputs": [],
   "source": [
    "z <- predict(glm_model,X.test)\n",
    "predictions <- round(exp(z)/(1+exp(z)))"
   ]
  },
  {
   "cell_type": "code",
   "execution_count": 31,
   "metadata": {
    "vscode": {
     "languageId": "r"
    }
   },
   "outputs": [],
   "source": [
    "y <- model.data.test[,\"smoking\"]"
   ]
  },
  {
   "cell_type": "markdown",
   "metadata": {},
   "source": [
    "##### Confusion Matrix"
   ]
  },
  {
   "cell_type": "code",
   "execution_count": 32,
   "metadata": {
    "vscode": {
     "languageId": "r"
    }
   },
   "outputs": [],
   "source": [
    "A <- matrix(0,ncol=2,nrow=2)\n",
    "\n",
    "colnames(A) <- c(\"Real: No smoker\", \" Real: Smoker\")\n",
    "rownames(A) <- c(\"Prognose: No smoker\", \"Prognose: Smoker\") \n",
    "\n",
    "A[1,1] <- sum(ifelse(y == 0 & predictions == 0, 1,0))\n",
    "A[1,2] <- sum(ifelse(y == 1 & predictions == 0, 1,0))\n",
    "A[2,1] <- sum(ifelse(y == 0 & predictions == 1, 1,0))\n",
    "A[2,2] <- sum(ifelse(y == 1 & predictions == 1, 1,0))"
   ]
  },
  {
   "cell_type": "code",
   "execution_count": 33,
   "metadata": {
    "vscode": {
     "languageId": "r"
    }
   },
   "outputs": [
    {
     "data": {
      "text/html": [
       "<table class=\"dataframe\">\n",
       "<caption>A matrix: 2 × 2 of type dbl</caption>\n",
       "<thead>\n",
       "\t<tr><th></th><th scope=col>Real: No smoker</th><th scope=col> Real: Smoker</th></tr>\n",
       "</thead>\n",
       "<tbody>\n",
       "\t<tr><th scope=row>Prognose: No smoker</th><td>8199</td><td>1778</td></tr>\n",
       "\t<tr><th scope=row>Prognose: Smoker</th><td>2454</td><td>4277</td></tr>\n",
       "</tbody>\n",
       "</table>\n"
      ],
      "text/latex": [
       "A matrix: 2 × 2 of type dbl\n",
       "\\begin{tabular}{r|ll}\n",
       "  & Real: No smoker &  Real: Smoker\\\\\n",
       "\\hline\n",
       "\tPrognose: No smoker & 8199 & 1778\\\\\n",
       "\tPrognose: Smoker & 2454 & 4277\\\\\n",
       "\\end{tabular}\n"
      ],
      "text/markdown": [
       "\n",
       "A matrix: 2 × 2 of type dbl\n",
       "\n",
       "| <!--/--> | Real: No smoker |  Real: Smoker |\n",
       "|---|---|---|\n",
       "| Prognose: No smoker | 8199 | 1778 |\n",
       "| Prognose: Smoker | 2454 | 4277 |\n",
       "\n"
      ],
      "text/plain": [
       "                    Real: No smoker  Real: Smoker\n",
       "Prognose: No smoker 8199            1778         \n",
       "Prognose: Smoker    2454            4277         "
      ]
     },
     "metadata": {},
     "output_type": "display_data"
    }
   ],
   "source": [
    "A"
   ]
  },
  {
   "cell_type": "markdown",
   "metadata": {},
   "source": [
    "##### True-Positive-Rate & True-Negative-Rate"
   ]
  },
  {
   "cell_type": "code",
   "execution_count": 34,
   "metadata": {
    "vscode": {
     "languageId": "r"
    }
   },
   "outputs": [
    {
     "data": {
      "text/html": [
       "0.70635838150289"
      ],
      "text/latex": [
       "0.70635838150289"
      ],
      "text/markdown": [
       "0.70635838150289"
      ],
      "text/plain": [
       "[1] 0.7063584"
      ]
     },
     "metadata": {},
     "output_type": "display_data"
    },
    {
     "data": {
      "text/html": [
       "0.769642354266404"
      ],
      "text/latex": [
       "0.769642354266404"
      ],
      "text/markdown": [
       "0.769642354266404"
      ],
      "text/plain": [
       "[1] 0.7696424"
      ]
     },
     "metadata": {},
     "output_type": "display_data"
    }
   ],
   "source": [
    "A[2,2]/(A[1,2]+A[2,2])   # True-Positive-Rate\n",
    "A[1,1]/(A[1,1]+A[2,1])   # True-Negative-Rate"
   ]
  },
  {
   "cell_type": "markdown",
   "metadata": {},
   "source": [
    "## Without feature selection"
   ]
  },
  {
   "cell_type": "code",
   "execution_count": 12,
   "metadata": {
    "vscode": {
     "languageId": "r"
    }
   },
   "outputs": [],
   "source": [
    "data <- read.csv(\"smoking.csv\",header=TRUE,sep=\",\",fill=TRUE,stringsAsFactors=TRUE)"
   ]
  },
  {
   "cell_type": "code",
   "execution_count": 13,
   "metadata": {
    "vscode": {
     "languageId": "r"
    }
   },
   "outputs": [],
   "source": [
    "data <- subset(data, select=-ID)\n",
    "data <- subset(data, select=-oral)"
   ]
  },
  {
   "cell_type": "code",
   "execution_count": 14,
   "metadata": {
    "vscode": {
     "languageId": "r"
    }
   },
   "outputs": [],
   "source": [
    "data[,\"tartar\"] <- ifelse(data[,\"tartar\"] == 'Y', 1, 0)\n",
    "data[,\"tartar\"] <- as.factor(data[,\"tartar\"])\n",
    "\n",
    "data[,\"smoking\"] <- as.factor(data[,\"smoking\"])\n",
    "data[,\"dental.caries\"] <- as.factor(data[,\"dental.caries\"])"
   ]
  },
  {
   "cell_type": "code",
   "execution_count": 15,
   "metadata": {
    "vscode": {
     "languageId": "r"
    }
   },
   "outputs": [
    {
     "data": {
      "text/plain": [
       " gender         age          height.cm.      weight.kg.       waist.cm.     \n",
       " F:20291   Min.   :20.00   Min.   :130.0   Min.   : 30.00   Min.   : 51.00  \n",
       " M:35401   1st Qu.:40.00   1st Qu.:160.0   1st Qu.: 55.00   1st Qu.: 76.00  \n",
       "           Median :40.00   Median :165.0   Median : 65.00   Median : 82.00  \n",
       "           Mean   :44.18   Mean   :164.6   Mean   : 65.86   Mean   : 82.05  \n",
       "           3rd Qu.:55.00   3rd Qu.:170.0   3rd Qu.: 75.00   3rd Qu.: 88.00  \n",
       "           Max.   :85.00   Max.   :190.0   Max.   :135.00   Max.   :129.00  \n",
       " eyesight.left.  eyesight.right. hearing.left.   hearing.right. \n",
       " Min.   :0.100   Min.   :0.100   Min.   :1.000   Min.   :1.000  \n",
       " 1st Qu.:0.800   1st Qu.:0.800   1st Qu.:1.000   1st Qu.:1.000  \n",
       " Median :1.000   Median :1.000   Median :1.000   Median :1.000  \n",
       " Mean   :1.013   Mean   :1.007   Mean   :1.026   Mean   :1.026  \n",
       " 3rd Qu.:1.200   3rd Qu.:1.200   3rd Qu.:1.000   3rd Qu.:1.000  \n",
       " Max.   :9.900   Max.   :9.900   Max.   :2.000   Max.   :2.000  \n",
       "    systolic       relaxation  fasting.blood.sugar  Cholesterol   \n",
       " Min.   : 71.0   Min.   : 40   Min.   : 46.00      Min.   : 55.0  \n",
       " 1st Qu.:112.0   1st Qu.: 70   1st Qu.: 89.00      1st Qu.:172.0  \n",
       " Median :120.0   Median : 76   Median : 96.00      Median :195.0  \n",
       " Mean   :121.5   Mean   : 76   Mean   : 99.31      Mean   :196.9  \n",
       " 3rd Qu.:130.0   3rd Qu.: 82   3rd Qu.:104.00      3rd Qu.:220.0  \n",
       " Max.   :240.0   Max.   :146   Max.   :505.00      Max.   :445.0  \n",
       "  triglyceride        HDL              LDL         hemoglobin   \n",
       " Min.   :  8.0   Min.   :  4.00   Min.   :   1   Min.   : 4.90  \n",
       " 1st Qu.: 74.0   1st Qu.: 47.00   1st Qu.:  92   1st Qu.:13.60  \n",
       " Median :108.0   Median : 55.00   Median : 113   Median :14.80  \n",
       " Mean   :126.7   Mean   : 57.29   Mean   : 115   Mean   :14.62  \n",
       " 3rd Qu.:160.0   3rd Qu.: 66.00   3rd Qu.: 136   3rd Qu.:15.80  \n",
       " Max.   :999.0   Max.   :618.00   Max.   :1860   Max.   :21.10  \n",
       " Urine.protein   serum.creatinine       AST               ALT         \n",
       " Min.   :1.000   Min.   : 0.1000   Min.   :   6.00   Min.   :   1.00  \n",
       " 1st Qu.:1.000   1st Qu.: 0.8000   1st Qu.:  19.00   1st Qu.:  15.00  \n",
       " Median :1.000   Median : 0.9000   Median :  23.00   Median :  21.00  \n",
       " Mean   :1.087   Mean   : 0.8857   Mean   :  26.18   Mean   :  27.04  \n",
       " 3rd Qu.:1.000   3rd Qu.: 1.0000   3rd Qu.:  28.00   3rd Qu.:  31.00  \n",
       " Max.   :6.000   Max.   :11.6000   Max.   :1311.00   Max.   :2914.00  \n",
       "      Gtp         dental.caries tartar    smoking  \n",
       " Min.   :  1.00   0:43811       0:24752   0:35237  \n",
       " 1st Qu.: 17.00   1:11881       1:30940   1:20455  \n",
       " Median : 25.00                                    \n",
       " Mean   : 39.95                                    \n",
       " 3rd Qu.: 43.00                                    \n",
       " Max.   :999.00                                    "
      ]
     },
     "metadata": {},
     "output_type": "display_data"
    }
   ],
   "source": [
    "summary(data)"
   ]
  },
  {
   "cell_type": "markdown",
   "metadata": {},
   "source": [
    "### Split dataset into training and test set"
   ]
  },
  {
   "cell_type": "code",
   "execution_count": 16,
   "metadata": {
    "vscode": {
     "languageId": "r"
    }
   },
   "outputs": [],
   "source": [
    "n <- length(data[,1])\n",
    "index <- sample(1:n,n,replace=FALSE)\n",
    "data <- data[index,]\n",
    "seventyPercentLimit <- round(length(data[,1]) * 0.7,0)\n",
    "data.train <- data[1:seventyPercentLimit,]\n",
    "data.test <- data[(seventyPercentLimit+1):n,]"
   ]
  },
  {
   "cell_type": "markdown",
   "metadata": {},
   "source": [
    "### Compute model"
   ]
  },
  {
   "cell_type": "code",
   "execution_count": 17,
   "metadata": {
    "vscode": {
     "languageId": "r"
    }
   },
   "outputs": [],
   "source": [
    "glm_model <- glm(smoking ~ ., \n",
    "                 data=data.train,\n",
    "                 binomial(link = \"logit\"))"
   ]
  },
  {
   "cell_type": "code",
   "execution_count": 18,
   "metadata": {
    "vscode": {
     "languageId": "r"
    }
   },
   "outputs": [
    {
     "data": {
      "text/plain": [
       "\n",
       "Call:  glm(formula = smoking ~ ., family = binomial(link = \"logit\"), \n",
       "    data = data.train)\n",
       "\n",
       "Coefficients:\n",
       "        (Intercept)              genderM                  age  \n",
       "         -6.7280030            2.9426096           -0.0009741  \n",
       "         height.cm.           weight.kg.            waist.cm.  \n",
       "          0.0232893           -0.0094401           -0.0010454  \n",
       "     eyesight.left.      eyesight.right.        hearing.left.  \n",
       "         -0.0230300           -0.0294431           -0.2497740  \n",
       "     hearing.right.             systolic           relaxation  \n",
       "          0.0149171           -0.0151060            0.0095278  \n",
       "fasting.blood.sugar          Cholesterol         triglyceride  \n",
       "          0.0040770           -0.0022505            0.0047754  \n",
       "                HDL                  LDL           hemoglobin  \n",
       "          0.0016788           -0.0003993            0.1387619  \n",
       "      Urine.protein     serum.creatinine                  AST  \n",
       "         -0.0090808           -0.9467679           -0.0013863  \n",
       "                ALT                  Gtp       dental.caries1  \n",
       "         -0.0066529            0.0078818            0.3123077  \n",
       "            tartar1  \n",
       "          0.3465740  \n",
       "\n",
       "Degrees of Freedom: 38983 Total (i.e. Null);  38959 Residual\n",
       "Null Deviance:\t    51300 \n",
       "Residual Deviance: 36630 \tAIC: 36680"
      ]
     },
     "metadata": {},
     "output_type": "display_data"
    }
   ],
   "source": [
    "glm_model"
   ]
  },
  {
   "cell_type": "markdown",
   "metadata": {},
   "source": [
    "#### Calculate prediction error"
   ]
  },
  {
   "cell_type": "code",
   "execution_count": 19,
   "metadata": {
    "vscode": {
     "languageId": "r"
    }
   },
   "outputs": [
    {
     "data": {
      "text/html": [
       "<style>\n",
       ".list-inline {list-style: none; margin:0; padding: 0}\n",
       ".list-inline>li {display: inline-block}\n",
       ".list-inline>li:not(:last-child)::after {content: \"\\00b7\"; padding: 0 .5ex}\n",
       "</style>\n",
       "<ol class=list-inline><li>'gender'</li><li>'age'</li><li>'height.cm.'</li><li>'weight.kg.'</li><li>'waist.cm.'</li><li>'eyesight.left.'</li><li>'eyesight.right.'</li><li>'hearing.left.'</li><li>'hearing.right.'</li><li>'systolic'</li><li>'relaxation'</li><li>'fasting.blood.sugar'</li><li>'Cholesterol'</li><li>'triglyceride'</li><li>'HDL'</li><li>'LDL'</li><li>'hemoglobin'</li><li>'Urine.protein'</li><li>'serum.creatinine'</li><li>'AST'</li><li>'ALT'</li><li>'Gtp'</li><li>'dental.caries'</li><li>'tartar'</li><li>'smoking'</li></ol>\n"
      ],
      "text/latex": [
       "\\begin{enumerate*}\n",
       "\\item 'gender'\n",
       "\\item 'age'\n",
       "\\item 'height.cm.'\n",
       "\\item 'weight.kg.'\n",
       "\\item 'waist.cm.'\n",
       "\\item 'eyesight.left.'\n",
       "\\item 'eyesight.right.'\n",
       "\\item 'hearing.left.'\n",
       "\\item 'hearing.right.'\n",
       "\\item 'systolic'\n",
       "\\item 'relaxation'\n",
       "\\item 'fasting.blood.sugar'\n",
       "\\item 'Cholesterol'\n",
       "\\item 'triglyceride'\n",
       "\\item 'HDL'\n",
       "\\item 'LDL'\n",
       "\\item 'hemoglobin'\n",
       "\\item 'Urine.protein'\n",
       "\\item 'serum.creatinine'\n",
       "\\item 'AST'\n",
       "\\item 'ALT'\n",
       "\\item 'Gtp'\n",
       "\\item 'dental.caries'\n",
       "\\item 'tartar'\n",
       "\\item 'smoking'\n",
       "\\end{enumerate*}\n"
      ],
      "text/markdown": [
       "1. 'gender'\n",
       "2. 'age'\n",
       "3. 'height.cm.'\n",
       "4. 'weight.kg.'\n",
       "5. 'waist.cm.'\n",
       "6. 'eyesight.left.'\n",
       "7. 'eyesight.right.'\n",
       "8. 'hearing.left.'\n",
       "9. 'hearing.right.'\n",
       "10. 'systolic'\n",
       "11. 'relaxation'\n",
       "12. 'fasting.blood.sugar'\n",
       "13. 'Cholesterol'\n",
       "14. 'triglyceride'\n",
       "15. 'HDL'\n",
       "16. 'LDL'\n",
       "17. 'hemoglobin'\n",
       "18. 'Urine.protein'\n",
       "19. 'serum.creatinine'\n",
       "20. 'AST'\n",
       "21. 'ALT'\n",
       "22. 'Gtp'\n",
       "23. 'dental.caries'\n",
       "24. 'tartar'\n",
       "25. 'smoking'\n",
       "\n",
       "\n"
      ],
      "text/plain": [
       " [1] \"gender\"              \"age\"                 \"height.cm.\"         \n",
       " [4] \"weight.kg.\"          \"waist.cm.\"           \"eyesight.left.\"     \n",
       " [7] \"eyesight.right.\"     \"hearing.left.\"       \"hearing.right.\"     \n",
       "[10] \"systolic\"            \"relaxation\"          \"fasting.blood.sugar\"\n",
       "[13] \"Cholesterol\"         \"triglyceride\"        \"HDL\"                \n",
       "[16] \"LDL\"                 \"hemoglobin\"          \"Urine.protein\"      \n",
       "[19] \"serum.creatinine\"    \"AST\"                 \"ALT\"                \n",
       "[22] \"Gtp\"                 \"dental.caries\"       \"tartar\"             \n",
       "[25] \"smoking\"            "
      ]
     },
     "metadata": {},
     "output_type": "display_data"
    }
   ],
   "source": [
    "names(data.train)"
   ]
  },
  {
   "cell_type": "code",
   "execution_count": 20,
   "metadata": {
    "vscode": {
     "languageId": "r"
    }
   },
   "outputs": [],
   "source": [
    "X.test <- data.test[,c('gender',\n",
    "                        'age',\n",
    "                        'height.cm.',\n",
    "                        'weight.kg.',\n",
    "                        'waist.cm.',\n",
    "                        'eyesight.left.',\n",
    "                        'eyesight.right.',\n",
    "                        'hearing.left.',\n",
    "                        'hearing.right.',\n",
    "                        'systolic',\n",
    "                        'relaxation',\n",
    "                        'fasting.blood.sugar',\n",
    "                        'Cholesterol',\n",
    "                        'triglyceride',\n",
    "                        'HDL',\n",
    "                        'LDL',\n",
    "                        'hemoglobin',\n",
    "                        'Urine.protein',\n",
    "                        'serum.creatinine',\n",
    "                        'AST',\n",
    "                        'ALT',\n",
    "                        'Gtp',\n",
    "                        'dental.caries',\n",
    "                        'tartar',\n",
    "                        'smoking')]"
   ]
  },
  {
   "cell_type": "code",
   "execution_count": 21,
   "metadata": {
    "vscode": {
     "languageId": "r"
    }
   },
   "outputs": [],
   "source": [
    "z <- predict(glm_model,X.test)\n",
    "predictions <- round(exp(z)/(1+exp(z)))"
   ]
  },
  {
   "cell_type": "code",
   "execution_count": 22,
   "metadata": {
    "vscode": {
     "languageId": "r"
    }
   },
   "outputs": [],
   "source": [
    "y <- data.test[,\"smoking\"]"
   ]
  },
  {
   "cell_type": "markdown",
   "metadata": {},
   "source": [
    "##### Confusion Matrix"
   ]
  },
  {
   "cell_type": "code",
   "execution_count": 23,
   "metadata": {
    "vscode": {
     "languageId": "r"
    }
   },
   "outputs": [],
   "source": [
    "A <- matrix(0,ncol=2,nrow=2)\n",
    "\n",
    "colnames(A) <- c(\"Real: No smoker\", \" Real: Smoker\")\n",
    "rownames(A) <- c(\"Prognose: No smoker\", \"Prognose: Smoker\") \n",
    "\n",
    "A[1,1] <- sum(ifelse(y == 0 & predictions == 0, 1,0))\n",
    "A[1,2] <- sum(ifelse(y == 1 & predictions == 0, 1,0))\n",
    "A[2,1] <- sum(ifelse(y == 0 & predictions == 1, 1,0))\n",
    "A[2,2] <- sum(ifelse(y == 1 & predictions == 1, 1,0))"
   ]
  },
  {
   "cell_type": "code",
   "execution_count": 24,
   "metadata": {
    "vscode": {
     "languageId": "r"
    }
   },
   "outputs": [
    {
     "data": {
      "text/html": [
       "<table class=\"dataframe\">\n",
       "<caption>A matrix: 2 × 2 of type dbl</caption>\n",
       "<thead>\n",
       "\t<tr><th></th><th scope=col>Real: No smoker</th><th scope=col> Real: Smoker</th></tr>\n",
       "</thead>\n",
       "<tbody>\n",
       "\t<tr><th scope=row>Prognose: No smoker</th><td>8154</td><td>1855</td></tr>\n",
       "\t<tr><th scope=row>Prognose: Smoker</th><td>2454</td><td>4245</td></tr>\n",
       "</tbody>\n",
       "</table>\n"
      ],
      "text/latex": [
       "A matrix: 2 × 2 of type dbl\n",
       "\\begin{tabular}{r|ll}\n",
       "  & Real: No smoker &  Real: Smoker\\\\\n",
       "\\hline\n",
       "\tPrognose: No smoker & 8154 & 1855\\\\\n",
       "\tPrognose: Smoker & 2454 & 4245\\\\\n",
       "\\end{tabular}\n"
      ],
      "text/markdown": [
       "\n",
       "A matrix: 2 × 2 of type dbl\n",
       "\n",
       "| <!--/--> | Real: No smoker |  Real: Smoker |\n",
       "|---|---|---|\n",
       "| Prognose: No smoker | 8154 | 1855 |\n",
       "| Prognose: Smoker | 2454 | 4245 |\n",
       "\n"
      ],
      "text/plain": [
       "                    Real: No smoker  Real: Smoker\n",
       "Prognose: No smoker 8154            1855         \n",
       "Prognose: Smoker    2454            4245         "
      ]
     },
     "metadata": {},
     "output_type": "display_data"
    }
   ],
   "source": [
    "A"
   ]
  },
  {
   "cell_type": "markdown",
   "metadata": {},
   "source": [
    "##### True-Positive-Rate & True-Negative-Rate"
   ]
  },
  {
   "cell_type": "code",
   "execution_count": 25,
   "metadata": {
    "vscode": {
     "languageId": "r"
    }
   },
   "outputs": [
    {
     "data": {
      "text/html": [
       "0.695901639344262"
      ],
      "text/latex": [
       "0.695901639344262"
      ],
      "text/markdown": [
       "0.695901639344262"
      ],
      "text/plain": [
       "[1] 0.6959016"
      ]
     },
     "metadata": {},
     "output_type": "display_data"
    },
    {
     "data": {
      "text/html": [
       "0.768665158371041"
      ],
      "text/latex": [
       "0.768665158371041"
      ],
      "text/markdown": [
       "0.768665158371041"
      ],
      "text/plain": [
       "[1] 0.7686652"
      ]
     },
     "metadata": {},
     "output_type": "display_data"
    }
   ],
   "source": [
    "A[2,2]/(A[1,2]+A[2,2]) # True-Positive-Rate\n",
    "A[1,1]/(A[1,1]+A[2,1]) # True-Negative-Rate"
   ]
  },
  {
   "cell_type": "markdown",
   "metadata": {},
   "source": [
    "## With LASSO feature selection"
   ]
  },
  {
   "cell_type": "code",
   "execution_count": 26,
   "metadata": {
    "vscode": {
     "languageId": "r"
    }
   },
   "outputs": [],
   "source": [
    "data <- read.csv(\"smoking.csv\",header=TRUE,sep=\",\",fill=TRUE,stringsAsFactors=TRUE)"
   ]
  },
  {
   "cell_type": "code",
   "execution_count": 27,
   "metadata": {
    "vscode": {
     "languageId": "r"
    }
   },
   "outputs": [],
   "source": [
    "data <- subset(data, select=-ID)\n",
    "data <- subset(data, select=-oral)"
   ]
  },
  {
   "cell_type": "code",
   "execution_count": 28,
   "metadata": {
    "vscode": {
     "languageId": "r"
    }
   },
   "outputs": [
    {
     "data": {
      "text/plain": [
       " gender         age          height.cm.      weight.kg.       waist.cm.     \n",
       " F:20291   Min.   :20.00   Min.   :130.0   Min.   : 30.00   Min.   : 51.00  \n",
       " M:35401   1st Qu.:40.00   1st Qu.:160.0   1st Qu.: 55.00   1st Qu.: 76.00  \n",
       "           Median :40.00   Median :165.0   Median : 65.00   Median : 82.00  \n",
       "           Mean   :44.18   Mean   :164.6   Mean   : 65.86   Mean   : 82.05  \n",
       "           3rd Qu.:55.00   3rd Qu.:170.0   3rd Qu.: 75.00   3rd Qu.: 88.00  \n",
       "           Max.   :85.00   Max.   :190.0   Max.   :135.00   Max.   :129.00  \n",
       " eyesight.left.  eyesight.right. hearing.left.   hearing.right. \n",
       " Min.   :0.100   Min.   :0.100   Min.   :1.000   Min.   :1.000  \n",
       " 1st Qu.:0.800   1st Qu.:0.800   1st Qu.:1.000   1st Qu.:1.000  \n",
       " Median :1.000   Median :1.000   Median :1.000   Median :1.000  \n",
       " Mean   :1.013   Mean   :1.007   Mean   :1.026   Mean   :1.026  \n",
       " 3rd Qu.:1.200   3rd Qu.:1.200   3rd Qu.:1.000   3rd Qu.:1.000  \n",
       " Max.   :9.900   Max.   :9.900   Max.   :2.000   Max.   :2.000  \n",
       "    systolic       relaxation  fasting.blood.sugar  Cholesterol   \n",
       " Min.   : 71.0   Min.   : 40   Min.   : 46.00      Min.   : 55.0  \n",
       " 1st Qu.:112.0   1st Qu.: 70   1st Qu.: 89.00      1st Qu.:172.0  \n",
       " Median :120.0   Median : 76   Median : 96.00      Median :195.0  \n",
       " Mean   :121.5   Mean   : 76   Mean   : 99.31      Mean   :196.9  \n",
       " 3rd Qu.:130.0   3rd Qu.: 82   3rd Qu.:104.00      3rd Qu.:220.0  \n",
       " Max.   :240.0   Max.   :146   Max.   :505.00      Max.   :445.0  \n",
       "  triglyceride        HDL              LDL         hemoglobin   \n",
       " Min.   :  8.0   Min.   :  4.00   Min.   :   1   Min.   : 4.90  \n",
       " 1st Qu.: 74.0   1st Qu.: 47.00   1st Qu.:  92   1st Qu.:13.60  \n",
       " Median :108.0   Median : 55.00   Median : 113   Median :14.80  \n",
       " Mean   :126.7   Mean   : 57.29   Mean   : 115   Mean   :14.62  \n",
       " 3rd Qu.:160.0   3rd Qu.: 66.00   3rd Qu.: 136   3rd Qu.:15.80  \n",
       " Max.   :999.0   Max.   :618.00   Max.   :1860   Max.   :21.10  \n",
       " Urine.protein   serum.creatinine       AST               ALT         \n",
       " Min.   :1.000   Min.   : 0.1000   Min.   :   6.00   Min.   :   1.00  \n",
       " 1st Qu.:1.000   1st Qu.: 0.8000   1st Qu.:  19.00   1st Qu.:  15.00  \n",
       " Median :1.000   Median : 0.9000   Median :  23.00   Median :  21.00  \n",
       " Mean   :1.087   Mean   : 0.8857   Mean   :  26.18   Mean   :  27.04  \n",
       " 3rd Qu.:1.000   3rd Qu.: 1.0000   3rd Qu.:  28.00   3rd Qu.:  31.00  \n",
       " Max.   :6.000   Max.   :11.6000   Max.   :1311.00   Max.   :2914.00  \n",
       "      Gtp         dental.caries    tartar       smoking      \n",
       " Min.   :  1.00   Min.   :0.0000   N:24752   Min.   :0.0000  \n",
       " 1st Qu.: 17.00   1st Qu.:0.0000   Y:30940   1st Qu.:0.0000  \n",
       " Median : 25.00   Median :0.0000             Median :0.0000  \n",
       " Mean   : 39.95   Mean   :0.2133             Mean   :0.3673  \n",
       " 3rd Qu.: 43.00   3rd Qu.:0.0000             3rd Qu.:1.0000  \n",
       " Max.   :999.00   Max.   :1.0000             Max.   :1.0000  "
      ]
     },
     "metadata": {},
     "output_type": "display_data"
    }
   ],
   "source": [
    "summary(data)"
   ]
  },
  {
   "cell_type": "markdown",
   "metadata": {},
   "source": [
    "### Sort data randomly"
   ]
  },
  {
   "cell_type": "code",
   "execution_count": 29,
   "metadata": {
    "vscode": {
     "languageId": "r"
    }
   },
   "outputs": [],
   "source": [
    "n <- length(data[,1])\n",
    "Index <- sample(seq(1,n,1), replace=FALSE)\n",
    "data <- data[Index,]\n",
    "rownames(data) <- 1:n"
   ]
  },
  {
   "cell_type": "markdown",
   "metadata": {},
   "source": [
    "### LASSO feature selection"
   ]
  },
  {
   "cell_type": "code",
   "execution_count": 30,
   "metadata": {
    "vscode": {
     "languageId": "r"
    }
   },
   "outputs": [
    {
     "name": "stderr",
     "output_type": "stream",
     "text": [
      "Loading required package: Matrix\n",
      "\n",
      "Loaded glmnet 4.1-4\n",
      "\n"
     ]
    }
   ],
   "source": [
    "library(glmnet)"
   ]
  },
  {
   "cell_type": "code",
   "execution_count": 31,
   "metadata": {
    "vscode": {
     "languageId": "r"
    }
   },
   "outputs": [],
   "source": [
    "data.lasso <- subset(data, select=-gender)\n",
    "data.lasso <- subset(data.lasso, select=-tartar)\n",
    "X <- model.matrix(smoking ~ ., data.lasso)\n",
    "X <- X[,-1]"
   ]
  },
  {
   "cell_type": "code",
   "execution_count": 32,
   "metadata": {
    "vscode": {
     "languageId": "r"
    }
   },
   "outputs": [],
   "source": [
    "y <- data[,\"smoking\"]"
   ]
  },
  {
   "cell_type": "code",
   "execution_count": 33,
   "metadata": {
    "vscode": {
     "languageId": "r"
    }
   },
   "outputs": [],
   "source": [
    "m <- length(X[1,])\n",
    "total.numbers <- rep(0,m)\n",
    "RUNS <- 100\n",
    "\n",
    "for (run in 1:RUNS) {\n",
    "    model.lasso <- cv.glmnet(X,y)\n",
    "    beta <- coef(model.lasso,s=\"lambda.1se\")[-1,1]\n",
    "    total.numbers <- total.numbers + ifelse(beta != 0, 1, 0)\n",
    "}"
   ]
  },
  {
   "cell_type": "code",
   "execution_count": 34,
   "metadata": {
    "vscode": {
     "languageId": "r"
    }
   },
   "outputs": [
    {
     "data": {
      "text/html": [
       "<table class=\"dataframe\">\n",
       "<caption>A matrix: 22 × 1 of type dbl</caption>\n",
       "<tbody>\n",
       "\t<tr><th scope=row>age</th><td>  0</td></tr>\n",
       "\t<tr><th scope=row>height.cm.</th><td>100</td></tr>\n",
       "\t<tr><th scope=row>weight.kg.</th><td> 94</td></tr>\n",
       "\t<tr><th scope=row>waist.cm.</th><td>  0</td></tr>\n",
       "\t<tr><th scope=row>eyesight.left.</th><td>  0</td></tr>\n",
       "\t<tr><th scope=row>eyesight.right.</th><td>  0</td></tr>\n",
       "\t<tr><th scope=row>hearing.left.</th><td>  0</td></tr>\n",
       "\t<tr><th scope=row>hearing.right.</th><td>  0</td></tr>\n",
       "\t<tr><th scope=row>systolic</th><td>100</td></tr>\n",
       "\t<tr><th scope=row>relaxation</th><td>  0</td></tr>\n",
       "\t<tr><th scope=row>fasting.blood.sugar</th><td>100</td></tr>\n",
       "\t<tr><th scope=row>Cholesterol</th><td>100</td></tr>\n",
       "\t<tr><th scope=row>triglyceride</th><td>100</td></tr>\n",
       "\t<tr><th scope=row>HDL</th><td> 98</td></tr>\n",
       "\t<tr><th scope=row>LDL</th><td>  0</td></tr>\n",
       "\t<tr><th scope=row>hemoglobin</th><td>100</td></tr>\n",
       "\t<tr><th scope=row>Urine.protein</th><td>  0</td></tr>\n",
       "\t<tr><th scope=row>serum.creatinine</th><td>100</td></tr>\n",
       "\t<tr><th scope=row>AST</th><td>100</td></tr>\n",
       "\t<tr><th scope=row>ALT</th><td>100</td></tr>\n",
       "\t<tr><th scope=row>Gtp</th><td>100</td></tr>\n",
       "\t<tr><th scope=row>dental.caries</th><td>100</td></tr>\n",
       "</tbody>\n",
       "</table>\n"
      ],
      "text/latex": [
       "A matrix: 22 × 1 of type dbl\n",
       "\\begin{tabular}{r|l}\n",
       "\tage &   0\\\\\n",
       "\theight.cm. & 100\\\\\n",
       "\tweight.kg. &  94\\\\\n",
       "\twaist.cm. &   0\\\\\n",
       "\teyesight.left. &   0\\\\\n",
       "\teyesight.right. &   0\\\\\n",
       "\thearing.left. &   0\\\\\n",
       "\thearing.right. &   0\\\\\n",
       "\tsystolic & 100\\\\\n",
       "\trelaxation &   0\\\\\n",
       "\tfasting.blood.sugar & 100\\\\\n",
       "\tCholesterol & 100\\\\\n",
       "\ttriglyceride & 100\\\\\n",
       "\tHDL &  98\\\\\n",
       "\tLDL &   0\\\\\n",
       "\themoglobin & 100\\\\\n",
       "\tUrine.protein &   0\\\\\n",
       "\tserum.creatinine & 100\\\\\n",
       "\tAST & 100\\\\\n",
       "\tALT & 100\\\\\n",
       "\tGtp & 100\\\\\n",
       "\tdental.caries & 100\\\\\n",
       "\\end{tabular}\n"
      ],
      "text/markdown": [
       "\n",
       "A matrix: 22 × 1 of type dbl\n",
       "\n",
       "| age |   0 |\n",
       "| height.cm. | 100 |\n",
       "| weight.kg. |  94 |\n",
       "| waist.cm. |   0 |\n",
       "| eyesight.left. |   0 |\n",
       "| eyesight.right. |   0 |\n",
       "| hearing.left. |   0 |\n",
       "| hearing.right. |   0 |\n",
       "| systolic | 100 |\n",
       "| relaxation |   0 |\n",
       "| fasting.blood.sugar | 100 |\n",
       "| Cholesterol | 100 |\n",
       "| triglyceride | 100 |\n",
       "| HDL |  98 |\n",
       "| LDL |   0 |\n",
       "| hemoglobin | 100 |\n",
       "| Urine.protein |   0 |\n",
       "| serum.creatinine | 100 |\n",
       "| AST | 100 |\n",
       "| ALT | 100 |\n",
       "| Gtp | 100 |\n",
       "| dental.caries | 100 |\n",
       "\n"
      ],
      "text/plain": [
       "                    [,1]\n",
       "age                   0 \n",
       "height.cm.          100 \n",
       "weight.kg.           94 \n",
       "waist.cm.             0 \n",
       "eyesight.left.        0 \n",
       "eyesight.right.       0 \n",
       "hearing.left.         0 \n",
       "hearing.right.        0 \n",
       "systolic            100 \n",
       "relaxation            0 \n",
       "fasting.blood.sugar 100 \n",
       "Cholesterol         100 \n",
       "triglyceride        100 \n",
       "HDL                  98 \n",
       "LDL                   0 \n",
       "hemoglobin          100 \n",
       "Urine.protein         0 \n",
       "serum.creatinine    100 \n",
       "AST                 100 \n",
       "ALT                 100 \n",
       "Gtp                 100 \n",
       "dental.caries       100 "
      ]
     },
     "metadata": {},
     "output_type": "display_data"
    }
   ],
   "source": [
    "total.numbers <- as.matrix(total.numbers)\n",
    "total.numbers"
   ]
  },
  {
   "cell_type": "code",
   "execution_count": 35,
   "metadata": {
    "vscode": {
     "languageId": "r"
    }
   },
   "outputs": [],
   "source": [
    "temp <- total.numbers[total.numbers[,1] >= 50, 1]\n",
    "selection <- names(temp)"
   ]
  },
  {
   "cell_type": "code",
   "execution_count": 36,
   "metadata": {
    "vscode": {
     "languageId": "r"
    }
   },
   "outputs": [
    {
     "data": {
      "text/html": [
       "<style>\n",
       ".list-inline {list-style: none; margin:0; padding: 0}\n",
       ".list-inline>li {display: inline-block}\n",
       ".list-inline>li:not(:last-child)::after {content: \"\\00b7\"; padding: 0 .5ex}\n",
       "</style>\n",
       "<ol class=list-inline><li>'height.cm.'</li><li>'weight.kg.'</li><li>'systolic'</li><li>'fasting.blood.sugar'</li><li>'Cholesterol'</li><li>'triglyceride'</li><li>'HDL'</li><li>'hemoglobin'</li><li>'serum.creatinine'</li><li>'AST'</li><li>'ALT'</li><li>'Gtp'</li><li>'dental.caries'</li></ol>\n"
      ],
      "text/latex": [
       "\\begin{enumerate*}\n",
       "\\item 'height.cm.'\n",
       "\\item 'weight.kg.'\n",
       "\\item 'systolic'\n",
       "\\item 'fasting.blood.sugar'\n",
       "\\item 'Cholesterol'\n",
       "\\item 'triglyceride'\n",
       "\\item 'HDL'\n",
       "\\item 'hemoglobin'\n",
       "\\item 'serum.creatinine'\n",
       "\\item 'AST'\n",
       "\\item 'ALT'\n",
       "\\item 'Gtp'\n",
       "\\item 'dental.caries'\n",
       "\\end{enumerate*}\n"
      ],
      "text/markdown": [
       "1. 'height.cm.'\n",
       "2. 'weight.kg.'\n",
       "3. 'systolic'\n",
       "4. 'fasting.blood.sugar'\n",
       "5. 'Cholesterol'\n",
       "6. 'triglyceride'\n",
       "7. 'HDL'\n",
       "8. 'hemoglobin'\n",
       "9. 'serum.creatinine'\n",
       "10. 'AST'\n",
       "11. 'ALT'\n",
       "12. 'Gtp'\n",
       "13. 'dental.caries'\n",
       "\n",
       "\n"
      ],
      "text/plain": [
       " [1] \"height.cm.\"          \"weight.kg.\"          \"systolic\"           \n",
       " [4] \"fasting.blood.sugar\" \"Cholesterol\"         \"triglyceride\"       \n",
       " [7] \"HDL\"                 \"hemoglobin\"          \"serum.creatinine\"   \n",
       "[10] \"AST\"                 \"ALT\"                 \"Gtp\"                \n",
       "[13] \"dental.caries\"      "
      ]
     },
     "metadata": {},
     "output_type": "display_data"
    }
   ],
   "source": [
    "selection"
   ]
  },
  {
   "cell_type": "code",
   "execution_count": 37,
   "metadata": {
    "vscode": {
     "languageId": "r"
    }
   },
   "outputs": [],
   "source": [
    "model.data <- data[,c(\"smoking\",\"gender\",\"tartar\",selection)]"
   ]
  },
  {
   "cell_type": "code",
   "execution_count": 38,
   "metadata": {
    "vscode": {
     "languageId": "r"
    }
   },
   "outputs": [],
   "source": [
    "model.data[,\"smoking\"] <- as.factor(model.data[,\"smoking\"])"
   ]
  },
  {
   "cell_type": "code",
   "execution_count": 39,
   "metadata": {
    "vscode": {
     "languageId": "r"
    }
   },
   "outputs": [
    {
     "data": {
      "text/plain": [
       " smoking   gender    tartar      height.cm.      weight.kg.        systolic    \n",
       " 0:35237   F:20291   N:24752   Min.   :130.0   Min.   : 30.00   Min.   : 71.0  \n",
       " 1:20455   M:35401   Y:30940   1st Qu.:160.0   1st Qu.: 55.00   1st Qu.:112.0  \n",
       "                               Median :165.0   Median : 65.00   Median :120.0  \n",
       "                               Mean   :164.6   Mean   : 65.86   Mean   :121.5  \n",
       "                               3rd Qu.:170.0   3rd Qu.: 75.00   3rd Qu.:130.0  \n",
       "                               Max.   :190.0   Max.   :135.00   Max.   :240.0  \n",
       " fasting.blood.sugar  Cholesterol     triglyceride        HDL        \n",
       " Min.   : 46.00      Min.   : 55.0   Min.   :  8.0   Min.   :  4.00  \n",
       " 1st Qu.: 89.00      1st Qu.:172.0   1st Qu.: 74.0   1st Qu.: 47.00  \n",
       " Median : 96.00      Median :195.0   Median :108.0   Median : 55.00  \n",
       " Mean   : 99.31      Mean   :196.9   Mean   :126.7   Mean   : 57.29  \n",
       " 3rd Qu.:104.00      3rd Qu.:220.0   3rd Qu.:160.0   3rd Qu.: 66.00  \n",
       " Max.   :505.00      Max.   :445.0   Max.   :999.0   Max.   :618.00  \n",
       "   hemoglobin    serum.creatinine       AST               ALT         \n",
       " Min.   : 4.90   Min.   : 0.1000   Min.   :   6.00   Min.   :   1.00  \n",
       " 1st Qu.:13.60   1st Qu.: 0.8000   1st Qu.:  19.00   1st Qu.:  15.00  \n",
       " Median :14.80   Median : 0.9000   Median :  23.00   Median :  21.00  \n",
       " Mean   :14.62   Mean   : 0.8857   Mean   :  26.18   Mean   :  27.04  \n",
       " 3rd Qu.:15.80   3rd Qu.: 1.0000   3rd Qu.:  28.00   3rd Qu.:  31.00  \n",
       " Max.   :21.10   Max.   :11.6000   Max.   :1311.00   Max.   :2914.00  \n",
       "      Gtp         dental.caries   \n",
       " Min.   :  1.00   Min.   :0.0000  \n",
       " 1st Qu.: 17.00   1st Qu.:0.0000  \n",
       " Median : 25.00   Median :0.0000  \n",
       " Mean   : 39.95   Mean   :0.2133  \n",
       " 3rd Qu.: 43.00   3rd Qu.:0.0000  \n",
       " Max.   :999.00   Max.   :1.0000  "
      ]
     },
     "metadata": {},
     "output_type": "display_data"
    }
   ],
   "source": [
    "summary(model.data)"
   ]
  },
  {
   "cell_type": "markdown",
   "metadata": {},
   "source": [
    "### Split dataset into training and test set"
   ]
  },
  {
   "cell_type": "code",
   "execution_count": 40,
   "metadata": {
    "vscode": {
     "languageId": "r"
    }
   },
   "outputs": [],
   "source": [
    "n <- length(model.data[,1])\n",
    "index <- sample(1:n,n,replace=FALSE)\n",
    "model.data <- model.data[index,]\n",
    "seventyPercentLimit <- round(length(model.data[,1]) * 0.7,0)\n",
    "model.data.train <- model.data[1:seventyPercentLimit,]\n",
    "model.data.test <- model.data[(seventyPercentLimit+1):n,]"
   ]
  },
  {
   "cell_type": "markdown",
   "metadata": {},
   "source": [
    "### Compute model"
   ]
  },
  {
   "cell_type": "code",
   "execution_count": 41,
   "metadata": {
    "vscode": {
     "languageId": "r"
    }
   },
   "outputs": [],
   "source": [
    "glm_model <- glm(smoking ~ ., \n",
    "                 data=model.data.train,\n",
    "                 binomial(link = \"logit\"))"
   ]
  },
  {
   "cell_type": "code",
   "execution_count": 42,
   "metadata": {
    "vscode": {
     "languageId": "r"
    }
   },
   "outputs": [
    {
     "data": {
      "text/plain": [
       "\n",
       "Call:  glm(formula = smoking ~ ., family = binomial(link = \"logit\"), \n",
       "    data = model.data.train)\n",
       "\n",
       "Coefficients:\n",
       "        (Intercept)              genderM              tartarY  \n",
       "         -7.2187074            2.9144997            0.3377710  \n",
       "         height.cm.           weight.kg.             systolic  \n",
       "          0.0235753           -0.0120319           -0.0094111  \n",
       "fasting.blood.sugar          Cholesterol         triglyceride  \n",
       "          0.0033828           -0.0023110            0.0048387  \n",
       "                HDL           hemoglobin     serum.creatinine  \n",
       "          0.0016316            0.1470883           -0.8350024  \n",
       "                AST                  ALT                  Gtp  \n",
       "         -0.0002087           -0.0057439            0.0075258  \n",
       "      dental.caries  \n",
       "          0.2920498  \n",
       "\n",
       "Degrees of Freedom: 38983 Total (i.e. Null);  38968 Residual\n",
       "Null Deviance:\t    51230 \n",
       "Residual Deviance: 36800 \tAIC: 36830"
      ]
     },
     "metadata": {},
     "output_type": "display_data"
    }
   ],
   "source": [
    "glm_model"
   ]
  },
  {
   "cell_type": "markdown",
   "metadata": {},
   "source": [
    "#### Calculate prediction error"
   ]
  },
  {
   "cell_type": "code",
   "execution_count": 43,
   "metadata": {
    "vscode": {
     "languageId": "r"
    }
   },
   "outputs": [],
   "source": [
    "X.test <- model.data.test[,c(\"gender\",\"tartar\",selection)]"
   ]
  },
  {
   "cell_type": "code",
   "execution_count": 44,
   "metadata": {
    "vscode": {
     "languageId": "r"
    }
   },
   "outputs": [],
   "source": [
    "z <- predict(glm_model,X.test)\n",
    "predictions <- round(exp(z)/(1+exp(z)))"
   ]
  },
  {
   "cell_type": "code",
   "execution_count": 45,
   "metadata": {
    "vscode": {
     "languageId": "r"
    }
   },
   "outputs": [],
   "source": [
    "y <- model.data.test[,\"smoking\"]"
   ]
  },
  {
   "cell_type": "markdown",
   "metadata": {},
   "source": [
    "##### Confusion Matrix"
   ]
  },
  {
   "cell_type": "code",
   "execution_count": 46,
   "metadata": {
    "vscode": {
     "languageId": "r"
    }
   },
   "outputs": [],
   "source": [
    "A <- matrix(0,ncol=2,nrow=2)\n",
    "\n",
    "colnames(A) <- c(\"Real: No smoker\", \" Real: Smoker\")\n",
    "rownames(A) <- c(\"Prognose: No smoker\", \"Prognose: Smoker\") \n",
    "\n",
    "A[1,1] <- sum(ifelse(y == 0 & predictions == 0, 1,0))\n",
    "A[1,2] <- sum(ifelse(y == 1 & predictions == 0, 1,0))\n",
    "A[2,1] <- sum(ifelse(y == 0 & predictions == 1, 1,0))\n",
    "A[2,2] <- sum(ifelse(y == 1 & predictions == 1, 1,0))"
   ]
  },
  {
   "cell_type": "code",
   "execution_count": 47,
   "metadata": {
    "vscode": {
     "languageId": "r"
    }
   },
   "outputs": [
    {
     "data": {
      "text/html": [
       "<table class=\"dataframe\">\n",
       "<caption>A matrix: 2 × 2 of type dbl</caption>\n",
       "<thead>\n",
       "\t<tr><th></th><th scope=col>Real: No smoker</th><th scope=col> Real: Smoker</th></tr>\n",
       "</thead>\n",
       "<tbody>\n",
       "\t<tr><th scope=row>Prognose: No smoker</th><td>8200</td><td>1929</td></tr>\n",
       "\t<tr><th scope=row>Prognose: Smoker</th><td>2340</td><td>4239</td></tr>\n",
       "</tbody>\n",
       "</table>\n"
      ],
      "text/latex": [
       "A matrix: 2 × 2 of type dbl\n",
       "\\begin{tabular}{r|ll}\n",
       "  & Real: No smoker &  Real: Smoker\\\\\n",
       "\\hline\n",
       "\tPrognose: No smoker & 8200 & 1929\\\\\n",
       "\tPrognose: Smoker & 2340 & 4239\\\\\n",
       "\\end{tabular}\n"
      ],
      "text/markdown": [
       "\n",
       "A matrix: 2 × 2 of type dbl\n",
       "\n",
       "| <!--/--> | Real: No smoker |  Real: Smoker |\n",
       "|---|---|---|\n",
       "| Prognose: No smoker | 8200 | 1929 |\n",
       "| Prognose: Smoker | 2340 | 4239 |\n",
       "\n"
      ],
      "text/plain": [
       "                    Real: No smoker  Real: Smoker\n",
       "Prognose: No smoker 8200            1929         \n",
       "Prognose: Smoker    2340            4239         "
      ]
     },
     "metadata": {},
     "output_type": "display_data"
    }
   ],
   "source": [
    "A"
   ]
  },
  {
   "cell_type": "markdown",
   "metadata": {},
   "source": [
    "##### True-Positive-Rate & True-Negative-Rate"
   ]
  },
  {
   "cell_type": "code",
   "execution_count": 48,
   "metadata": {
    "vscode": {
     "languageId": "r"
    }
   },
   "outputs": [
    {
     "data": {
      "text/html": [
       "0.687256809338521"
      ],
      "text/latex": [
       "0.687256809338521"
      ],
      "text/markdown": [
       "0.687256809338521"
      ],
      "text/plain": [
       "[1] 0.6872568"
      ]
     },
     "metadata": {},
     "output_type": "display_data"
    },
    {
     "data": {
      "text/html": [
       "0.777988614800759"
      ],
      "text/latex": [
       "0.777988614800759"
      ],
      "text/markdown": [
       "0.777988614800759"
      ],
      "text/plain": [
       "[1] 0.7779886"
      ]
     },
     "metadata": {},
     "output_type": "display_data"
    }
   ],
   "source": [
    "A[2,2]/(A[1,2]+A[2,2])   # True-Positive-Rate\n",
    "A[1,1]/(A[1,1]+A[2,1])   # True-Negative-Rate"
   ]
  }
 ],
 "metadata": {
  "kernelspec": {
   "display_name": "R",
   "language": "R",
   "name": "ir"
  },
  "language_info": {
   "codemirror_mode": "r",
   "file_extension": ".r",
   "mimetype": "text/x-r-source",
   "name": "R",
   "pygments_lexer": "r",
   "version": "4.1.3"
  },
  "orig_nbformat": 4
 },
 "nbformat": 4,
 "nbformat_minor": 2
}
